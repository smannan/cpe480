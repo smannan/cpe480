{
 "cells": [
  {
   "cell_type": "markdown",
   "metadata": {},
   "source": [
    "## Summary of data\n",
    "## Properties from San Jose, CA\n",
    "## 6099 condos\n",
    "## 92 different neighborhoods"
   ]
  },
  {
   "cell_type": "code",
   "execution_count": 1,
   "metadata": {
    "collapsed": true
   },
   "outputs": [],
   "source": [
    "PROPERTY_TYPES = ['condo', 'townhouse', 'multiunit', 'singlefamily']\n",
    "TRESH = 0.15\n",
    "NUM_BINS = 5\n",
    "BINS = []\n",
    "\n",
    "MONTHS = ['Jan', 'Feb', 'Mar', 'Apr', 'May', \n",
    "          'Jun', 'Jul', 'Aug', 'Sep', 'Oct',\n",
    "         'Nov', 'Dec']\n",
    "\n",
    "COLS_EXCLUDE = ['Median Sale Price','Region','neighborhood',\n",
    "                'location','city','property_type','state',\n",
    "                'Month of Period End', 'Median_Sale_Price_Bin', 'neighborhood_num']"
   ]
  },
  {
   "cell_type": "code",
   "execution_count": 2,
   "metadata": {
    "collapsed": false
   },
   "outputs": [],
   "source": [
    "import csv\n",
    "import itertools\n",
    "import pandas as pd\n",
    "import numpy as np\n",
    "import math\n",
    "import matplotlib.pyplot as plt\n",
    "import matplotlib.patches as patches\n",
    "import matplotlib.path as path\n",
    "\n",
    "from sklearn.cross_validation import train_test_split\n",
    "from sklearn import linear_model\n",
    "from sklearn import ensemble \n",
    "from sklearn.metrics import confusion_matrix\n",
    "from string import punctuation"
   ]
  },
  {
   "cell_type": "code",
   "execution_count": 3,
   "metadata": {
    "collapsed": true
   },
   "outputs": [],
   "source": [
    "def make_histogram(data, bins):\n",
    "    fig, ax = plt.subplots()\n",
    "\n",
    "    # histogram our data with numpy\n",
    "    n, bins = np.histogram(data, bins)\n",
    "\n",
    "    # get the corners of the rectangles for the histogram\n",
    "    left = np.array(bins[:-1])\n",
    "    right = np.array(bins[1:])\n",
    "    bottom = np.zeros(len(left))\n",
    "    top = bottom + n\n",
    "\n",
    "\n",
    "    # we need a (numrects x numsides x 2) numpy array for the path helper\n",
    "    # function to build a compound path\n",
    "    XY = np.array([[left, left, right, right], [bottom, top, top, bottom]]).T\n",
    "\n",
    "    # get the Path object\n",
    "    barpath = path.Path.make_compound_path_from_polys(XY)\n",
    "\n",
    "    # make a patch out of it\n",
    "    patch = patches.PathPatch(barpath)\n",
    "    ax.add_patch(patch)\n",
    "\n",
    "    # update the view limits\n",
    "    ax.set_xlim(left[0], right[-1])\n",
    "    ax.set_ylim(bottom.min(), top.max())\n",
    "\n",
    "    plt.show()"
   ]
  },
  {
   "cell_type": "code",
   "execution_count": 4,
   "metadata": {
    "collapsed": true
   },
   "outputs": [],
   "source": [
    "def plot_confusion_matrix(cm, classes,\n",
    "                          normalize=False,\n",
    "                          title='Confusion matrix',\n",
    "                          cmap=plt.cm.Blues):\n",
    "    \"\"\"\n",
    "    This function prints and plots the confusion matrix.\n",
    "    Normalization can be applied by setting `normalize=True`.\n",
    "    \"\"\"\n",
    "    plt.imshow(cm, interpolation='nearest', cmap=cmap)\n",
    "    plt.title(title)\n",
    "    plt.colorbar()\n",
    "    tick_marks = np.arange(len(classes))\n",
    "    plt.xticks(tick_marks, classes, rotation=45)\n",
    "    plt.yticks(tick_marks, classes)\n",
    "\n",
    "    if normalize:\n",
    "        cm = cm.astype('float') / cm.sum(axis=1)[:, np.newaxis]\n",
    "        print(\"Normalized confusion matrix\")\n",
    "    else:\n",
    "        print('Confusion matrix, without normalization')\n",
    "\n",
    "    print(cm)\n",
    "\n",
    "    thresh = cm.max() / 2.\n",
    "    for i, j in itertools.product(range(cm.shape[0]), range(cm.shape[1])):\n",
    "        plt.text(j, i, np.around(cm[i, j], 2),\n",
    "                 horizontalalignment=\"center\",\n",
    "                 color=\"white\" if cm[i, j] > thresh else \"black\")\n",
    "\n",
    "    plt.tight_layout()\n",
    "    plt.ylabel('True label')\n",
    "    plt.xlabel('Predicted label')"
   ]
  },
  {
   "cell_type": "code",
   "execution_count": 5,
   "metadata": {
    "collapsed": true
   },
   "outputs": [],
   "source": [
    "# convert string percentages to numerical\n",
    "def convert_percentage(df):\n",
    "    for col in df.columns:\n",
    "        c = col.split(\" \")\n",
    "        if c[-1] == \"MoM\" or c[-1] == \"YoY\": \n",
    "            df[col] = [float(str(x).strip(\"%\")) for x in df[col]]\n",
    "    \n",
    "    df['Average Sale To List'] = [float(str(x).strip(\"%\")) for x in df['Average Sale To List']]"
   ]
  },
  {
   "cell_type": "code",
   "execution_count": 6,
   "metadata": {
    "collapsed": false
   },
   "outputs": [],
   "source": [
    "### read in data\n",
    "def read_data(filename, property_type):\n",
    "    df = pd.read_csv(filename)\n",
    "    df.columns = [x.strip(\" \") for x in df.columns]\n",
    "    df['property_type'] = property_type\n",
    "    df['property_type_num'] = PROPERTY_TYPES.index(property_type)\n",
    "    df.head()\n",
    "    return (df)"
   ]
  },
  {
   "cell_type": "code",
   "execution_count": 7,
   "metadata": {
    "collapsed": false
   },
   "outputs": [],
   "source": [
    "### add columns for city, state, and neighborhood\n",
    "def parse_region(df):\n",
    "    df['location'] = [x.split(\",\") for x in df.Region]\n",
    "    df['city'] = [x[0].strip(\",\").lower() for x in df.location]\n",
    "    df['state'] = [x[1].split(\" \")[1].lower().strip() for x in df.location]\n",
    "    df['neighborhood'] = [x[1].split(\" \")[3].strip().lower() for x in df.location]\n",
    "    df = df[df.city == 'san jose']\n",
    "    df.head()"
   ]
  },
  {
   "cell_type": "code",
   "execution_count": 8,
   "metadata": {
    "collapsed": false
   },
   "outputs": [],
   "source": [
    "### convert Median Sale Price to a float\n",
    "def convert_med_sale_pr(df):\n",
    "    df[u'Median Sale Price'] = [x.strip(\"$\").replace(\",\", \"\") for x in df[\"Median Sale Price\"]]\n",
    "    df[u'Median Sale Price'] = [int(x) if x[len(x)-1] != \"K\" else int(x.strip(\"K\"))*1000 \n",
    "                                for x in df[\"Median Sale Price\"]]"
   ]
  },
  {
   "cell_type": "code",
   "execution_count": 9,
   "metadata": {
    "collapsed": false
   },
   "outputs": [],
   "source": [
    "### convert neighborhood to a numerical value\n",
    "def convert_neighborhood(df):\n",
    "    neighborhoods = df.neighborhood.unique()\n",
    "    df['neighborhood_num'] = [np.where(neighborhoods == x)[0][0] for x in df.neighborhood]"
   ]
  },
  {
   "cell_type": "code",
   "execution_count": 10,
   "metadata": {
    "collapsed": true
   },
   "outputs": [],
   "source": [
    "# encode catgorial variable so that it can be used\n",
    "# in regression\n",
    "def encode_categorial(df):\n",
    "    neighborhoods = df.neighborhood.unique()\n",
    "    for n in neighborhoods:\n",
    "        df[n] = [1 if x == n else 0 for x in df.neighborhood]\n",
    "    return (df)"
   ]
  },
  {
   "cell_type": "code",
   "execution_count": 11,
   "metadata": {
    "collapsed": true
   },
   "outputs": [],
   "source": [
    "# take median sale prices, bin, and add a column \n",
    "# that represents price ranges\n",
    "def bin_med_sale_pr(df, bins):\n",
    "    med_sale_pr = df['Median Sale Price']\n",
    "    bins = np.linspace(med_sale_pr.min(), med_sale_pr.max(), bins)\n",
    "    digitized = np.digitize(med_sale_pr, bins)\n",
    "    df['Median_Sale_Price_Bin'] = digitized\n",
    "    return (df, bins)"
   ]
  },
  {
   "cell_type": "code",
   "execution_count": 12,
   "metadata": {
    "collapsed": true
   },
   "outputs": [],
   "source": [
    "# Take date and turn it into month and year\n",
    "def parse_date(df):\n",
    "    df['Month of Period End'] = [x.replace('-', ' ') for x in df['Month of Period End']]\n",
    "    df['Month'] = [MONTHS.index(x.split(' ')[0][:3]) for x in df['Month of Period End']]\n",
    "    df['Year'] = [int(x.split(' ')[1]) for x in df['Month of Period End']]\n",
    "    return (df)"
   ]
  },
  {
   "cell_type": "code",
   "execution_count": 13,
   "metadata": {
    "collapsed": true
   },
   "outputs": [],
   "source": [
    "def filter_prices(df, high, low):\n",
    "    t_cutoff = np.percentile(sorted(df['Median Sale Price']), high)\n",
    "    b_cutoff = np.percentile(sorted(df['Median Sale Price']), low)\n",
    "    df = df[df['Median Sale Price'] <= t_cutoff]\n",
    "    df = df[df['Median Sale Price'] >= b_cutoff]\n",
    "    return (df)"
   ]
  },
  {
   "cell_type": "code",
   "execution_count": 14,
   "metadata": {
    "collapsed": false
   },
   "outputs": [],
   "source": [
    "### given the filename and property type return\n",
    "### a dataframe with string fields converted to\n",
    "### numerical and regions parsed out\n",
    "def clean_data(filename, property_type):\n",
    "    df = read_data(filename, property_type)\n",
    "    convert_med_sale_pr(df)\n",
    "    parse_region(df)\n",
    "    convert_percentage(df)\n",
    "    convert_neighborhood(df)\n",
    "    df = parse_date(df)\n",
    "    df = filter_prices(df, 75, 10)\n",
    "    return (df)"
   ]
  },
  {
   "cell_type": "code",
   "execution_count": 15,
   "metadata": {
    "collapsed": true
   },
   "outputs": [],
   "source": [
    "# merge several dataframes together\n",
    "# files = list of tuples, \n",
    "# each tuple should contain filename first then property type\n",
    "\n",
    "# How to deal with NA's? fill with 0 for now ...\n",
    "def merge_data(files):\n",
    "    frames = []\n",
    "    for f in files:\n",
    "        frames.append(clean_data(f[0], f[1]))\n",
    "    \n",
    "    df = pd.concat(frames).fillna(method='ffill')\n",
    "    return (df)"
   ]
  },
  {
   "cell_type": "code",
   "execution_count": 16,
   "metadata": {
    "collapsed": true
   },
   "outputs": [],
   "source": [
    "# x_train has 70% of the dataset\n",
    "# x_test has 30% of the dataset\n",
    "# ignore y_train and y_test\n",
    "# Regression: Train on x_train, remove non-numerical columns first!\n",
    "# Test on x_test\n",
    "\n",
    "# splits dataset up into training (70%) and testing (30%) sets\n",
    "# evenly based on neighborhood\n",
    "\n",
    "def split_test_train(total, stratify_col):\n",
    "    total2 = total.copy(deep=True)\n",
    "    y = total2[stratify_col]\n",
    "    x = total2\n",
    "    x_train, x_test, y_train, y_test = train_test_split(x, y, test_size = 0.3, random_state = 42)\n",
    "    return (x_train, x_test, y_train, y_test)"
   ]
  },
  {
   "cell_type": "code",
   "execution_count": 17,
   "metadata": {
    "collapsed": true
   },
   "outputs": [],
   "source": [
    "# fits a regression model to a training set\n",
    "def model(x_train, model, label, cols_exclude=COLS_EXCLUDE):\n",
    "    X = x_train.loc[:, x_train.columns.difference(cols_exclude)]\n",
    "    Y = x_train.loc[:, label]\n",
    "    model.fit(X, Y)\n",
    "    return (model)"
   ]
  },
  {
   "cell_type": "code",
   "execution_count": 18,
   "metadata": {
    "collapsed": true
   },
   "outputs": [],
   "source": [
    "def predict(x_test, model, label):\n",
    "    X_test = x_test.loc[:, x_train.columns.difference(COLS_EXCLUDE)]\n",
    "    Y_test = x_test.loc[:, label]\n",
    "    return (model.predict(X_test), Y_test)\n"
   ]
  },
  {
   "cell_type": "code",
   "execution_count": 19,
   "metadata": {
    "collapsed": false
   },
   "outputs": [],
   "source": [
    "# how many of the predicted prices were within\n",
    "# thresh % of the actual price?\n",
    "# return a ratio\n",
    "\n",
    "def evaluate(y_pred, y_test, thresh):\n",
    "    assert len(y_pred) == len(y_test)\n",
    "    result = []\n",
    "    for (pred, test) in zip(y_pred, y_test):\n",
    "        result.append(math.fabs((test-pred)/test) <= thresh)\n",
    "    \n",
    "    return (float(sum(result))/float(len(result)))"
   ]
  },
  {
   "cell_type": "code",
   "execution_count": 20,
   "metadata": {
    "collapsed": false
   },
   "outputs": [],
   "source": [
    "files = [('sanjose_condos.csv', PROPERTY_TYPES[0]), ('sanjose_townhouse2.csv', PROPERTY_TYPES[1]),\n",
    "        ('sanjose_multiunit.csv', PROPERTY_TYPES[2]), (\"sanjose_singlefamily.csv\", PROPERTY_TYPES[3])]\n",
    "total = merge_data(files)\n",
    "total, bins = bin_med_sale_pr(total, NUM_BINS)"
   ]
  },
  {
   "cell_type": "code",
   "execution_count": 21,
   "metadata": {
    "collapsed": false
   },
   "outputs": [
    {
     "data": {
      "text/plain": [
       "Index([u'Region', u'Month of Period End', u'Median Sale Price',\n",
       "       u'Median Sale Price MoM', u'Median Sale Price YoY', u'Homes Sold',\n",
       "       u'Homes Sold MoM', u'Homes Sold YoY', u'New Listings',\n",
       "       u'New Listings MoM', u'New Listings YoY', u'Inventory',\n",
       "       u'Inventory MoM', u'Inventory YoY', u'Days on Market',\n",
       "       u'Days on Market MoM', u'Days on Market YoY', u'Average Sale To List',\n",
       "       u'Average Sale To List MoM', u'Average Sale To List YoY',\n",
       "       u'property_type', u'property_type_num', u'location', u'city', u'state',\n",
       "       u'neighborhood', u'neighborhood_num', u'Month', u'Year',\n",
       "       u'Median_Sale_Price_Bin'],\n",
       "      dtype='object')"
      ]
     },
     "execution_count": 21,
     "metadata": {},
     "output_type": "execute_result"
    }
   ],
   "source": [
    "total.columns"
   ]
  },
  {
   "cell_type": "code",
   "execution_count": 22,
   "metadata": {
    "collapsed": false
   },
   "outputs": [
    {
     "data": {
      "text/html": [
       "<div>\n",
       "<table border=\"1\" class=\"dataframe\">\n",
       "  <thead>\n",
       "    <tr style=\"text-align: right;\">\n",
       "      <th></th>\n",
       "      <th>Region</th>\n",
       "      <th>Month of Period End</th>\n",
       "      <th>Median Sale Price</th>\n",
       "      <th>Median Sale Price MoM</th>\n",
       "      <th>Median Sale Price YoY</th>\n",
       "      <th>Homes Sold</th>\n",
       "      <th>Homes Sold MoM</th>\n",
       "      <th>Homes Sold YoY</th>\n",
       "      <th>New Listings</th>\n",
       "      <th>New Listings MoM</th>\n",
       "      <th>...</th>\n",
       "      <th>property_type</th>\n",
       "      <th>property_type_num</th>\n",
       "      <th>location</th>\n",
       "      <th>city</th>\n",
       "      <th>state</th>\n",
       "      <th>neighborhood</th>\n",
       "      <th>neighborhood_num</th>\n",
       "      <th>Month</th>\n",
       "      <th>Year</th>\n",
       "      <th>Median_Sale_Price_Bin</th>\n",
       "    </tr>\n",
       "  </thead>\n",
       "  <tbody>\n",
       "    <tr>\n",
       "      <th>41</th>\n",
       "      <td>San Jose, CA - Alexander</td>\n",
       "      <td>June 2015</td>\n",
       "      <td>352000</td>\n",
       "      <td>6.3</td>\n",
       "      <td>30.6</td>\n",
       "      <td>3</td>\n",
       "      <td>-25.0</td>\n",
       "      <td>-25.0</td>\n",
       "      <td>9.0</td>\n",
       "      <td>-10.0</td>\n",
       "      <td>...</td>\n",
       "      <td>condo</td>\n",
       "      <td>0</td>\n",
       "      <td>[San Jose,  CA - Alexander]</td>\n",
       "      <td>san jose</td>\n",
       "      <td>ca</td>\n",
       "      <td>alexander</td>\n",
       "      <td>0</td>\n",
       "      <td>5</td>\n",
       "      <td>2015</td>\n",
       "      <td>1</td>\n",
       "    </tr>\n",
       "    <tr>\n",
       "      <th>45</th>\n",
       "      <td>San Jose, CA - Alexander</td>\n",
       "      <td>October 2015</td>\n",
       "      <td>335000</td>\n",
       "      <td>7.0</td>\n",
       "      <td>35.6</td>\n",
       "      <td>8</td>\n",
       "      <td>-27.3</td>\n",
       "      <td>33.3</td>\n",
       "      <td>10.0</td>\n",
       "      <td>11.1</td>\n",
       "      <td>...</td>\n",
       "      <td>condo</td>\n",
       "      <td>0</td>\n",
       "      <td>[San Jose,  CA - Alexander]</td>\n",
       "      <td>san jose</td>\n",
       "      <td>ca</td>\n",
       "      <td>alexander</td>\n",
       "      <td>0</td>\n",
       "      <td>9</td>\n",
       "      <td>2015</td>\n",
       "      <td>1</td>\n",
       "    </tr>\n",
       "    <tr>\n",
       "      <th>47</th>\n",
       "      <td>San Jose, CA - Alexander</td>\n",
       "      <td>December 2015</td>\n",
       "      <td>345000</td>\n",
       "      <td>16.7</td>\n",
       "      <td>20.0</td>\n",
       "      <td>12</td>\n",
       "      <td>100.0</td>\n",
       "      <td>100.0</td>\n",
       "      <td>12.0</td>\n",
       "      <td>0.0</td>\n",
       "      <td>...</td>\n",
       "      <td>condo</td>\n",
       "      <td>0</td>\n",
       "      <td>[San Jose,  CA - Alexander]</td>\n",
       "      <td>san jose</td>\n",
       "      <td>ca</td>\n",
       "      <td>alexander</td>\n",
       "      <td>0</td>\n",
       "      <td>11</td>\n",
       "      <td>2015</td>\n",
       "      <td>1</td>\n",
       "    </tr>\n",
       "    <tr>\n",
       "      <th>48</th>\n",
       "      <td>San Jose, CA - Alexander</td>\n",
       "      <td>January 2016</td>\n",
       "      <td>338000</td>\n",
       "      <td>-2.2</td>\n",
       "      <td>25.0</td>\n",
       "      <td>14</td>\n",
       "      <td>16.7</td>\n",
       "      <td>180.0</td>\n",
       "      <td>9.0</td>\n",
       "      <td>-25.0</td>\n",
       "      <td>...</td>\n",
       "      <td>condo</td>\n",
       "      <td>0</td>\n",
       "      <td>[San Jose,  CA - Alexander]</td>\n",
       "      <td>san jose</td>\n",
       "      <td>ca</td>\n",
       "      <td>alexander</td>\n",
       "      <td>0</td>\n",
       "      <td>0</td>\n",
       "      <td>2016</td>\n",
       "      <td>1</td>\n",
       "    </tr>\n",
       "    <tr>\n",
       "      <th>49</th>\n",
       "      <td>San Jose, CA - Alexander</td>\n",
       "      <td>February 2016</td>\n",
       "      <td>365000</td>\n",
       "      <td>8.1</td>\n",
       "      <td>29.2</td>\n",
       "      <td>13</td>\n",
       "      <td>-7.1</td>\n",
       "      <td>116.7</td>\n",
       "      <td>6.0</td>\n",
       "      <td>-33.3</td>\n",
       "      <td>...</td>\n",
       "      <td>condo</td>\n",
       "      <td>0</td>\n",
       "      <td>[San Jose,  CA - Alexander]</td>\n",
       "      <td>san jose</td>\n",
       "      <td>ca</td>\n",
       "      <td>alexander</td>\n",
       "      <td>0</td>\n",
       "      <td>1</td>\n",
       "      <td>2016</td>\n",
       "      <td>1</td>\n",
       "    </tr>\n",
       "  </tbody>\n",
       "</table>\n",
       "<p>5 rows × 30 columns</p>\n",
       "</div>"
      ],
      "text/plain": [
       "                      Region Month of Period End  Median Sale Price  \\\n",
       "41  San Jose, CA - Alexander           June 2015             352000   \n",
       "45  San Jose, CA - Alexander        October 2015             335000   \n",
       "47  San Jose, CA - Alexander       December 2015             345000   \n",
       "48  San Jose, CA - Alexander        January 2016             338000   \n",
       "49  San Jose, CA - Alexander       February 2016             365000   \n",
       "\n",
       "    Median Sale Price MoM  Median Sale Price YoY  Homes Sold  Homes Sold MoM  \\\n",
       "41                    6.3                   30.6           3           -25.0   \n",
       "45                    7.0                   35.6           8           -27.3   \n",
       "47                   16.7                   20.0          12           100.0   \n",
       "48                   -2.2                   25.0          14            16.7   \n",
       "49                    8.1                   29.2          13            -7.1   \n",
       "\n",
       "    Homes Sold YoY  New Listings  New Listings MoM          ...            \\\n",
       "41           -25.0           9.0             -10.0          ...             \n",
       "45            33.3          10.0              11.1          ...             \n",
       "47           100.0          12.0               0.0          ...             \n",
       "48           180.0           9.0             -25.0          ...             \n",
       "49           116.7           6.0             -33.3          ...             \n",
       "\n",
       "    property_type  property_type_num                     location      city  \\\n",
       "41          condo                  0  [San Jose,  CA - Alexander]  san jose   \n",
       "45          condo                  0  [San Jose,  CA - Alexander]  san jose   \n",
       "47          condo                  0  [San Jose,  CA - Alexander]  san jose   \n",
       "48          condo                  0  [San Jose,  CA - Alexander]  san jose   \n",
       "49          condo                  0  [San Jose,  CA - Alexander]  san jose   \n",
       "\n",
       "    state  neighborhood  neighborhood_num  Month  Year  Median_Sale_Price_Bin  \n",
       "41     ca     alexander                 0      5  2015                      1  \n",
       "45     ca     alexander                 0      9  2015                      1  \n",
       "47     ca     alexander                 0     11  2015                      1  \n",
       "48     ca     alexander                 0      0  2016                      1  \n",
       "49     ca     alexander                 0      1  2016                      1  \n",
       "\n",
       "[5 rows x 30 columns]"
      ]
     },
     "execution_count": 22,
     "metadata": {},
     "output_type": "execute_result"
    }
   ],
   "source": [
    "total.head()"
   ]
  },
  {
   "cell_type": "markdown",
   "metadata": {},
   "source": [
    "### Linear Regression Model to predict median sale price from feature list"
   ]
  },
  {
   "cell_type": "code",
   "execution_count": 23,
   "metadata": {
    "collapsed": false
   },
   "outputs": [
    {
     "name": "stdout",
     "output_type": "stream",
     "text": [
      "('Average Sale To List', 7916.496842507624)\n",
      "('Average Sale To List MoM', -2162.9746605596624)\n",
      "('Average Sale To List YoY', -4216.8077561138298)\n",
      "('Days on Market', 53.761880797988944)\n",
      "('Days on Market MoM', -70.096795753078396)\n",
      "('Days on Market YoY', 213.46751174946803)\n",
      "('Homes Sold', 4.2455966469604052)\n",
      "('Homes Sold MoM', -11.568599106665117)\n",
      "('Homes Sold YoY', 11.35603398629944)\n",
      "('Inventory', -2.7095530322102754)\n",
      "('Inventory MoM', -11.470731427016972)\n",
      "('Inventory YoY', 48.219501309930699)\n",
      "('Median Sale Price MoM', 859.39023484305483)\n",
      "('Median Sale Price YoY', 362.7973834410181)\n",
      "('Month', 3170.2235829674519)\n",
      "('New Listings', 2.4468645295694795)\n",
      "('New Listings MoM', -22.969770603563362)\n",
      "('New Listings YoY', 80.487367621710888)\n",
      "('Year', 67.981796831973995)\n"
     ]
    },
    {
     "name": "stderr",
     "output_type": "stream",
     "text": [
      "//anaconda/lib/python2.7/site-packages/sklearn/linear_model/coordinate_descent.py:466: ConvergenceWarning: Objective did not converge. You might want to increase the number of iterations\n",
      "  ConvergenceWarning)\n"
     ]
    }
   ],
   "source": [
    "lin_reg_df = encode_categorial(total.copy())\n",
    "x_train, x_test, _, _ = split_test_train(lin_reg_df, 'Median_Sale_Price_Bin')\n",
    "reg = model(x_train, linear_model.Lasso(alpha=0.5), 'Median Sale Price')\n",
    "\n",
    "np.set_printoptions(precision=3, suppress=True)\n",
    "cols = x_train.loc[:, x_train.columns.difference(COLS_EXCLUDE)].columns[:19]\n",
    "coeff = np.array(reg.coef_)[:19]\n",
    "\n",
    "for (col, coeff) in zip(cols, coeff):\n",
    "    print (col,coeff)"
   ]
  },
  {
   "cell_type": "code",
   "execution_count": 24,
   "metadata": {
    "collapsed": false
   },
   "outputs": [],
   "source": [
    "Y_pred, Y_test = predict(x_test, reg, 'Median Sale Price')"
   ]
  },
  {
   "cell_type": "code",
   "execution_count": 25,
   "metadata": {
    "collapsed": false
   },
   "outputs": [
    {
     "name": "stdout",
     "output_type": "stream",
     "text": [
      "0.222148541114\n",
      "0.417108753316\n",
      "0.612400530504\n",
      "0.829907161804\n"
     ]
    }
   ],
   "source": [
    "for t in [0.05, 0.10, 0.15, 0.25]:\n",
    "    print (evaluate(Y_pred, Y_test, t))"
   ]
  },
  {
   "cell_type": "markdown",
   "metadata": {},
   "source": [
    "### Look at price distribution in training and test sets"
   ]
  },
  {
   "cell_type": "code",
   "execution_count": 26,
   "metadata": {
    "collapsed": false
   },
   "outputs": [
    {
     "data": {
      "image/png": "[encoded data removed]",
      "text/plain": [
       "<matplotlib.figure.Figure at 0x10520bb90>"
      ]
     },
     "metadata": {},
     "output_type": "display_data"
    }
   ],
   "source": [
    "make_histogram(x_train['Median Sale Price'], 50)"
   ]
  },
  {
   "cell_type": "code",
   "execution_count": 27,
   "metadata": {
    "collapsed": false
   },
   "outputs": [
    {
     "data": {
      "image/png": "[encoded data removed]",
      "text/plain": [
       "<matplotlib.figure.Figure at 0x118609250>"
      ]
     },
     "metadata": {},
     "output_type": "display_data"
    }
   ],
   "source": [
    "make_histogram(x_test['Median Sale Price'], 50)"
   ]
  },
  {
   "cell_type": "markdown",
   "metadata": {
    "collapsed": true
   },
   "source": [
    "### Decision tree classifier"
   ]
  },
  {
   "cell_type": "code",
   "execution_count": 30,
   "metadata": {
    "collapsed": false
   },
   "outputs": [],
   "source": [
    "x_train, x_test, _, _ = split_test_train(total, 'Median_Sale_Price_Bin')\n",
    "r_forest = model(x_train, ensemble.RandomForestClassifier(n_estimators=1000), \n",
    "                 'Median_Sale_Price_Bin')"
   ]
  },
  {
   "cell_type": "code",
   "execution_count": 31,
   "metadata": {
    "collapsed": false
   },
   "outputs": [],
   "source": [
    "Y_pred, Y_test = predict(x_test, r_forest, 'Median_Sale_Price_Bin')"
   ]
  },
  {
   "cell_type": "code",
   "execution_count": 32,
   "metadata": {
    "collapsed": false
   },
   "outputs": [
    {
     "data": {
      "text/plain": [
       "3016"
      ]
     },
     "execution_count": 32,
     "metadata": {},
     "output_type": "execute_result"
    }
   ],
   "source": [
    "len(Y_pred)"
   ]
  },
  {
   "cell_type": "code",
   "execution_count": 33,
   "metadata": {
    "collapsed": false
   },
   "outputs": [
    {
     "data": {
      "text/plain": [
       "3016"
      ]
     },
     "execution_count": 33,
     "metadata": {},
     "output_type": "execute_result"
    }
   ],
   "source": [
    "len(Y_test)"
   ]
  },
  {
   "cell_type": "code",
   "execution_count": 34,
   "metadata": {
    "collapsed": false
   },
   "outputs": [
    {
     "name": "stdout",
     "output_type": "stream",
     "text": [
      "(array([2, 2, 2, 2, 3, 2, 2, 2, 2, 1]), array([1, 2, 3, 4]))\n"
     ]
    }
   ],
   "source": [
    "print (Y_pred[:10], np.unique(Y_pred))"
   ]
  },
  {
   "cell_type": "code",
   "execution_count": 35,
   "metadata": {
    "collapsed": false
   },
   "outputs": [
    {
     "data": {
      "text/plain": [
       "1681    2\n",
       "445     3\n",
       "3454    2\n",
       "3556    2\n",
       "291     3\n",
       "116     3\n",
       "2353    2\n",
       "5550    1\n",
       "1882    3\n",
       "1216    1\n",
       "Name: Median_Sale_Price_Bin, dtype: int64"
      ]
     },
     "execution_count": 35,
     "metadata": {},
     "output_type": "execute_result"
    }
   ],
   "source": [
    "Y_test[:10]"
   ]
  },
  {
   "cell_type": "code",
   "execution_count": 36,
   "metadata": {
    "collapsed": false
   },
   "outputs": [
    {
     "name": "stdout",
     "output_type": "stream",
     "text": [
      "Normalized confusion matrix\n",
      "[[ 0.548  0.321  0.129  0.002]\n",
      " [ 0.073  0.702  0.195  0.029]\n",
      " [ 0.029  0.311  0.609  0.051]\n",
      " [ 0.023  0.222  0.394  0.362]]\n"
     ]
    }
   ],
   "source": [
    "cm = confusion_matrix(Y_test, Y_pred)\n",
    "plot_confusion_matrix(cm, np.unique(Y_pred), normalize=True)"
   ]
  },
  {
   "cell_type": "code",
   "execution_count": 37,
   "metadata": {
    "collapsed": false
   },
   "outputs": [
    {
     "data": {
      "image/png": "[encoded data removed]",
      "text/plain": [
       "<matplotlib.figure.Figure at 0x100776a10>"
      ]
     },
     "metadata": {},
     "output_type": "display_data"
    }
   ],
   "source": [
    "plt.show()"
   ]
  },
  {
   "cell_type": "markdown",
   "metadata": {
    "collapsed": true
   },
   "source": [
    "The diagonal elements represent the number of points for which the predicted label is equal to the true label, while off-diagonal elements are those that are mislabeled by the classifier. The higher the diagonal values of the confusion matrix the better, indicating many correct predictions."
   ]
  },
  {
   "cell_type": "code",
   "execution_count": 38,
   "metadata": {
    "collapsed": false
   },
   "outputs": [
    {
     "name": "stdout",
     "output_type": "stream",
     "text": [
      "[ 285000.  443250.  601500.  759750.  918000.]\n"
     ]
    }
   ],
   "source": [
    "print (bins)"
   ]
  },
  {
   "cell_type": "code",
   "execution_count": null,
   "metadata": {
    "collapsed": true
   },
   "outputs": [],
   "source": []
  }
 ],
 "metadata": {
  "anaconda-cloud": {},
  "kernelspec": {
   "display_name": "Python [conda root]",
   "language": "python",
   "name": "conda-root-py"
  },
  "language_info": {
   "codemirror_mode": {
    "name": "ipython",
    "version": 2
   },
   "file_extension": ".py",
   "mimetype": "text/x-python",
   "name": "python",
   "nbconvert_exporter": "python",
   "pygments_lexer": "ipython2",
   "version": "2.7.12"
  }
 },
 "nbformat": 4,
 "nbformat_minor": 1
}

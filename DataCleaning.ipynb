{
 "cells": [
  {
   "cell_type": "markdown",
   "metadata": {},
   "source": [
    "## Summary of data\n",
    "## Properties from San Jose, CA\n",
    "## 6099 condos\n",
    "## 92 different neighborhoods"
   ]
  },
  {
   "cell_type": "code",
   "execution_count": 1,
   "metadata": {
    "collapsed": false
   },
   "outputs": [],
   "source": [
    "import csv\n",
    "import pandas as pd\n",
    "import numpy as np\n",
    "import matplotlib.pyplot as plt\n",
    "import matplotlib.patches as patches\n",
    "import matplotlib.path as path\n",
    "\n",
    "from string import punctuation"
   ]
  },
  {
   "cell_type": "code",
   "execution_count": 2,
   "metadata": {
    "collapsed": true
   },
   "outputs": [],
   "source": [
    "def make_histogram(data, bins):\n",
    "    fig, ax = plt.subplots()\n",
    "\n",
    "    # histogram our data with numpy\n",
    "    n, bins = np.histogram(data, bins)\n",
    "\n",
    "    # get the corners of the rectangles for the histogram\n",
    "    left = np.array(bins[:-1])\n",
    "    right = np.array(bins[1:])\n",
    "    bottom = np.zeros(len(left))\n",
    "    top = bottom + n\n",
    "\n",
    "\n",
    "    # we need a (numrects x numsides x 2) numpy array for the path helper\n",
    "    # function to build a compound path\n",
    "    XY = np.array([[left, left, right, right], [bottom, top, top, bottom]]).T\n",
    "\n",
    "    # get the Path object\n",
    "    barpath = path.Path.make_compound_path_from_polys(XY)\n",
    "\n",
    "    # make a patch out of it\n",
    "    patch = patches.PathPatch(barpath)\n",
    "    ax.add_patch(patch)\n",
    "\n",
    "    # update the view limits\n",
    "    ax.set_xlim(left[0], right[-1])\n",
    "    ax.set_ylim(bottom.min(), top.max())\n",
    "\n",
    "    plt.show()"
   ]
  },
  {
   "cell_type": "code",
   "execution_count": 43,
   "metadata": {
    "collapsed": true
   },
   "outputs": [],
   "source": [
    "# convert string percentages to numerical\n",
    "def convert_percentage(df):\n",
    "    for col in df.columns:\n",
    "        c = col.split(\" \")\n",
    "        if c[-1] == \"MoM\" or c[-1] == \"YoY\": df[col] = [float(str(x).strip(\"%\")) for x in df[col]]\n",
    "    \n",
    "    df['Average Sale To List'] = [float(str(x).strip(\"%\")) for x in df['Average Sale To List']]"
   ]
  },
  {
   "cell_type": "code",
   "execution_count": 4,
   "metadata": {
    "collapsed": false
   },
   "outputs": [],
   "source": [
    "### read in data\n",
    "def read_data(filename, property_type):\n",
    "    df = pd.read_csv(filename)\n",
    "    df.columns = [x.strip(\" \") for x in df.columns]\n",
    "    df['property_type'] = property_type\n",
    "    df.head()\n",
    "    return (df)"
   ]
  },
  {
   "cell_type": "code",
   "execution_count": 5,
   "metadata": {
    "collapsed": false
   },
   "outputs": [],
   "source": [
    "### add columns for city, state, and neighborhood\n",
    "def parse_region(df):\n",
    "    df['location'] = [x.split(\",\") for x in df.Region]\n",
    "    df['city'] = [x[0].strip(\",\").lower() for x in df.location]\n",
    "    df['state'] = [x[1].split(\" \")[1].lower().strip() for x in df.location]\n",
    "    df['neighborhood'] = [x[1].split(\" \")[3].strip().lower() for x in df.location]\n",
    "    df = df[df.city == 'san jose']\n",
    "    df = df.drop('location', 1)\n",
    "    df.head()"
   ]
  },
  {
   "cell_type": "code",
   "execution_count": 6,
   "metadata": {
    "collapsed": false
   },
   "outputs": [],
   "source": [
    "### convert Median Sale Price to a float\n",
    "def convert_med_sale_pr(df):\n",
    "    df[u'Median Sale Price'] = [x.strip(\"$\").replace(\",\", \"\") for x in df[\"Median Sale Price\"]]\n",
    "    df[u'Median Sale Price'] = [int(x) if x[len(x)-1] != \"K\" else int(x.strip(\"K\"))*1000 \n",
    "                                for x in df[\"Median Sale Price\"]]"
   ]
  },
  {
   "cell_type": "code",
   "execution_count": 44,
   "metadata": {
    "collapsed": false
   },
   "outputs": [],
   "source": [
    "### given the filename and property type return\n",
    "### a dataframe with string fields converted to\n",
    "### numerical and regions parsed out\n",
    "def clean_data(filename, property_type):\n",
    "    df = read_data(filename, property_type)\n",
    "    convert_med_sale_pr(df)\n",
    "    parse_region(df)\n",
    "    convert_percentage(df)\n",
    "    return (df)"
   ]
  },
  {
   "cell_type": "code",
   "execution_count": 37,
   "metadata": {
    "collapsed": true
   },
   "outputs": [],
   "source": [
    "# merge several dataframes together\n",
    "# files = list of tuples, \n",
    "# each tuple should contain filename first then property type\n",
    "\n",
    "# How to deal with NA's? fill with 0 for now ...\n",
    "def merge_data(files):\n",
    "    frames = []\n",
    "    for f in files:\n",
    "        frames.append(clean_data(f[0], f[1]))\n",
    "    return (pd.concat(frames).fillna(0))"
   ]
  },
  {
   "cell_type": "code",
   "execution_count": 51,
   "metadata": {
    "collapsed": true
   },
   "outputs": [],
   "source": [
    "### convert neighborhood to a numerical value\n",
    "def convert_neighborhood(df):\n",
    "    neighborhoods = df.neighborhood.unique()\n",
    "    df['neighborhood_num'] = [np.nonzero(df.neighborhood == x)[0][0] for x in df.neighborhood]"
   ]
  },
  {
   "cell_type": "code",
   "execution_count": 52,
   "metadata": {
    "collapsed": false
   },
   "outputs": [],
   "source": [
    "files = [('sanjose_condos.csv', 'condo'), ('sanjose_townhouse2.csv', 'townhouse'),\n",
    "        ('sanjose_multiunit.csv', 'multiunit'), (\"sanjose_singlefamily.csv\", \"singlefamily\")]\n",
    "total = merge_data(files)\n",
    "convert_neighborhood(total)"
   ]
  },
  {
   "cell_type": "code",
   "execution_count": 40,
   "metadata": {
    "collapsed": false
   },
   "outputs": [
    {
     "data": {
      "text/plain": [
       "15419"
      ]
     },
     "execution_count": 40,
     "metadata": {},
     "output_type": "execute_result"
    }
   ],
   "source": [
    "len(total.index)"
   ]
  },
  {
   "cell_type": "code",
   "execution_count": 41,
   "metadata": {
    "collapsed": false
   },
   "outputs": [
    {
     "name": "stdout",
     "output_type": "stream",
     "text": [
      "(array(['alexander', 'alma-almaden', 'almaden', 'anderson', 'area',\n",
      "       'atlanta', 'barbera-stokes', 'berryessa', 'blackford',\n",
      "       'bonita-24th', 'branham-jarvis', 'branham-kirk', 'brigadoon',\n",
      "       'broadway-palmhaven', 'brooktree', 'bucknall', 'buena', 'calabazas',\n",
      "       'cambrian', 'cambrian-pioneer', 'carlton', 'carson',\n",
      "       'cedarville-giannotta', 'central', 'chaboya', 'cherrywood',\n",
      "       'citaldi', 'clayton', 'commodore', 'crossgate', 'cypress-jurdo',\n",
      "       'de', 'deer', 'del', 'dovehill', 'downtown', 'east', 'eden',\n",
      "       'erikson', 'estates', 'evergreen', 'everydale-neimen', 'flickinger',\n",
      "       'fowler', 'gilchrist', 'great', 'greylands', 'hammer', 'hayes',\n",
      "       'heritage', 'hidden', 'hillsdale', 'hillview', 'holy', 'joaquin',\n",
      "       'kenwood', 'king', 'kooser', 'lanai-cunningham', 'loma', 'lone',\n",
      "       'los', 'lynbrook', 'lynhaven', 'mayfair', 'mckay-ringwood',\n",
      "       'meadow', 'meadows', 'millic-phelps', 'miner', 'mirassou',\n",
      "       'morrill', 'mount', 'murillo', 'noddin', 'norwood', 'notting',\n",
      "       'oak', 'oster', 'overfelt', 'parkview', 'penitencia', 'quimby',\n",
      "       'rainbow', 'ramblewood', 'rancho', 'riverview', 'rose-sartorette',\n",
      "       'rymar', 'san', 'santee', 'serenede', 'seven', 'shadow',\n",
      "       'spratan-keyes', 'stallion-shadowsprings', 'summerside', 'tamien',\n",
      "       'the', 'townsend', 'vinci', 'west', 'westmont', 'whaley', 'willow',\n",
      "       'winchester'], dtype=object), 106)\n"
     ]
    }
   ],
   "source": [
    "neighborhoods = np.unique(total['neighborhood'])\n",
    "print (neighborhoods, len(neighborhoods)) # 92 neighborhoods"
   ]
  },
  {
   "cell_type": "code",
   "execution_count": 42,
   "metadata": {
    "collapsed": false
   },
   "outputs": [
    {
     "data": {
      "text/html": [
       "<div>\n",
       "<table border=\"1\" class=\"dataframe\">\n",
       "  <thead>\n",
       "    <tr style=\"text-align: right;\">\n",
       "      <th></th>\n",
       "      <th>Median Sale Price</th>\n",
       "      <th>Median Sale Price MoM</th>\n",
       "      <th>Median Sale Price YoY</th>\n",
       "      <th>Homes Sold</th>\n",
       "      <th>Homes Sold MoM</th>\n",
       "      <th>Homes Sold YoY</th>\n",
       "      <th>New Listings</th>\n",
       "      <th>New Listings MoM</th>\n",
       "      <th>New Listings YoY</th>\n",
       "      <th>Inventory</th>\n",
       "      <th>Inventory MoM</th>\n",
       "      <th>Inventory YoY</th>\n",
       "      <th>Days on Market</th>\n",
       "      <th>Days on Market MoM</th>\n",
       "      <th>Days on Market YoY</th>\n",
       "      <th>Average Sale To List</th>\n",
       "      <th>Average Sale To List MoM</th>\n",
       "      <th>Average Sale To List YoY</th>\n",
       "    </tr>\n",
       "  </thead>\n",
       "  <tbody>\n",
       "    <tr>\n",
       "      <th>count</th>\n",
       "      <td>1.541900e+04</td>\n",
       "      <td>15419.000000</td>\n",
       "      <td>15419.000000</td>\n",
       "      <td>15419.000000</td>\n",
       "      <td>15419.000000</td>\n",
       "      <td>15419.000000</td>\n",
       "      <td>15419.000000</td>\n",
       "      <td>15419.000000</td>\n",
       "      <td>15419.000000</td>\n",
       "      <td>15419.000000</td>\n",
       "      <td>15419.000000</td>\n",
       "      <td>15419.000000</td>\n",
       "      <td>15419.000000</td>\n",
       "      <td>15419.000000</td>\n",
       "      <td>15419.000000</td>\n",
       "      <td>15419.000000</td>\n",
       "      <td>15419.000000</td>\n",
       "      <td>15419.000000</td>\n",
       "    </tr>\n",
       "    <tr>\n",
       "      <th>mean</th>\n",
       "      <td>6.780970e+05</td>\n",
       "      <td>1.441598</td>\n",
       "      <td>13.424645</td>\n",
       "      <td>108.108113</td>\n",
       "      <td>7.759433</td>\n",
       "      <td>18.569492</td>\n",
       "      <td>135.838641</td>\n",
       "      <td>6.041780</td>\n",
       "      <td>12.451365</td>\n",
       "      <td>317.767949</td>\n",
       "      <td>11.687794</td>\n",
       "      <td>10.796414</td>\n",
       "      <td>26.702056</td>\n",
       "      <td>-0.146702</td>\n",
       "      <td>-3.628964</td>\n",
       "      <td>103.110020</td>\n",
       "      <td>0.039043</td>\n",
       "      <td>0.771289</td>\n",
       "    </tr>\n",
       "    <tr>\n",
       "      <th>std</th>\n",
       "      <td>2.963520e+05</td>\n",
       "      <td>10.651508</td>\n",
       "      <td>21.476353</td>\n",
       "      <td>646.383152</td>\n",
       "      <td>47.591472</td>\n",
       "      <td>92.052994</td>\n",
       "      <td>837.190488</td>\n",
       "      <td>45.285962</td>\n",
       "      <td>80.893613</td>\n",
       "      <td>2164.869063</td>\n",
       "      <td>65.519173</td>\n",
       "      <td>91.913587</td>\n",
       "      <td>27.307119</td>\n",
       "      <td>20.172737</td>\n",
       "      <td>35.939966</td>\n",
       "      <td>4.922048</td>\n",
       "      <td>2.615500</td>\n",
       "      <td>5.076339</td>\n",
       "    </tr>\n",
       "    <tr>\n",
       "      <th>min</th>\n",
       "      <td>9.700000e+04</td>\n",
       "      <td>-61.500000</td>\n",
       "      <td>-65.500000</td>\n",
       "      <td>1.000000</td>\n",
       "      <td>-85.700000</td>\n",
       "      <td>-92.900000</td>\n",
       "      <td>0.000000</td>\n",
       "      <td>-87.500000</td>\n",
       "      <td>-92.900000</td>\n",
       "      <td>0.000000</td>\n",
       "      <td>-87.500000</td>\n",
       "      <td>-94.700000</td>\n",
       "      <td>0.000000</td>\n",
       "      <td>-435.000000</td>\n",
       "      <td>-548.000000</td>\n",
       "      <td>0.000000</td>\n",
       "      <td>-23.100000</td>\n",
       "      <td>-42.500000</td>\n",
       "    </tr>\n",
       "    <tr>\n",
       "      <th>25%</th>\n",
       "      <td>4.600000e+05</td>\n",
       "      <td>-1.600000</td>\n",
       "      <td>0.000000</td>\n",
       "      <td>3.000000</td>\n",
       "      <td>-16.700000</td>\n",
       "      <td>-28.600000</td>\n",
       "      <td>3.000000</td>\n",
       "      <td>-18.200000</td>\n",
       "      <td>-28.600000</td>\n",
       "      <td>1.000000</td>\n",
       "      <td>-12.850000</td>\n",
       "      <td>-33.300000</td>\n",
       "      <td>11.000000</td>\n",
       "      <td>-2.000000</td>\n",
       "      <td>-10.000000</td>\n",
       "      <td>100.300000</td>\n",
       "      <td>-0.900000</td>\n",
       "      <td>-1.600000</td>\n",
       "    </tr>\n",
       "    <tr>\n",
       "      <th>50%</th>\n",
       "      <td>6.330000e+05</td>\n",
       "      <td>0.000000</td>\n",
       "      <td>10.400000</td>\n",
       "      <td>6.000000</td>\n",
       "      <td>0.000000</td>\n",
       "      <td>0.000000</td>\n",
       "      <td>6.000000</td>\n",
       "      <td>0.000000</td>\n",
       "      <td>0.000000</td>\n",
       "      <td>2.000000</td>\n",
       "      <td>0.000000</td>\n",
       "      <td>0.000000</td>\n",
       "      <td>17.000000</td>\n",
       "      <td>0.000000</td>\n",
       "      <td>0.000000</td>\n",
       "      <td>102.500000</td>\n",
       "      <td>0.000000</td>\n",
       "      <td>0.400000</td>\n",
       "    </tr>\n",
       "    <tr>\n",
       "      <th>75%</th>\n",
       "      <td>8.300000e+05</td>\n",
       "      <td>3.500000</td>\n",
       "      <td>21.300000</td>\n",
       "      <td>10.000000</td>\n",
       "      <td>20.000000</td>\n",
       "      <td>33.300000</td>\n",
       "      <td>11.000000</td>\n",
       "      <td>19.200000</td>\n",
       "      <td>25.000000</td>\n",
       "      <td>5.000000</td>\n",
       "      <td>7.000000</td>\n",
       "      <td>0.000000</td>\n",
       "      <td>32.000000</td>\n",
       "      <td>3.000000</td>\n",
       "      <td>7.000000</td>\n",
       "      <td>105.300000</td>\n",
       "      <td>0.900000</td>\n",
       "      <td>3.400000</td>\n",
       "    </tr>\n",
       "    <tr>\n",
       "      <th>max</th>\n",
       "      <td>2.400000e+06</td>\n",
       "      <td>169.600000</td>\n",
       "      <td>335.700000</td>\n",
       "      <td>10715.000000</td>\n",
       "      <td>700.000000</td>\n",
       "      <td>1400.000000</td>\n",
       "      <td>13145.000000</td>\n",
       "      <td>500.000000</td>\n",
       "      <td>1000.000000</td>\n",
       "      <td>28027.000000</td>\n",
       "      <td>900.000000</td>\n",
       "      <td>1500.000000</td>\n",
       "      <td>556.000000</td>\n",
       "      <td>515.000000</td>\n",
       "      <td>535.000000</td>\n",
       "      <td>137.600000</td>\n",
       "      <td>38.100000</td>\n",
       "      <td>61.200000</td>\n",
       "    </tr>\n",
       "  </tbody>\n",
       "</table>\n",
       "</div>"
      ],
      "text/plain": [
       "       Median Sale Price  Median Sale Price MoM  Median Sale Price YoY  \\\n",
       "count       1.541900e+04           15419.000000           15419.000000   \n",
       "mean        6.780970e+05               1.441598              13.424645   \n",
       "std         2.963520e+05              10.651508              21.476353   \n",
       "min         9.700000e+04             -61.500000             -65.500000   \n",
       "25%         4.600000e+05              -1.600000               0.000000   \n",
       "50%         6.330000e+05               0.000000              10.400000   \n",
       "75%         8.300000e+05               3.500000              21.300000   \n",
       "max         2.400000e+06             169.600000             335.700000   \n",
       "\n",
       "         Homes Sold  Homes Sold MoM  Homes Sold YoY  New Listings  \\\n",
       "count  15419.000000    15419.000000    15419.000000  15419.000000   \n",
       "mean     108.108113        7.759433       18.569492    135.838641   \n",
       "std      646.383152       47.591472       92.052994    837.190488   \n",
       "min        1.000000      -85.700000      -92.900000      0.000000   \n",
       "25%        3.000000      -16.700000      -28.600000      3.000000   \n",
       "50%        6.000000        0.000000        0.000000      6.000000   \n",
       "75%       10.000000       20.000000       33.300000     11.000000   \n",
       "max    10715.000000      700.000000     1400.000000  13145.000000   \n",
       "\n",
       "       New Listings MoM  New Listings YoY     Inventory  Inventory MoM  \\\n",
       "count      15419.000000      15419.000000  15419.000000   15419.000000   \n",
       "mean           6.041780         12.451365    317.767949      11.687794   \n",
       "std           45.285962         80.893613   2164.869063      65.519173   \n",
       "min          -87.500000        -92.900000      0.000000     -87.500000   \n",
       "25%          -18.200000        -28.600000      1.000000     -12.850000   \n",
       "50%            0.000000          0.000000      2.000000       0.000000   \n",
       "75%           19.200000         25.000000      5.000000       7.000000   \n",
       "max          500.000000       1000.000000  28027.000000     900.000000   \n",
       "\n",
       "       Inventory YoY  Days on Market  Days on Market MoM  Days on Market YoY  \\\n",
       "count   15419.000000    15419.000000        15419.000000        15419.000000   \n",
       "mean       10.796414       26.702056           -0.146702           -3.628964   \n",
       "std        91.913587       27.307119           20.172737           35.939966   \n",
       "min       -94.700000        0.000000         -435.000000         -548.000000   \n",
       "25%       -33.300000       11.000000           -2.000000          -10.000000   \n",
       "50%         0.000000       17.000000            0.000000            0.000000   \n",
       "75%         0.000000       32.000000            3.000000            7.000000   \n",
       "max      1500.000000      556.000000          515.000000          535.000000   \n",
       "\n",
       "       Average Sale To List  Average Sale To List MoM  \\\n",
       "count          15419.000000              15419.000000   \n",
       "mean             103.110020                  0.039043   \n",
       "std                4.922048                  2.615500   \n",
       "min                0.000000                -23.100000   \n",
       "25%              100.300000                 -0.900000   \n",
       "50%              102.500000                  0.000000   \n",
       "75%              105.300000                  0.900000   \n",
       "max              137.600000                 38.100000   \n",
       "\n",
       "       Average Sale To List YoY  \n",
       "count              15419.000000  \n",
       "mean                   0.771289  \n",
       "std                    5.076339  \n",
       "min                  -42.500000  \n",
       "25%                   -1.600000  \n",
       "50%                    0.400000  \n",
       "75%                    3.400000  \n",
       "max                   61.200000  "
      ]
     },
     "execution_count": 42,
     "metadata": {},
     "output_type": "execute_result"
    }
   ],
   "source": [
    "total.describe() # descriptive statistics"
   ]
  },
  {
   "cell_type": "code",
   "execution_count": null,
   "metadata": {
    "collapsed": false
   },
   "outputs": [],
   "source": [
    "make_histogram(df['Median Sale Price'], 50)"
   ]
  },
  {
   "cell_type": "code",
   "execution_count": null,
   "metadata": {
    "collapsed": false
   },
   "outputs": [],
   "source": [
    "sum(pd.isnull(df['New Listings YoY'])) # how to deal with missing values?"
   ]
  },
  {
   "cell_type": "code",
   "execution_count": null,
   "metadata": {
    "collapsed": false
   },
   "outputs": [],
   "source": [
    "df = df.fillna(0)"
   ]
  },
  {
   "cell_type": "code",
   "execution_count": null,
   "metadata": {
    "collapsed": false
   },
   "outputs": [],
   "source": [
    "df.describe()"
   ]
  },
  {
   "cell_type": "code",
   "execution_count": null,
   "metadata": {
    "collapsed": true
   },
   "outputs": [],
   "source": []
  }
 ],
 "metadata": {
  "anaconda-cloud": {},
  "kernelspec": {
   "display_name": "Python [conda root]",
   "language": "python",
   "name": "conda-root-py"
  },
  "language_info": {
   "codemirror_mode": {
    "name": "ipython",
    "version": 2
   },
   "file_extension": ".py",
   "mimetype": "text/x-python",
   "name": "python",
   "nbconvert_exporter": "python",
   "pygments_lexer": "ipython2",
   "version": "2.7.12"
  }
 },
 "nbformat": 4,
 "nbformat_minor": 1
}

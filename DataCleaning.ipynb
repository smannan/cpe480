{
 "cells": [
  {
   "cell_type": "markdown",
   "metadata": {},
   "source": [
    "## Summary of data\n",
    "## Properties from San Jose, CA\n",
    "## 6099 condos\n",
    "## 92 different neighborhoods"
   ]
  },
  {
   "cell_type": "code",
   "execution_count": 1,
   "metadata": {
    "collapsed": true
   },
   "outputs": [],
   "source": [
    "PROPERTY_TYPES = ['condo', 'townhouse', 'multiunit', 'singlefamily']\n",
    "TRESH = 0.15\n",
    "BINS = 10\n",
    "\n",
    "MONTHS = ['Jan', 'Feb', 'Mar', 'Apr', 'May', \n",
    "          'Jun', 'Jul', 'Aug', 'Sep', 'Oct',\n",
    "         'Nov', 'Dec']\n",
    "\n",
    "COLS_EXCLUDE = ['Median Sale Price','Region','neighborhood',\n",
    "                'location','city','property_type','state',\n",
    "                'Month of Period End', 'Median_Sale_Price_Bin']"
   ]
  },
  {
   "cell_type": "code",
   "execution_count": 2,
   "metadata": {
    "collapsed": false
   },
   "outputs": [],
   "source": [
    "import csv\n",
    "import pandas as pd\n",
    "import numpy as np\n",
    "import math\n",
    "import matplotlib.pyplot as plt\n",
    "import matplotlib.patches as patches\n",
    "import matplotlib.path as path\n",
    "\n",
    "from sklearn.cross_validation import train_test_split\n",
    "from sklearn import linear_model\n",
    "from string import punctuation"
   ]
  },
  {
   "cell_type": "code",
   "execution_count": 3,
   "metadata": {
    "collapsed": true
   },
   "outputs": [],
   "source": [
    "def make_histogram(data, bins):\n",
    "    fig, ax = plt.subplots()\n",
    "\n",
    "    # histogram our data with numpy\n",
    "    n, bins = np.histogram(data, bins)\n",
    "\n",
    "    # get the corners of the rectangles for the histogram\n",
    "    left = np.array(bins[:-1])\n",
    "    right = np.array(bins[1:])\n",
    "    bottom = np.zeros(len(left))\n",
    "    top = bottom + n\n",
    "\n",
    "\n",
    "    # we need a (numrects x numsides x 2) numpy array for the path helper\n",
    "    # function to build a compound path\n",
    "    XY = np.array([[left, left, right, right], [bottom, top, top, bottom]]).T\n",
    "\n",
    "    # get the Path object\n",
    "    barpath = path.Path.make_compound_path_from_polys(XY)\n",
    "\n",
    "    # make a patch out of it\n",
    "    patch = patches.PathPatch(barpath)\n",
    "    ax.add_patch(patch)\n",
    "\n",
    "    # update the view limits\n",
    "    ax.set_xlim(left[0], right[-1])\n",
    "    ax.set_ylim(bottom.min(), top.max())\n",
    "\n",
    "    plt.show()"
   ]
  },
  {
   "cell_type": "code",
   "execution_count": 4,
   "metadata": {
    "collapsed": true
   },
   "outputs": [],
   "source": [
    "# convert string percentages to numerical\n",
    "def convert_percentage(df):\n",
    "    for col in df.columns:\n",
    "        c = col.split(\" \")\n",
    "        if c[-1] == \"MoM\" or c[-1] == \"YoY\": \n",
    "            df[col] = [float(str(x).strip(\"%\")) for x in df[col]]\n",
    "    \n",
    "    df['Average Sale To List'] = [float(str(x).strip(\"%\")) for x in df['Average Sale To List']]"
   ]
  },
  {
   "cell_type": "code",
   "execution_count": 5,
   "metadata": {
    "collapsed": false
   },
   "outputs": [],
   "source": [
    "### read in data\n",
    "def read_data(filename, property_type):\n",
    "    df = pd.read_csv(filename)\n",
    "    df.columns = [x.strip(\" \") for x in df.columns]\n",
    "    df['property_type'] = property_type\n",
    "    df['property_type_num'] = PROPERTY_TYPES.index(property_type)\n",
    "    df.head()\n",
    "    return (df)"
   ]
  },
  {
   "cell_type": "code",
   "execution_count": 6,
   "metadata": {
    "collapsed": false
   },
   "outputs": [],
   "source": [
    "### add columns for city, state, and neighborhood\n",
    "def parse_region(df):\n",
    "    df['location'] = [x.split(\",\") for x in df.Region]\n",
    "    df['city'] = [x[0].strip(\",\").lower() for x in df.location]\n",
    "    df['state'] = [x[1].split(\" \")[1].lower().strip() for x in df.location]\n",
    "    df['neighborhood'] = [x[1].split(\" \")[3].strip().lower() for x in df.location]\n",
    "    df = df[df.city == 'san jose']\n",
    "    df.head()"
   ]
  },
  {
   "cell_type": "code",
   "execution_count": 7,
   "metadata": {
    "collapsed": false
   },
   "outputs": [],
   "source": [
    "### convert Median Sale Price to a float\n",
    "def convert_med_sale_pr(df):\n",
    "    df[u'Median Sale Price'] = [x.strip(\"$\").replace(\",\", \"\") for x in df[\"Median Sale Price\"]]\n",
    "    df[u'Median Sale Price'] = [int(x) if x[len(x)-1] != \"K\" else int(x.strip(\"K\"))*1000 \n",
    "                                for x in df[\"Median Sale Price\"]]"
   ]
  },
  {
   "cell_type": "code",
   "execution_count": 8,
   "metadata": {
    "collapsed": true
   },
   "outputs": [],
   "source": [
    "### convert neighborhood to a numerical value\n",
    "def convert_neighborhood(df):\n",
    "    neighborhoods = df.neighborhood.unique()\n",
    "    df['neighborhood_num'] = [np.where(neighborhoods == x)[0][0] for x in df.neighborhood]"
   ]
  },
  {
   "cell_type": "code",
   "execution_count": 9,
   "metadata": {
    "collapsed": true
   },
   "outputs": [],
   "source": [
    "def bin_med_sale_pr(df, bins):\n",
    "    med_sale_pr = df['Median Sale Price']\n",
    "    bins = np.linspace(med_sale_pr.min(), med_sale_pr.max(), bins)\n",
    "    digitized = np.digitize(med_sale_pr, bins)\n",
    "    df['Median_Sale_Price_Bin'] = digitized\n",
    "    return (df)"
   ]
  },
  {
   "cell_type": "code",
   "execution_count": 10,
   "metadata": {
    "collapsed": true
   },
   "outputs": [],
   "source": [
    "def parse_date(df):\n",
    "    df['Month of Period End'] = [x.replace('-', ' ') for x in df['Month of Period End']]\n",
    "    df['Month'] = [MONTHS.index(x.split(' ')[0][:3]) for x in df['Month of Period End']]\n",
    "    df['Year'] = [int(x.split(' ')[1]) for x in df['Month of Period End']]\n",
    "    return (df)"
   ]
  },
  {
   "cell_type": "code",
   "execution_count": 11,
   "metadata": {
    "collapsed": true
   },
   "outputs": [],
   "source": [
    "def filter_prices(df, high, low):\n",
    "    t_cutoff = np.percentile(sorted(df['Median Sale Price']), high)\n",
    "    b_cutoff = np.percentile(sorted(df['Median Sale Price']), low)\n",
    "    df = df[df['Median Sale Price'] <= t_cutoff]\n",
    "    df = df[df['Median Sale Price'] >= b_cutoff]\n",
    "    return (df)"
   ]
  },
  {
   "cell_type": "code",
   "execution_count": 12,
   "metadata": {
    "collapsed": false
   },
   "outputs": [],
   "source": [
    "### given the filename and property type return\n",
    "### a dataframe with string fields converted to\n",
    "### numerical and regions parsed out\n",
    "def clean_data(filename, property_type):\n",
    "    df = read_data(filename, property_type)\n",
    "    convert_med_sale_pr(df)\n",
    "    parse_region(df)\n",
    "    convert_percentage(df)\n",
    "    convert_neighborhood(df)\n",
    "    df = parse_date(df)\n",
    "    df = bin_med_sale_pr(df, BINS)\n",
    "    df = filter_prices(df, 75, 10)\n",
    "    return (df)"
   ]
  },
  {
   "cell_type": "code",
   "execution_count": 13,
   "metadata": {
    "collapsed": true
   },
   "outputs": [],
   "source": [
    "# merge several dataframes together\n",
    "# files = list of tuples, \n",
    "# each tuple should contain filename first then property type\n",
    "\n",
    "# How to deal with NA's? fill with 0 for now ...\n",
    "def merge_data(files):\n",
    "    frames = []\n",
    "    for f in files:\n",
    "        frames.append(clean_data(f[0], f[1]))\n",
    "    return (pd.concat(frames).fillna(method='ffill'))"
   ]
  },
  {
   "cell_type": "code",
   "execution_count": 14,
   "metadata": {
    "collapsed": true
   },
   "outputs": [],
   "source": [
    "# x_train has 70% of the dataset\n",
    "# x_test has 30% of the dataset\n",
    "# ignore y_train and y_test\n",
    "# Regression: Train on x_train, remove non-numerical columns first!\n",
    "# Test on x_test\n",
    "\n",
    "# splits dataset up into training (70%) and testing (30%) sets\n",
    "# evenly based on neighborhood\n",
    "\n",
    "def split_test_train(total, stratify_col):\n",
    "    total2 = total.copy(deep=True)\n",
    "    y = total2[stratify_col]\n",
    "    x = total2\n",
    "    x_train, x_test, y_train, y_test = train_test_split(x, y, test_size = 0.3, random_state = 42)\n",
    "    return (x_train, x_test, y_train, y_test)"
   ]
  },
  {
   "cell_type": "code",
   "execution_count": 15,
   "metadata": {
    "collapsed": true
   },
   "outputs": [],
   "source": [
    "# fits a regression model to a training set\n",
    "def model(x_train, reg):\n",
    "    X = x_train.loc[:, x_train.columns.difference(COLS_EXCLUDE)]\n",
    "    Y = x_train.loc[:, 'Median Sale Price']\n",
    "    reg.fit(X, Y)\n",
    "    return (reg)"
   ]
  },
  {
   "cell_type": "code",
   "execution_count": 16,
   "metadata": {
    "collapsed": true
   },
   "outputs": [],
   "source": [
    "def predict(x_test, reg):\n",
    "    X_test = x_test.loc[:, x_train.columns.difference(COLS_EXCLUDE)]\n",
    "    Y_test = x_test.loc[:, 'Median Sale Price']\n",
    "    return (reg.predict(X_test), Y_test)\n"
   ]
  },
  {
   "cell_type": "code",
   "execution_count": 17,
   "metadata": {
    "collapsed": false
   },
   "outputs": [],
   "source": [
    "# how many of the predicted prices were within\n",
    "# thresh % of the actual price?\n",
    "# return a ratio\n",
    "\n",
    "def evaluate(y_pred, y_test, thresh):\n",
    "    assert len(y_pred) == len(y_test)\n",
    "    result = []\n",
    "    for (pred, test) in zip(y_pred, y_test):\n",
    "        result.append(math.fabs((test-pred)/test) <= thresh)\n",
    "    \n",
    "    return (float(sum(result))/float(len(result)))"
   ]
  },
  {
   "cell_type": "code",
   "execution_count": 18,
   "metadata": {
    "collapsed": false
   },
   "outputs": [],
   "source": [
    "files = [('sanjose_condos.csv', PROPERTY_TYPES[0]), ('sanjose_townhouse2.csv', PROPERTY_TYPES[1]),\n",
    "        ('sanjose_multiunit.csv', PROPERTY_TYPES[2]), (\"sanjose_singlefamily.csv\", PROPERTY_TYPES[3])]\n",
    "total = merge_data(files)"
   ]
  },
  {
   "cell_type": "code",
   "execution_count": 19,
   "metadata": {
    "collapsed": false
   },
   "outputs": [
    {
     "data": {
      "text/plain": [
       "Index([u'Region', u'Month of Period End', u'Median Sale Price',\n",
       "       u'Median Sale Price MoM', u'Median Sale Price YoY', u'Homes Sold',\n",
       "       u'Homes Sold MoM', u'Homes Sold YoY', u'New Listings',\n",
       "       u'New Listings MoM', u'New Listings YoY', u'Inventory',\n",
       "       u'Inventory MoM', u'Inventory YoY', u'Days on Market',\n",
       "       u'Days on Market MoM', u'Days on Market YoY', u'Average Sale To List',\n",
       "       u'Average Sale To List MoM', u'Average Sale To List YoY',\n",
       "       u'property_type', u'property_type_num', u'location', u'city', u'state',\n",
       "       u'neighborhood', u'neighborhood_num', u'Month', u'Year',\n",
       "       u'Median_Sale_Price_Bin'],\n",
       "      dtype='object')"
      ]
     },
     "execution_count": 19,
     "metadata": {},
     "output_type": "execute_result"
    }
   ],
   "source": [
    "total.columns"
   ]
  },
  {
   "cell_type": "code",
   "execution_count": 20,
   "metadata": {
    "collapsed": false
   },
   "outputs": [
    {
     "data": {
      "text/html": [
       "<div>\n",
       "<table border=\"1\" class=\"dataframe\">\n",
       "  <thead>\n",
       "    <tr style=\"text-align: right;\">\n",
       "      <th></th>\n",
       "      <th>Region</th>\n",
       "      <th>Month of Period End</th>\n",
       "      <th>Median Sale Price</th>\n",
       "      <th>Median Sale Price MoM</th>\n",
       "      <th>Median Sale Price YoY</th>\n",
       "      <th>Homes Sold</th>\n",
       "      <th>Homes Sold MoM</th>\n",
       "      <th>Homes Sold YoY</th>\n",
       "      <th>New Listings</th>\n",
       "      <th>New Listings MoM</th>\n",
       "      <th>...</th>\n",
       "      <th>property_type</th>\n",
       "      <th>property_type_num</th>\n",
       "      <th>location</th>\n",
       "      <th>city</th>\n",
       "      <th>state</th>\n",
       "      <th>neighborhood</th>\n",
       "      <th>neighborhood_num</th>\n",
       "      <th>Month</th>\n",
       "      <th>Year</th>\n",
       "      <th>Median_Sale_Price_Bin</th>\n",
       "    </tr>\n",
       "  </thead>\n",
       "  <tbody>\n",
       "    <tr>\n",
       "      <th>41</th>\n",
       "      <td>San Jose, CA - Alexander</td>\n",
       "      <td>June 2015</td>\n",
       "      <td>352000</td>\n",
       "      <td>6.3</td>\n",
       "      <td>30.6</td>\n",
       "      <td>3</td>\n",
       "      <td>-25.0</td>\n",
       "      <td>-25.0</td>\n",
       "      <td>9.0</td>\n",
       "      <td>-10.0</td>\n",
       "      <td>...</td>\n",
       "      <td>condo</td>\n",
       "      <td>0</td>\n",
       "      <td>[San Jose,  CA - Alexander]</td>\n",
       "      <td>san jose</td>\n",
       "      <td>ca</td>\n",
       "      <td>alexander</td>\n",
       "      <td>0</td>\n",
       "      <td>5</td>\n",
       "      <td>2015</td>\n",
       "      <td>1</td>\n",
       "    </tr>\n",
       "    <tr>\n",
       "      <th>45</th>\n",
       "      <td>San Jose, CA - Alexander</td>\n",
       "      <td>October 2015</td>\n",
       "      <td>335000</td>\n",
       "      <td>7.0</td>\n",
       "      <td>35.6</td>\n",
       "      <td>8</td>\n",
       "      <td>-27.3</td>\n",
       "      <td>33.3</td>\n",
       "      <td>10.0</td>\n",
       "      <td>11.1</td>\n",
       "      <td>...</td>\n",
       "      <td>condo</td>\n",
       "      <td>0</td>\n",
       "      <td>[San Jose,  CA - Alexander]</td>\n",
       "      <td>san jose</td>\n",
       "      <td>ca</td>\n",
       "      <td>alexander</td>\n",
       "      <td>0</td>\n",
       "      <td>9</td>\n",
       "      <td>2015</td>\n",
       "      <td>1</td>\n",
       "    </tr>\n",
       "    <tr>\n",
       "      <th>47</th>\n",
       "      <td>San Jose, CA - Alexander</td>\n",
       "      <td>December 2015</td>\n",
       "      <td>345000</td>\n",
       "      <td>16.7</td>\n",
       "      <td>20.0</td>\n",
       "      <td>12</td>\n",
       "      <td>100.0</td>\n",
       "      <td>100.0</td>\n",
       "      <td>12.0</td>\n",
       "      <td>0.0</td>\n",
       "      <td>...</td>\n",
       "      <td>condo</td>\n",
       "      <td>0</td>\n",
       "      <td>[San Jose,  CA - Alexander]</td>\n",
       "      <td>san jose</td>\n",
       "      <td>ca</td>\n",
       "      <td>alexander</td>\n",
       "      <td>0</td>\n",
       "      <td>11</td>\n",
       "      <td>2015</td>\n",
       "      <td>1</td>\n",
       "    </tr>\n",
       "    <tr>\n",
       "      <th>48</th>\n",
       "      <td>San Jose, CA - Alexander</td>\n",
       "      <td>January 2016</td>\n",
       "      <td>338000</td>\n",
       "      <td>-2.2</td>\n",
       "      <td>25.0</td>\n",
       "      <td>14</td>\n",
       "      <td>16.7</td>\n",
       "      <td>180.0</td>\n",
       "      <td>9.0</td>\n",
       "      <td>-25.0</td>\n",
       "      <td>...</td>\n",
       "      <td>condo</td>\n",
       "      <td>0</td>\n",
       "      <td>[San Jose,  CA - Alexander]</td>\n",
       "      <td>san jose</td>\n",
       "      <td>ca</td>\n",
       "      <td>alexander</td>\n",
       "      <td>0</td>\n",
       "      <td>0</td>\n",
       "      <td>2016</td>\n",
       "      <td>1</td>\n",
       "    </tr>\n",
       "    <tr>\n",
       "      <th>49</th>\n",
       "      <td>San Jose, CA - Alexander</td>\n",
       "      <td>February 2016</td>\n",
       "      <td>365000</td>\n",
       "      <td>8.1</td>\n",
       "      <td>29.2</td>\n",
       "      <td>13</td>\n",
       "      <td>-7.1</td>\n",
       "      <td>116.7</td>\n",
       "      <td>6.0</td>\n",
       "      <td>-33.3</td>\n",
       "      <td>...</td>\n",
       "      <td>condo</td>\n",
       "      <td>0</td>\n",
       "      <td>[San Jose,  CA - Alexander]</td>\n",
       "      <td>san jose</td>\n",
       "      <td>ca</td>\n",
       "      <td>alexander</td>\n",
       "      <td>0</td>\n",
       "      <td>1</td>\n",
       "      <td>2016</td>\n",
       "      <td>2</td>\n",
       "    </tr>\n",
       "  </tbody>\n",
       "</table>\n",
       "<p>5 rows × 30 columns</p>\n",
       "</div>"
      ],
      "text/plain": [
       "                      Region Month of Period End  Median Sale Price  \\\n",
       "41  San Jose, CA - Alexander           June 2015             352000   \n",
       "45  San Jose, CA - Alexander        October 2015             335000   \n",
       "47  San Jose, CA - Alexander       December 2015             345000   \n",
       "48  San Jose, CA - Alexander        January 2016             338000   \n",
       "49  San Jose, CA - Alexander       February 2016             365000   \n",
       "\n",
       "    Median Sale Price MoM  Median Sale Price YoY  Homes Sold  Homes Sold MoM  \\\n",
       "41                    6.3                   30.6           3           -25.0   \n",
       "45                    7.0                   35.6           8           -27.3   \n",
       "47                   16.7                   20.0          12           100.0   \n",
       "48                   -2.2                   25.0          14            16.7   \n",
       "49                    8.1                   29.2          13            -7.1   \n",
       "\n",
       "    Homes Sold YoY  New Listings  New Listings MoM          ...            \\\n",
       "41           -25.0           9.0             -10.0          ...             \n",
       "45            33.3          10.0              11.1          ...             \n",
       "47           100.0          12.0               0.0          ...             \n",
       "48           180.0           9.0             -25.0          ...             \n",
       "49           116.7           6.0             -33.3          ...             \n",
       "\n",
       "    property_type  property_type_num                     location      city  \\\n",
       "41          condo                  0  [San Jose,  CA - Alexander]  san jose   \n",
       "45          condo                  0  [San Jose,  CA - Alexander]  san jose   \n",
       "47          condo                  0  [San Jose,  CA - Alexander]  san jose   \n",
       "48          condo                  0  [San Jose,  CA - Alexander]  san jose   \n",
       "49          condo                  0  [San Jose,  CA - Alexander]  san jose   \n",
       "\n",
       "    state  neighborhood  neighborhood_num  Month  Year  Median_Sale_Price_Bin  \n",
       "41     ca     alexander                 0      5  2015                      1  \n",
       "45     ca     alexander                 0      9  2015                      1  \n",
       "47     ca     alexander                 0     11  2015                      1  \n",
       "48     ca     alexander                 0      0  2016                      1  \n",
       "49     ca     alexander                 0      1  2016                      2  \n",
       "\n",
       "[5 rows x 30 columns]"
      ]
     },
     "execution_count": 20,
     "metadata": {},
     "output_type": "execute_result"
    }
   ],
   "source": [
    "total.head()"
   ]
  },
  {
   "cell_type": "code",
   "execution_count": 21,
   "metadata": {
    "collapsed": false
   },
   "outputs": [
    {
     "name": "stdout",
     "output_type": "stream",
     "text": [
      "('Average Sale To List', 4684.641868130183)\n",
      "('Average Sale To List MoM', -1494.0042172683236)\n",
      "('Average Sale To List YoY', -1735.4889888605555)\n",
      "('Days on Market', -391.80827243799428)\n",
      "('Days on Market MoM', 267.50909990626809)\n",
      "('Days on Market YoY', 146.80430337822401)\n",
      "('Homes Sold', -19.366676933564293)\n",
      "('Homes Sold MoM', -23.924466610904012)\n",
      "('Homes Sold YoY', 17.986275314490129)\n",
      "('Inventory', -5.4894980139873812)\n",
      "('Inventory MoM', -6.6686982784837143)\n",
      "('Inventory YoY', -6.4273045904697037)\n",
      "('Median Sale Price MoM', 492.99640573698133)\n",
      "('Median Sale Price YoY', -144.38413953240465)\n",
      "('Month', 1694.5300732463029)\n",
      "('New Listings', 1.3804081101126382)\n",
      "('New Listings MoM', 27.89819107011343)\n",
      "('New Listings YoY', 65.346226818392438)\n",
      "('Year', 63.667081303146148)\n",
      "('neighborhood_num', -473.39962169796917)\n",
      "('property_type_num', 26627.339595709833)\n"
     ]
    }
   ],
   "source": [
    "x_train, x_test, _, _ = split_test_train(total, 'Median_Sale_Price_Bin')\n",
    "reg = model(x_train, linear_model.Lasso(alpha=0.5))\n",
    "\n",
    "np.set_printoptions(precision=3, suppress=True)\n",
    "cols = x_train.loc[:, x_train.columns.difference(COLS_EXCLUDE)].columns\n",
    "coeff = np.array(reg.coef_)\n",
    "\n",
    "for (col, coeff) in zip(cols, coeff):\n",
    "    print (col,coeff)"
   ]
  },
  {
   "cell_type": "code",
   "execution_count": 22,
   "metadata": {
    "collapsed": false
   },
   "outputs": [],
   "source": [
    "Y_pred, Y_test = predict(x_test, reg)"
   ]
  },
  {
   "cell_type": "code",
   "execution_count": 23,
   "metadata": {
    "collapsed": false
   },
   "outputs": [
    {
     "name": "stdout",
     "output_type": "stream",
     "text": [
      "0.140915119363\n",
      "0.285809018568\n",
      "0.432029177719\n",
      "0.711206896552\n"
     ]
    }
   ],
   "source": [
    "for t in [0.05, 0.10, 0.15, 0.25]:\n",
    "    print (evaluate(Y_pred, Y_test, t))"
   ]
  },
  {
   "cell_type": "code",
   "execution_count": 24,
   "metadata": {
    "collapsed": false
   },
   "outputs": [
    {
     "data": {
      "image/png": "[encoded data removed]",
      "text/plain": [
       "<matplotlib.figure.Figure at 0x11716cf10>"
      ]
     },
     "metadata": {},
     "output_type": "display_data"
    }
   ],
   "source": [
    "make_histogram(x_train['Median Sale Price'], 50)"
   ]
  },
  {
   "cell_type": "code",
   "execution_count": 25,
   "metadata": {
    "collapsed": false
   },
   "outputs": [
    {
     "data": {
      "image/png": "[encoded data removed]",
      "text/plain": [
       "<matplotlib.figure.Figure at 0x117173e90>"
      ]
     },
     "metadata": {},
     "output_type": "display_data"
    }
   ],
   "source": [
    "make_histogram(x_test['Median Sale Price'], 50)"
   ]
  },
  {
   "cell_type": "code",
   "execution_count": null,
   "metadata": {
    "collapsed": true
   },
   "outputs": [],
   "source": []
  }
 ],
 "metadata": {
  "anaconda-cloud": {},
  "kernelspec": {
   "display_name": "Python [conda root]",
   "language": "python",
   "name": "conda-root-py"
  },
  "language_info": {
   "codemirror_mode": {
    "name": "ipython",
    "version": 2
   },
   "file_extension": ".py",
   "mimetype": "text/x-python",
   "name": "python",
   "nbconvert_exporter": "python",
   "pygments_lexer": "ipython2",
   "version": "2.7.12"
  }
 },
 "nbformat": 4,
 "nbformat_minor": 1
}

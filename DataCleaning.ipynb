{
 "cells": [
  {
   "cell_type": "markdown",
   "metadata": {},
   "source": [
    "## Summary of data\n",
    "## Properties from San Jose, CA\n",
    "## 6099 condos\n",
    "## 92 different neighborhoods"
   ]
  },
  {
   "cell_type": "code",
   "execution_count": 1,
   "metadata": {
    "collapsed": true
   },
   "outputs": [],
   "source": [
    "PROPERTY_TYPES = ['condo', 'townhouse', 'multiunit', 'singlefamily']\n",
    "TRESH = 0.15\n",
    "BINS = 10\n",
    "\n",
    "MONTHS = ['Jan', 'Feb', 'Mar', 'Apr', 'May', \n",
    "          'Jun', 'Jul', 'Aug', 'Sep', 'Oct',\n",
    "         'Nov', 'Dec']\n",
    "\n",
    "COLS_EXCLUDE = ['Median Sale Price','Region','neighborhood',\n",
    "                'location','city','property_type','state',\n",
    "                'Month of Period End']"
   ]
  },
  {
   "cell_type": "code",
   "execution_count": 2,
   "metadata": {
    "collapsed": false
   },
   "outputs": [],
   "source": [
    "import csv\n",
    "import pandas as pd\n",
    "import numpy as np\n",
    "import math\n",
    "import matplotlib.pyplot as plt\n",
    "import matplotlib.patches as patches\n",
    "import matplotlib.path as path\n",
    "\n",
    "from sklearn.cross_validation import train_test_split\n",
    "from sklearn import linear_model\n",
    "from string import punctuation"
   ]
  },
  {
   "cell_type": "code",
   "execution_count": 3,
   "metadata": {
    "collapsed": true
   },
   "outputs": [],
   "source": [
    "def make_histogram(data, bins):\n",
    "    fig, ax = plt.subplots()\n",
    "\n",
    "    # histogram our data with numpy\n",
    "    n, bins = np.histogram(data, bins)\n",
    "\n",
    "    # get the corners of the rectangles for the histogram\n",
    "    left = np.array(bins[:-1])\n",
    "    right = np.array(bins[1:])\n",
    "    bottom = np.zeros(len(left))\n",
    "    top = bottom + n\n",
    "\n",
    "\n",
    "    # we need a (numrects x numsides x 2) numpy array for the path helper\n",
    "    # function to build a compound path\n",
    "    XY = np.array([[left, left, right, right], [bottom, top, top, bottom]]).T\n",
    "\n",
    "    # get the Path object\n",
    "    barpath = path.Path.make_compound_path_from_polys(XY)\n",
    "\n",
    "    # make a patch out of it\n",
    "    patch = patches.PathPatch(barpath)\n",
    "    ax.add_patch(patch)\n",
    "\n",
    "    # update the view limits\n",
    "    ax.set_xlim(left[0], right[-1])\n",
    "    ax.set_ylim(bottom.min(), top.max())\n",
    "\n",
    "    plt.show()"
   ]
  },
  {
   "cell_type": "code",
   "execution_count": 4,
   "metadata": {
    "collapsed": true
   },
   "outputs": [],
   "source": [
    "# convert string percentages to numerical\n",
    "def convert_percentage(df):\n",
    "    for col in df.columns:\n",
    "        c = col.split(\" \")\n",
    "        if c[-1] == \"MoM\" or c[-1] == \"YoY\": \n",
    "            df[col] = [float(str(x).strip(\"%\")) for x in df[col]]\n",
    "            df[col].fillna(method='bfill')\n",
    "    \n",
    "    df['Average Sale To List'] = [float(str(x).strip(\"%\")) for x in df['Average Sale To List']]\n",
    "    df['Average Sale To List'].fillna(method='bfill')\n",
    "    return (df)"
   ]
  },
  {
   "cell_type": "code",
   "execution_count": 5,
   "metadata": {
    "collapsed": false
   },
   "outputs": [],
   "source": [
    "### read in data\n",
    "def read_data(filename, property_type):\n",
    "    df = pd.read_csv(filename)\n",
    "    df.columns = [x.strip(\" \") for x in df.columns]\n",
    "    df['property_type'] = property_type\n",
    "    df['property_type_num'] = PROPERTY_TYPES.index(property_type)\n",
    "    df.head()\n",
    "    return (df)"
   ]
  },
  {
   "cell_type": "code",
   "execution_count": 6,
   "metadata": {
    "collapsed": false
   },
   "outputs": [],
   "source": [
    "### add columns for city, state, and neighborhood\n",
    "def parse_region(df):\n",
    "    df['location'] = [x.split(\",\") for x in df.Region]\n",
    "    df['city'] = [x[0].strip(\",\").lower() for x in df.location]\n",
    "    df['state'] = [x[1].split(\" \")[1].lower().strip() for x in df.location]\n",
    "    df['neighborhood'] = [x[1].split(\" \")[3].strip().lower() for x in df.location]\n",
    "    df = df[df.city == 'san jose']\n",
    "    df.head()"
   ]
  },
  {
   "cell_type": "code",
   "execution_count": 7,
   "metadata": {
    "collapsed": false
   },
   "outputs": [],
   "source": [
    "### convert Median Sale Price to a float\n",
    "def convert_med_sale_pr(df):\n",
    "    df[u'Median Sale Price'] = [x.strip(\"$\").replace(\",\", \"\") for x in df[\"Median Sale Price\"]]\n",
    "    df[u'Median Sale Price'] = [int(x) if x[len(x)-1] != \"K\" else int(x.strip(\"K\"))*1000 \n",
    "                                for x in df[\"Median Sale Price\"]]"
   ]
  },
  {
   "cell_type": "code",
   "execution_count": 8,
   "metadata": {
    "collapsed": true
   },
   "outputs": [],
   "source": [
    "### convert neighborhood to a numerical value\n",
    "def convert_neighborhood(df):\n",
    "    neighborhoods = df.neighborhood.unique()\n",
    "    df['neighborhood_num'] = [np.where(neighborhoods == x)[0][0] for x in df.neighborhood]"
   ]
  },
  {
   "cell_type": "code",
   "execution_count": 9,
   "metadata": {
    "collapsed": true
   },
   "outputs": [],
   "source": [
    "def bin_med_sale_pr(df, bins):\n",
    "    med_sale_pr = df['Median Sale Price']\n",
    "    bins = np.linspace(med_sale_pr.min(), med_sale_pr.max(), bins)\n",
    "    digitized = np.digitize(med_sale_pr, bins)\n",
    "    df['Median_Sale_Price_Bin'] = digitized\n",
    "    return (df)"
   ]
  },
  {
   "cell_type": "code",
   "execution_count": 10,
   "metadata": {
    "collapsed": true
   },
   "outputs": [],
   "source": [
    "def parse_date(df):\n",
    "    df['Month of Period End'] = [x.replace('-', ' ') for x in df['Month of Period End']]\n",
    "    df['Month'] = [MONTHS.index(x.split(' ')[0][:3]) for x in df['Month of Period End']]\n",
    "    df['Year'] = [int(x.split(' ')[1]) for x in df['Month of Period End']]\n",
    "    return (df)"
   ]
  },
  {
   "cell_type": "code",
   "execution_count": 11,
   "metadata": {
    "collapsed": false
   },
   "outputs": [],
   "source": [
    "### given the filename and property type return\n",
    "### a dataframe with string fields converted to\n",
    "### numerical and regions parsed out\n",
    "def clean_data(filename, property_type):\n",
    "    df = read_data(filename, property_type)\n",
    "    convert_med_sale_pr(df)\n",
    "    parse_region(df)\n",
    "    df = convert_percentage(df)\n",
    "    convert_neighborhood(df)\n",
    "    df = parse_date(df)\n",
    "    df = bin_med_sale_pr(df, BINS)\n",
    "    return (df)"
   ]
  },
  {
   "cell_type": "code",
   "execution_count": 12,
   "metadata": {
    "collapsed": true
   },
   "outputs": [],
   "source": [
    "# merge several dataframes together\n",
    "# files = list of tuples, \n",
    "# each tuple should contain filename first then property type\n",
    "\n",
    "# How to deal with NA's? fill with 0 for now ...\n",
    "def merge_data(files):\n",
    "    frames = []\n",
    "    for f in files:\n",
    "        frames.append(clean_data(f[0], f[1]))\n",
    "    return (pd.concat(frames).fillna(0))"
   ]
  },
  {
   "cell_type": "code",
   "execution_count": 13,
   "metadata": {
    "collapsed": true
   },
   "outputs": [],
   "source": [
    "# x_train has 70% of the dataset\n",
    "# x_test has 30% of the dataset\n",
    "# ignore y_train and y_test\n",
    "# Regression: Train on x_train, remove non-numerical columns first!\n",
    "# Test on x_test\n",
    "\n",
    "# splits dataset up into training (70%) and testing (30%) sets\n",
    "# evenly based on neighborhood\n",
    "\n",
    "def split_test_train(total, stratify_col):\n",
    "    total2 = total.copy(deep=True)\n",
    "    y = total2[stratify_col]\n",
    "    x = total2\n",
    "    x_train, x_test, y_train, y_test = train_test_split(x, y, test_size = 0.3, random_state = 42)\n",
    "    return (x_train, x_test, y_train, y_test)"
   ]
  },
  {
   "cell_type": "code",
   "execution_count": 14,
   "metadata": {
    "collapsed": true
   },
   "outputs": [],
   "source": [
    "# fits a regression model to a training set\n",
    "def model(x_train, reg):\n",
    "    X = x_train.loc[:, x_train.columns.difference(COLS_EXCLUDE)]\n",
    "    Y = x_train.loc[:, 'Median Sale Price']\n",
    "    reg.fit(X, Y)\n",
    "    return (reg)"
   ]
  },
  {
   "cell_type": "code",
   "execution_count": 15,
   "metadata": {
    "collapsed": true
   },
   "outputs": [],
   "source": [
    "def predict(x_test, reg):\n",
    "    X_test = x_test.loc[:, x_train.columns.difference(COLS_EXCLUDE)]\n",
    "    Y_test = x_test.loc[:, 'Median Sale Price']\n",
    "    return (reg.predict(X_test), Y_test)\n"
   ]
  },
  {
   "cell_type": "code",
   "execution_count": 16,
   "metadata": {
    "collapsed": false
   },
   "outputs": [],
   "source": [
    "# how many of the predicted prices were within\n",
    "# thresh % of the actual price?\n",
    "# return a ratio\n",
    "\n",
    "def evaluate(y_pred, y_test, thresh):\n",
    "    assert len(y_pred) == len(y_test)\n",
    "    result = []\n",
    "    for (pred, test) in zip(y_pred, y_test):\n",
    "        result.append(math.fabs((test-pred)/test) <= thresh)\n",
    "    \n",
    "    return (float(sum(result))/float(len(result)))"
   ]
  },
  {
   "cell_type": "code",
   "execution_count": 17,
   "metadata": {
    "collapsed": false
   },
   "outputs": [],
   "source": [
    "files = [('sanjose_condos.csv', PROPERTY_TYPES[0]), ('sanjose_townhouse2.csv', PROPERTY_TYPES[1]),\n",
    "        ('sanjose_multiunit.csv', PROPERTY_TYPES[2]), (\"sanjose_singlefamily.csv\", PROPERTY_TYPES[3])]\n",
    "total = merge_data(files)"
   ]
  },
  {
   "cell_type": "code",
   "execution_count": 32,
   "metadata": {
    "collapsed": false
   },
   "outputs": [
    {
     "data": {
      "text/plain": [
       "Index([u'Region', u'Month of Period End', u'Median Sale Price',\n",
       "       u'Median Sale Price MoM', u'Median Sale Price YoY', u'Homes Sold',\n",
       "       u'Homes Sold MoM', u'Homes Sold YoY', u'New Listings',\n",
       "       u'New Listings MoM', u'New Listings YoY', u'Inventory',\n",
       "       u'Inventory MoM', u'Inventory YoY', u'Days on Market',\n",
       "       u'Days on Market MoM', u'Days on Market YoY', u'Average Sale To List',\n",
       "       u'Average Sale To List MoM', u'Average Sale To List YoY',\n",
       "       u'property_type', u'property_type_num', u'location', u'city', u'state',\n",
       "       u'neighborhood', u'neighborhood_num', u'Month', u'Year',\n",
       "       u'Median_Sale_Price_Bin'],\n",
       "      dtype='object')"
      ]
     },
     "execution_count": 32,
     "metadata": {},
     "output_type": "execute_result"
    }
   ],
   "source": [
    "total.columns"
   ]
  },
  {
   "cell_type": "code",
   "execution_count": 18,
   "metadata": {
    "collapsed": false
   },
   "outputs": [
    {
     "data": {
      "text/html": [
       "<div>\n",
       "<table border=\"1\" class=\"dataframe\">\n",
       "  <thead>\n",
       "    <tr style=\"text-align: right;\">\n",
       "      <th></th>\n",
       "      <th>Region</th>\n",
       "      <th>Month of Period End</th>\n",
       "      <th>Median Sale Price</th>\n",
       "      <th>Median Sale Price MoM</th>\n",
       "      <th>Median Sale Price YoY</th>\n",
       "      <th>Homes Sold</th>\n",
       "      <th>Homes Sold MoM</th>\n",
       "      <th>Homes Sold YoY</th>\n",
       "      <th>New Listings</th>\n",
       "      <th>New Listings MoM</th>\n",
       "      <th>...</th>\n",
       "      <th>property_type</th>\n",
       "      <th>property_type_num</th>\n",
       "      <th>location</th>\n",
       "      <th>city</th>\n",
       "      <th>state</th>\n",
       "      <th>neighborhood</th>\n",
       "      <th>neighborhood_num</th>\n",
       "      <th>Month</th>\n",
       "      <th>Year</th>\n",
       "      <th>Median_Sale_Price_Bin</th>\n",
       "    </tr>\n",
       "  </thead>\n",
       "  <tbody>\n",
       "    <tr>\n",
       "      <th>0</th>\n",
       "      <td>San Jose, CA - Alexander</td>\n",
       "      <td>January 2012</td>\n",
       "      <td>152000</td>\n",
       "      <td>-1.0</td>\n",
       "      <td>18.8</td>\n",
       "      <td>12</td>\n",
       "      <td>-7.7</td>\n",
       "      <td>100.0</td>\n",
       "      <td>12.0</td>\n",
       "      <td>0.0</td>\n",
       "      <td>...</td>\n",
       "      <td>condo</td>\n",
       "      <td>0</td>\n",
       "      <td>[San Jose,  CA - Alexander]</td>\n",
       "      <td>san jose</td>\n",
       "      <td>ca</td>\n",
       "      <td>alexander</td>\n",
       "      <td>0</td>\n",
       "      <td>0</td>\n",
       "      <td>2012</td>\n",
       "      <td>1</td>\n",
       "    </tr>\n",
       "    <tr>\n",
       "      <th>1</th>\n",
       "      <td>San Jose, CA - Alexander</td>\n",
       "      <td>February 2012</td>\n",
       "      <td>146000</td>\n",
       "      <td>-4.0</td>\n",
       "      <td>-1.7</td>\n",
       "      <td>10</td>\n",
       "      <td>-16.7</td>\n",
       "      <td>42.9</td>\n",
       "      <td>11.0</td>\n",
       "      <td>-8.3</td>\n",
       "      <td>...</td>\n",
       "      <td>condo</td>\n",
       "      <td>0</td>\n",
       "      <td>[San Jose,  CA - Alexander]</td>\n",
       "      <td>san jose</td>\n",
       "      <td>ca</td>\n",
       "      <td>alexander</td>\n",
       "      <td>0</td>\n",
       "      <td>1</td>\n",
       "      <td>2012</td>\n",
       "      <td>1</td>\n",
       "    </tr>\n",
       "    <tr>\n",
       "      <th>2</th>\n",
       "      <td>San Jose, CA - Alexander</td>\n",
       "      <td>March 2012</td>\n",
       "      <td>146000</td>\n",
       "      <td>0.0</td>\n",
       "      <td>-7.0</td>\n",
       "      <td>13</td>\n",
       "      <td>30.0</td>\n",
       "      <td>116.7</td>\n",
       "      <td>12.0</td>\n",
       "      <td>9.1</td>\n",
       "      <td>...</td>\n",
       "      <td>condo</td>\n",
       "      <td>0</td>\n",
       "      <td>[San Jose,  CA - Alexander]</td>\n",
       "      <td>san jose</td>\n",
       "      <td>ca</td>\n",
       "      <td>alexander</td>\n",
       "      <td>0</td>\n",
       "      <td>2</td>\n",
       "      <td>2012</td>\n",
       "      <td>1</td>\n",
       "    </tr>\n",
       "    <tr>\n",
       "      <th>3</th>\n",
       "      <td>San Jose, CA - Alexander</td>\n",
       "      <td>April 2012</td>\n",
       "      <td>140000</td>\n",
       "      <td>-3.6</td>\n",
       "      <td>-7.4</td>\n",
       "      <td>10</td>\n",
       "      <td>-23.1</td>\n",
       "      <td>25.0</td>\n",
       "      <td>5.0</td>\n",
       "      <td>-58.3</td>\n",
       "      <td>...</td>\n",
       "      <td>condo</td>\n",
       "      <td>0</td>\n",
       "      <td>[San Jose,  CA - Alexander]</td>\n",
       "      <td>san jose</td>\n",
       "      <td>ca</td>\n",
       "      <td>alexander</td>\n",
       "      <td>0</td>\n",
       "      <td>3</td>\n",
       "      <td>2012</td>\n",
       "      <td>1</td>\n",
       "    </tr>\n",
       "    <tr>\n",
       "      <th>4</th>\n",
       "      <td>San Jose, CA - Alexander</td>\n",
       "      <td>May 2012</td>\n",
       "      <td>150000</td>\n",
       "      <td>7.0</td>\n",
       "      <td>12.8</td>\n",
       "      <td>11</td>\n",
       "      <td>10.0</td>\n",
       "      <td>0.0</td>\n",
       "      <td>8.0</td>\n",
       "      <td>60.0</td>\n",
       "      <td>...</td>\n",
       "      <td>condo</td>\n",
       "      <td>0</td>\n",
       "      <td>[San Jose,  CA - Alexander]</td>\n",
       "      <td>san jose</td>\n",
       "      <td>ca</td>\n",
       "      <td>alexander</td>\n",
       "      <td>0</td>\n",
       "      <td>4</td>\n",
       "      <td>2012</td>\n",
       "      <td>1</td>\n",
       "    </tr>\n",
       "  </tbody>\n",
       "</table>\n",
       "<p>5 rows × 30 columns</p>\n",
       "</div>"
      ],
      "text/plain": [
       "                     Region Month of Period End  Median Sale Price  \\\n",
       "0  San Jose, CA - Alexander        January 2012             152000   \n",
       "1  San Jose, CA - Alexander       February 2012             146000   \n",
       "2  San Jose, CA - Alexander          March 2012             146000   \n",
       "3  San Jose, CA - Alexander          April 2012             140000   \n",
       "4  San Jose, CA - Alexander            May 2012             150000   \n",
       "\n",
       "   Median Sale Price MoM  Median Sale Price YoY  Homes Sold  Homes Sold MoM  \\\n",
       "0                   -1.0                   18.8          12            -7.7   \n",
       "1                   -4.0                   -1.7          10           -16.7   \n",
       "2                    0.0                   -7.0          13            30.0   \n",
       "3                   -3.6                   -7.4          10           -23.1   \n",
       "4                    7.0                   12.8          11            10.0   \n",
       "\n",
       "   Homes Sold YoY  New Listings  New Listings MoM          ...            \\\n",
       "0           100.0          12.0               0.0          ...             \n",
       "1            42.9          11.0              -8.3          ...             \n",
       "2           116.7          12.0               9.1          ...             \n",
       "3            25.0           5.0             -58.3          ...             \n",
       "4             0.0           8.0              60.0          ...             \n",
       "\n",
       "   property_type  property_type_num                     location      city  \\\n",
       "0          condo                  0  [San Jose,  CA - Alexander]  san jose   \n",
       "1          condo                  0  [San Jose,  CA - Alexander]  san jose   \n",
       "2          condo                  0  [San Jose,  CA - Alexander]  san jose   \n",
       "3          condo                  0  [San Jose,  CA - Alexander]  san jose   \n",
       "4          condo                  0  [San Jose,  CA - Alexander]  san jose   \n",
       "\n",
       "   state  neighborhood  neighborhood_num  Month  Year  Median_Sale_Price_Bin  \n",
       "0     ca     alexander                 0      0  2012                      1  \n",
       "1     ca     alexander                 0      1  2012                      1  \n",
       "2     ca     alexander                 0      2  2012                      1  \n",
       "3     ca     alexander                 0      3  2012                      1  \n",
       "4     ca     alexander                 0      4  2012                      1  \n",
       "\n",
       "[5 rows x 30 columns]"
      ]
     },
     "execution_count": 18,
     "metadata": {},
     "output_type": "execute_result"
    }
   ],
   "source": [
    "total.head()"
   ]
  },
  {
   "cell_type": "code",
   "execution_count": 29,
   "metadata": {
    "collapsed": false
   },
   "outputs": [
    {
     "name": "stdout",
     "output_type": "stream",
     "text": [
      "('Average Sale To List', 1977.4372765833959)\n",
      "('Average Sale To List MoM', -564.93034311678753)\n",
      "('Average Sale To List YoY', -1195.1447500354539)\n",
      "('Days on Market', -154.06102356196376)\n",
      "('Days on Market MoM', 8.5851331374364808)\n",
      "('Days on Market YoY', 71.351924522824646)\n",
      "('Homes Sold', -10.854543475302112)\n",
      "('Homes Sold MoM', 16.580515363875513)\n",
      "('Homes Sold YoY', 11.778862056446281)\n",
      "('Inventory', 3.0790342209491137)\n",
      "('Inventory MoM', 1.5257491710772348)\n",
      "('Inventory YoY', 12.440900435771692)\n",
      "('Median Sale Price MoM', 168.64380728675997)\n",
      "('Median Sale Price YoY', 44.874536382823862)\n",
      "('Median_Sale_Price_Bin', 218146.90195767206)\n",
      "('Month', 336.41346975902286)\n",
      "('New Listings', 0.77503745500617349)\n",
      "('New Listings MoM', 38.429606442810964)\n",
      "('New Listings YoY', 10.776222255687195)\n",
      "('Year', 59.687181322639709)\n",
      "('neighborhood_num', 70.831045219654996)\n",
      "('property_type_num', 40690.672692753353)\n"
     ]
    }
   ],
   "source": [
    "x_train, x_test, _, _ = split_test_train(total, 'Median_Sale_Price_Bin')\n",
    "reg = model(x_train, linear_model.Lasso(alpha=0.5))\n",
    "\n",
    "np.set_printoptions(precision=3, suppress=True)\n",
    "cols = x_train.loc[:, x_train.columns.difference(COLS_EXCLUDE)].columns\n",
    "coeff = np.array(reg.coef_)\n",
    "\n",
    "for (col, coeff) in zip(cols, coeff):\n",
    "    print (col,coeff)"
   ]
  },
  {
   "cell_type": "code",
   "execution_count": 20,
   "metadata": {
    "collapsed": false
   },
   "outputs": [],
   "source": [
    "Y_pred, Y_test = predict(x_test, reg)"
   ]
  },
  {
   "cell_type": "code",
   "execution_count": 26,
   "metadata": {
    "collapsed": false
   },
   "outputs": [
    {
     "name": "stdout",
     "output_type": "stream",
     "text": [
      "0.311932555123\n",
      "0.584738434933\n",
      "0.79766536965\n",
      "0.940121054907\n"
     ]
    }
   ],
   "source": [
    "for t in [0.05, 0.10, 0.15, 0.25]:\n",
    "    print (evaluate(Y_pred, Y_test, t))"
   ]
  },
  {
   "cell_type": "code",
   "execution_count": 30,
   "metadata": {
    "collapsed": false
   },
   "outputs": [
    {
     "data": {
      "image/png": "[encoded data removed]",
      "text/plain": [
       "<matplotlib.figure.Figure at 0x117e11510>"
      ]
     },
     "metadata": {},
     "output_type": "display_data"
    }
   ],
   "source": [
    "make_histogram(x_train['Median Sale Price'], 50)"
   ]
  },
  {
   "cell_type": "code",
   "execution_count": 31,
   "metadata": {
    "collapsed": false
   },
   "outputs": [
    {
     "data": {
      "image/png": "[encoded data removed]",
      "text/plain": [
       "<matplotlib.figure.Figure at 0x11bc50b90>"
      ]
     },
     "metadata": {},
     "output_type": "display_data"
    }
   ],
   "source": [
    "make_histogram(x_test['Median Sale Price'], 50)"
   ]
  },
  {
   "cell_type": "code",
   "execution_count": null,
   "metadata": {
    "collapsed": true
   },
   "outputs": [],
   "source": []
  }
 ],
 "metadata": {
  "anaconda-cloud": {},
  "kernelspec": {
   "display_name": "Python [conda root]",
   "language": "python",
   "name": "conda-root-py"
  },
  "language_info": {
   "codemirror_mode": {
    "name": "ipython",
    "version": 2
   },
   "file_extension": ".py",
   "mimetype": "text/x-python",
   "name": "python",
   "nbconvert_exporter": "python",
   "pygments_lexer": "ipython2",
   "version": "2.7.12"
  }
 },
 "nbformat": 4,
 "nbformat_minor": 1
}

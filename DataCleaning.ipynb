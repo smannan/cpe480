{
 "cells": [
  {
   "cell_type": "markdown",
   "metadata": {},
   "source": [
    "## Summary of data\n",
    "## Properties from San Jose, CA\n",
    "## 6099 condos\n",
    "## 92 different neighborhoods"
   ]
  },
  {
   "cell_type": "code",
   "execution_count": 129,
   "metadata": {
    "collapsed": true
   },
   "outputs": [],
   "source": [
    "PROPERTY_TYPES = ['condo', 'townhouse', 'multiunit', 'singlefamily']\n",
    "TRESH = 0.15\n",
    "NUM_BINS = 5\n",
    "BINS = []\n",
    "\n",
    "MONTHS = ['Jan', 'Feb', 'Mar', 'Apr', 'May', \n",
    "          'Jun', 'Jul', 'Aug', 'Sep', 'Oct',\n",
    "         'Nov', 'Dec']\n",
    "\n",
    "COLS_EXCLUDE = ['Median Sale Price','Region','neighborhood',\n",
    "                'location','city','property_type','state',\n",
    "                'Month of Period End', 'Median_Sale_Price_Bin', 'neighborhood_num', 'Month of Period End']"
   ]
  },
  {
   "cell_type": "code",
   "execution_count": 2,
   "metadata": {
    "collapsed": false
   },
   "outputs": [],
   "source": [
    "import csv\n",
    "import itertools\n",
    "import pandas as pd\n",
    "import numpy as np\n",
    "import math\n",
    "import matplotlib.pyplot as plt\n",
    "import matplotlib.patches as patches\n",
    "import matplotlib.path as path\n",
    "\n",
    "from sklearn.cross_validation import train_test_split\n",
    "from sklearn import linear_model\n",
    "from sklearn import ensemble \n",
    "from sklearn.metrics import confusion_matrix\n",
    "from string import punctuation"
   ]
  },
  {
   "cell_type": "code",
   "execution_count": 3,
   "metadata": {
    "collapsed": true
   },
   "outputs": [],
   "source": [
    "def make_histogram(data, bins):\n",
    "    fig, ax = plt.subplots()\n",
    "\n",
    "    # histogram our data with numpy\n",
    "    n, bins = np.histogram(data, bins)\n",
    "\n",
    "    # get the corners of the rectangles for the histogram\n",
    "    left = np.array(bins[:-1])\n",
    "    right = np.array(bins[1:])\n",
    "    bottom = np.zeros(len(left))\n",
    "    top = bottom + n\n",
    "\n",
    "\n",
    "    # we need a (numrects x numsides x 2) numpy array for the path helper\n",
    "    # function to build a compound path\n",
    "    XY = np.array([[left, left, right, right], [bottom, top, top, bottom]]).T\n",
    "\n",
    "    # get the Path object\n",
    "    barpath = path.Path.make_compound_path_from_polys(XY)\n",
    "\n",
    "    # make a patch out of it\n",
    "    patch = patches.PathPatch(barpath)\n",
    "    ax.add_patch(patch)\n",
    "\n",
    "    # update the view limits\n",
    "    ax.set_xlim(left[0], right[-1])\n",
    "    ax.set_ylim(bottom.min(), top.max())\n",
    "\n",
    "    plt.show()"
   ]
  },
  {
   "cell_type": "code",
   "execution_count": 4,
   "metadata": {
    "collapsed": true
   },
   "outputs": [],
   "source": [
    "def plot_confusion_matrix(cm, classes,\n",
    "                          normalize=False,\n",
    "                          title='Confusion matrix',\n",
    "                          cmap=plt.cm.Blues):\n",
    "    \"\"\"\n",
    "    This function prints and plots the confusion matrix.\n",
    "    Normalization can be applied by setting `normalize=True`.\n",
    "    \"\"\"\n",
    "    plt.imshow(cm, interpolation='nearest', cmap=cmap)\n",
    "    plt.title(title)\n",
    "    plt.colorbar()\n",
    "    tick_marks = np.arange(len(classes))\n",
    "    plt.xticks(tick_marks, classes, rotation=45)\n",
    "    plt.yticks(tick_marks, classes)\n",
    "\n",
    "    if normalize:\n",
    "        cm = cm.astype('float') / cm.sum(axis=1)[:, np.newaxis]\n",
    "        print(\"Normalized confusion matrix\")\n",
    "    else:\n",
    "        print('Confusion matrix, without normalization')\n",
    "\n",
    "    print(cm)\n",
    "\n",
    "    thresh = cm.max() / 2.\n",
    "    for i, j in itertools.product(range(cm.shape[0]), range(cm.shape[1])):\n",
    "        plt.text(j, i, np.around(cm[i, j], 2),\n",
    "                 horizontalalignment=\"center\",\n",
    "                 color=\"white\" if cm[i, j] > thresh else \"black\")\n",
    "\n",
    "    plt.tight_layout()\n",
    "    plt.ylabel('True label')\n",
    "    plt.xlabel('Predicted label')"
   ]
  },
  {
   "cell_type": "code",
   "execution_count": 5,
   "metadata": {
    "collapsed": true
   },
   "outputs": [],
   "source": [
    "# convert string percentages to numerical\n",
    "def convert_percentage(df):\n",
    "    for col in df.columns:\n",
    "        c = col.split(\" \")\n",
    "        if c[-1] == \"MoM\" or c[-1] == \"YoY\": \n",
    "            df[col] = [float(str(x).strip(\"%\")) for x in df[col]]\n",
    "    \n",
    "    df['Average Sale To List'] = [float(str(x).strip(\"%\")) for x in df['Average Sale To List']]"
   ]
  },
  {
   "cell_type": "code",
   "execution_count": 6,
   "metadata": {
    "collapsed": false
   },
   "outputs": [],
   "source": [
    "### read in data\n",
    "def read_data(filename, property_type):\n",
    "    df = pd.read_csv(filename)\n",
    "    df.columns = [x.strip(\" \") for x in df.columns]\n",
    "    df['property_type'] = property_type\n",
    "    df['property_type_num'] = PROPERTY_TYPES.index(property_type)\n",
    "    df.head()\n",
    "    return (df)"
   ]
  },
  {
   "cell_type": "code",
   "execution_count": 7,
   "metadata": {
    "collapsed": false
   },
   "outputs": [],
   "source": [
    "### add columns for city, state, and neighborhood\n",
    "def parse_region(df):\n",
    "    df['location'] = [x.split(\",\") for x in df.Region]\n",
    "    df['city'] = [x[0].strip(\",\").lower() for x in df.location]\n",
    "    df['state'] = [x[1].split(\" \")[1].lower().strip() for x in df.location]\n",
    "    df['neighborhood'] = [x[1].split(\" \")[3].strip().lower() for x in df.location]\n",
    "    df = df[df.city == 'san jose']\n",
    "    df.head()"
   ]
  },
  {
   "cell_type": "code",
   "execution_count": 90,
   "metadata": {
    "collapsed": false
   },
   "outputs": [],
   "source": [
    "### convert Median Sale Price to a float\n",
    "def convert_med_sale_pr(df):\n",
    "    df[u'Median Sale Price'] = [x.strip(\"$\").replace(\",\", \"\") for x in df[\"Median Sale Price\"]]\n",
    "    df[u'Median Sale Price'] = [int(x) if x[len(x)-1] != \"K\" else int(x.strip(\"K\"))*1000 \n",
    "                                for x in df[\"Median Sale Price\"]]"
   ]
  },
  {
   "cell_type": "code",
   "execution_count": 9,
   "metadata": {
    "collapsed": false
   },
   "outputs": [],
   "source": [
    "### convert neighborhood to a numerical value\n",
    "def convert_neighborhood(df):\n",
    "    neighborhoods = df.neighborhood.unique()\n",
    "    df['neighborhood_num'] = [np.where(neighborhoods == x)[0][0] for x in df.neighborhood]"
   ]
  },
  {
   "cell_type": "code",
   "execution_count": 10,
   "metadata": {
    "collapsed": true
   },
   "outputs": [],
   "source": [
    "# encode catgorial variable so that it can be used\n",
    "# in regression\n",
    "def encode_categorial(df):\n",
    "    neighborhoods = df.neighborhood.unique()\n",
    "    for n in neighborhoods:\n",
    "        df[n] = [1 if x == n else 0 for x in df.neighborhood]\n",
    "    return (df)"
   ]
  },
  {
   "cell_type": "code",
   "execution_count": 11,
   "metadata": {
    "collapsed": true
   },
   "outputs": [],
   "source": [
    "# take median sale prices, bin, and add a column \n",
    "# that represents price ranges\n",
    "def bin_med_sale_pr(df, bins):\n",
    "    med_sale_pr = df['Median Sale Price']\n",
    "    bins = np.linspace(med_sale_pr.min(), med_sale_pr.max(), bins)\n",
    "    digitized = np.digitize(med_sale_pr, bins)\n",
    "    df['Median_Sale_Price_Bin'] = digitized\n",
    "    return (df, bins)"
   ]
  },
  {
   "cell_type": "code",
   "execution_count": 125,
   "metadata": {
    "collapsed": false
   },
   "outputs": [],
   "source": [
    "# Take date and turn it into month and year\n",
    "def parse_date(df):\n",
    "    df['Month of Period End'] = [x.replace('-', ' ') for x in df['Month of Period End']]\n",
    "    # df['Month'] = [MONTHS.index(x.split(' ')[0][:3]) for x in df['Month of Period End']]\n",
    "    df['Month'] = [MONTHS.index(x.split(' ')[1][:3]) for x in df['Month of Period End']]\n",
    "    # df['Year'] = [int(x.split(' ')[1]) for x in df['Month of Period End']]\n",
    "    df['Year'] = [int(x.split(' ')[0]) for x in df['Month of Period End']]\n",
    "    return (df)"
   ]
  },
  {
   "cell_type": "code",
   "execution_count": 13,
   "metadata": {
    "collapsed": true
   },
   "outputs": [],
   "source": [
    "def filter_prices(df, high, low):\n",
    "    t_cutoff = np.percentile(sorted(df['Median Sale Price']), high)\n",
    "    b_cutoff = np.percentile(sorted(df['Median Sale Price']), low)\n",
    "    df = df[df['Median Sale Price'] <= t_cutoff]\n",
    "    df = df[df['Median Sale Price'] >= b_cutoff]\n",
    "    return (df)"
   ]
  },
  {
   "cell_type": "code",
   "execution_count": 126,
   "metadata": {
    "collapsed": false
   },
   "outputs": [],
   "source": [
    "### given the filename and property type return\n",
    "### a dataframe with string fields converted to\n",
    "### numerical and regions parsed out\n",
    "def clean_data(filename, property_type):\n",
    "    df = read_data(filename, property_type)\n",
    "    df = df[df['Median Sale Price'].isnull() == False]\n",
    "    convert_med_sale_pr(df)\n",
    "    parse_region(df)\n",
    "    convert_percentage(df)\n",
    "    convert_neighborhood(df)\n",
    "    # df = parse_date(df)\n",
    "    df = filter_prices(df, 75, 10)\n",
    "    return (df)"
   ]
  },
  {
   "cell_type": "code",
   "execution_count": 97,
   "metadata": {
    "collapsed": true
   },
   "outputs": [],
   "source": [
    "# merge several dataframes together\n",
    "# files = list of tuples, \n",
    "# each tuple should contain filename first then property type\n",
    "\n",
    "# How to deal with NA's? fill with 0 for now ...\n",
    "def merge_data(files):\n",
    "    frames = []\n",
    "    for f in files:\n",
    "        frames.append(clean_data(f[0], f[1]))\n",
    "    \n",
    "    df = pd.concat(frames).fillna(method='ffill')\n",
    "    return (df)"
   ]
  },
  {
   "cell_type": "code",
   "execution_count": 98,
   "metadata": {
    "collapsed": true
   },
   "outputs": [],
   "source": [
    "# x_train has 70% of the dataset\n",
    "# x_test has 30% of the dataset\n",
    "# ignore y_train and y_test\n",
    "# Regression: Train on x_train, remove non-numerical columns first!\n",
    "# Test on x_test\n",
    "\n",
    "# splits dataset up into training (70%) and testing (30%) sets\n",
    "# evenly based on neighborhood\n",
    "\n",
    "def split_test_train(total, stratify_col):\n",
    "    total2 = total.copy(deep=True)\n",
    "    y = total2[stratify_col]\n",
    "    x = total2\n",
    "    x_train, x_test, y_train, y_test = train_test_split(x, y, test_size = 0.3, random_state = 42)\n",
    "    return (x_train, x_test, y_train, y_test)"
   ]
  },
  {
   "cell_type": "code",
   "execution_count": 99,
   "metadata": {
    "collapsed": true
   },
   "outputs": [],
   "source": [
    "# fits a regression model to a training set\n",
    "def model(x_train, model, label, cols_exclude=COLS_EXCLUDE):\n",
    "    X = x_train.loc[:, x_train.columns.difference(cols_exclude)]\n",
    "    Y = x_train.loc[:, label]\n",
    "    model.fit(X, Y)\n",
    "    return (model)"
   ]
  },
  {
   "cell_type": "code",
   "execution_count": 100,
   "metadata": {
    "collapsed": true
   },
   "outputs": [],
   "source": [
    "def predict(x_test, model, label):\n",
    "    X_test = x_test.loc[:, x_train.columns.difference(COLS_EXCLUDE)]\n",
    "    Y_test = x_test.loc[:, label]\n",
    "    return (model.predict(X_test), Y_test)"
   ]
  },
  {
   "cell_type": "code",
   "execution_count": 101,
   "metadata": {
    "collapsed": false
   },
   "outputs": [],
   "source": [
    "# how many of the predicted prices were within\n",
    "# thresh % of the actual price?\n",
    "# return a ratio\n",
    "\n",
    "def evaluate(y_pred, y_test, thresh):\n",
    "    assert len(y_pred) == len(y_test)\n",
    "    result = []\n",
    "    for (pred, test) in zip(y_pred, y_test):\n",
    "        result.append(math.fabs((test-pred)/test) <= thresh)\n",
    "    \n",
    "    return (float(sum(result))/float(len(result)))"
   ]
  },
  {
   "cell_type": "code",
   "execution_count": 127,
   "metadata": {
    "collapsed": false
   },
   "outputs": [],
   "source": [
    "files = [('sanjose_condos(1).csv', PROPERTY_TYPES[0]), ('sanjose_townhouse2(1).csv', PROPERTY_TYPES[1]), \n",
    " ('sanjose_multiunit(1).csv', PROPERTY_TYPES[2]), (\"sanjose_singlefamily(1).csv\", PROPERTY_TYPES[3])]\n",
    "\n",
    "total = merge_data(files)\n",
    "total, bins = bin_med_sale_pr(total, NUM_BINS)"
   ]
  },
  {
   "cell_type": "code",
   "execution_count": 128,
   "metadata": {
    "collapsed": false
   },
   "outputs": [
    {
     "data": {
      "text/html": [
       "<div>\n",
       "<table border=\"1\" class=\"dataframe\">\n",
       "  <thead>\n",
       "    <tr style=\"text-align: right;\">\n",
       "      <th></th>\n",
       "      <th>Region</th>\n",
       "      <th>Month of Period End</th>\n",
       "      <th>Median Sale Price</th>\n",
       "      <th>Median Sale Price MoM</th>\n",
       "      <th>Median Sale Price YoY</th>\n",
       "      <th>Homes Sold</th>\n",
       "      <th>Homes Sold MoM</th>\n",
       "      <th>Homes Sold YoY</th>\n",
       "      <th>New Listings</th>\n",
       "      <th>New Listings MoM</th>\n",
       "      <th>...</th>\n",
       "      <th>Average Sale To List YoY</th>\n",
       "      <th>Zip Code</th>\n",
       "      <th>property_type</th>\n",
       "      <th>property_type_num</th>\n",
       "      <th>location</th>\n",
       "      <th>city</th>\n",
       "      <th>state</th>\n",
       "      <th>neighborhood</th>\n",
       "      <th>neighborhood_num</th>\n",
       "      <th>Median_Sale_Price_Bin</th>\n",
       "    </tr>\n",
       "  </thead>\n",
       "  <tbody>\n",
       "    <tr>\n",
       "      <th>41</th>\n",
       "      <td>San Jose, CA - Alexander</td>\n",
       "      <td>15-Jun</td>\n",
       "      <td>352000</td>\n",
       "      <td>6.3</td>\n",
       "      <td>30.6</td>\n",
       "      <td>3.0</td>\n",
       "      <td>-25.0</td>\n",
       "      <td>-25.0</td>\n",
       "      <td>9.0</td>\n",
       "      <td>-10.0</td>\n",
       "      <td>...</td>\n",
       "      <td>-1.7</td>\n",
       "      <td>95116.0</td>\n",
       "      <td>condo</td>\n",
       "      <td>0</td>\n",
       "      <td>[San Jose,  CA - Alexander]</td>\n",
       "      <td>san jose</td>\n",
       "      <td>ca</td>\n",
       "      <td>alexander</td>\n",
       "      <td>0</td>\n",
       "      <td>1</td>\n",
       "    </tr>\n",
       "    <tr>\n",
       "      <th>49</th>\n",
       "      <td>San Jose, CA - Alexander</td>\n",
       "      <td>16-Feb</td>\n",
       "      <td>365000</td>\n",
       "      <td>8.1</td>\n",
       "      <td>29.2</td>\n",
       "      <td>13.0</td>\n",
       "      <td>-7.1</td>\n",
       "      <td>116.7</td>\n",
       "      <td>6.0</td>\n",
       "      <td>-33.3</td>\n",
       "      <td>...</td>\n",
       "      <td>-2.4</td>\n",
       "      <td>95116.0</td>\n",
       "      <td>condo</td>\n",
       "      <td>0</td>\n",
       "      <td>[San Jose,  CA - Alexander]</td>\n",
       "      <td>san jose</td>\n",
       "      <td>ca</td>\n",
       "      <td>alexander</td>\n",
       "      <td>0</td>\n",
       "      <td>1</td>\n",
       "    </tr>\n",
       "    <tr>\n",
       "      <th>50</th>\n",
       "      <td>San Jose, CA - Alexander</td>\n",
       "      <td>16-Mar</td>\n",
       "      <td>355000</td>\n",
       "      <td>-2.7</td>\n",
       "      <td>20.4</td>\n",
       "      <td>6.0</td>\n",
       "      <td>-53.8</td>\n",
       "      <td>100.0</td>\n",
       "      <td>7.0</td>\n",
       "      <td>16.7</td>\n",
       "      <td>...</td>\n",
       "      <td>-3.9</td>\n",
       "      <td>95116.0</td>\n",
       "      <td>condo</td>\n",
       "      <td>0</td>\n",
       "      <td>[San Jose,  CA - Alexander]</td>\n",
       "      <td>san jose</td>\n",
       "      <td>ca</td>\n",
       "      <td>alexander</td>\n",
       "      <td>0</td>\n",
       "      <td>1</td>\n",
       "    </tr>\n",
       "    <tr>\n",
       "      <th>51</th>\n",
       "      <td>San Jose, CA - Alexander</td>\n",
       "      <td>16-Apr</td>\n",
       "      <td>365000</td>\n",
       "      <td>2.7</td>\n",
       "      <td>17.7</td>\n",
       "      <td>3.0</td>\n",
       "      <td>-50.0</td>\n",
       "      <td>-40.0</td>\n",
       "      <td>6.0</td>\n",
       "      <td>-14.3</td>\n",
       "      <td>...</td>\n",
       "      <td>-2.0</td>\n",
       "      <td>95116.0</td>\n",
       "      <td>condo</td>\n",
       "      <td>0</td>\n",
       "      <td>[San Jose,  CA - Alexander]</td>\n",
       "      <td>san jose</td>\n",
       "      <td>ca</td>\n",
       "      <td>alexander</td>\n",
       "      <td>0</td>\n",
       "      <td>1</td>\n",
       "    </tr>\n",
       "    <tr>\n",
       "      <th>52</th>\n",
       "      <td>San Jose, CA - Alexander</td>\n",
       "      <td>16-May</td>\n",
       "      <td>346000</td>\n",
       "      <td>-5.3</td>\n",
       "      <td>4.4</td>\n",
       "      <td>5.0</td>\n",
       "      <td>66.7</td>\n",
       "      <td>25.0</td>\n",
       "      <td>8.0</td>\n",
       "      <td>33.3</td>\n",
       "      <td>...</td>\n",
       "      <td>2.3</td>\n",
       "      <td>95116.0</td>\n",
       "      <td>condo</td>\n",
       "      <td>0</td>\n",
       "      <td>[San Jose,  CA - Alexander]</td>\n",
       "      <td>san jose</td>\n",
       "      <td>ca</td>\n",
       "      <td>alexander</td>\n",
       "      <td>0</td>\n",
       "      <td>1</td>\n",
       "    </tr>\n",
       "  </tbody>\n",
       "</table>\n",
       "<p>5 rows × 29 columns</p>\n",
       "</div>"
      ],
      "text/plain": [
       "                      Region Month of Period End  Median Sale Price  \\\n",
       "41  San Jose, CA - Alexander              15-Jun             352000   \n",
       "49  San Jose, CA - Alexander              16-Feb             365000   \n",
       "50  San Jose, CA - Alexander              16-Mar             355000   \n",
       "51  San Jose, CA - Alexander              16-Apr             365000   \n",
       "52  San Jose, CA - Alexander              16-May             346000   \n",
       "\n",
       "    Median Sale Price MoM  Median Sale Price YoY  Homes Sold  Homes Sold MoM  \\\n",
       "41                    6.3                   30.6         3.0           -25.0   \n",
       "49                    8.1                   29.2        13.0            -7.1   \n",
       "50                   -2.7                   20.4         6.0           -53.8   \n",
       "51                    2.7                   17.7         3.0           -50.0   \n",
       "52                   -5.3                    4.4         5.0            66.7   \n",
       "\n",
       "    Homes Sold YoY  New Listings  New Listings MoM          ...            \\\n",
       "41           -25.0           9.0             -10.0          ...             \n",
       "49           116.7           6.0             -33.3          ...             \n",
       "50           100.0           7.0              16.7          ...             \n",
       "51           -40.0           6.0             -14.3          ...             \n",
       "52            25.0           8.0              33.3          ...             \n",
       "\n",
       "    Average Sale To List YoY  Zip Code  property_type  property_type_num  \\\n",
       "41                      -1.7   95116.0          condo                  0   \n",
       "49                      -2.4   95116.0          condo                  0   \n",
       "50                      -3.9   95116.0          condo                  0   \n",
       "51                      -2.0   95116.0          condo                  0   \n",
       "52                       2.3   95116.0          condo                  0   \n",
       "\n",
       "                       location      city  state  neighborhood  \\\n",
       "41  [San Jose,  CA - Alexander]  san jose     ca     alexander   \n",
       "49  [San Jose,  CA - Alexander]  san jose     ca     alexander   \n",
       "50  [San Jose,  CA - Alexander]  san jose     ca     alexander   \n",
       "51  [San Jose,  CA - Alexander]  san jose     ca     alexander   \n",
       "52  [San Jose,  CA - Alexander]  san jose     ca     alexander   \n",
       "\n",
       "    neighborhood_num  Median_Sale_Price_Bin  \n",
       "41                 0                      1  \n",
       "49                 0                      1  \n",
       "50                 0                      1  \n",
       "51                 0                      1  \n",
       "52                 0                      1  \n",
       "\n",
       "[5 rows x 29 columns]"
      ]
     },
     "execution_count": 128,
     "metadata": {},
     "output_type": "execute_result"
    }
   ],
   "source": [
    "total.head()"
   ]
  },
  {
   "cell_type": "markdown",
   "metadata": {},
   "source": [
    "### Linear Regression Model to predict median sale price from feature list"
   ]
  },
  {
   "cell_type": "code",
   "execution_count": 130,
   "metadata": {
    "collapsed": false
   },
   "outputs": [
    {
     "name": "stdout",
     "output_type": "stream",
     "text": [
      "('Average Sale To List', 6511.2235558126231)\n",
      "('Average Sale To List MoM', -2281.2681590894426)\n",
      "('Average Sale To List YoY', -3927.1144256374623)\n",
      "('Days on Market', -123.87676546912638)\n",
      "('Days on Market MoM', 91.965426423479855)\n",
      "('Days on Market YoY', 176.53905054776379)\n",
      "('Homes Sold', 225.5383287559921)\n",
      "('Homes Sold MoM', -26.787989866882626)\n",
      "('Homes Sold YoY', -20.136940348493614)\n",
      "('Inventory', -568.07367847475655)\n",
      "('Inventory MoM', -35.693100311759238)\n",
      "('Inventory YoY', 102.32827838010708)\n",
      "('Median Sale Price MoM', 914.72860004125073)\n",
      "('Median Sale Price YoY', 186.65526023636801)\n",
      "('New Listings', 367.39608836993978)\n",
      "('New Listings MoM', -57.936749515584566)\n",
      "('New Listings YoY', 37.873290305155201)\n",
      "('Zip Code', -1224.5592130460329)\n",
      "('alexander', -88473.700756080085)\n"
     ]
    }
   ],
   "source": [
    "lin_reg_df = encode_categorial(total.copy())\n",
    "x_train, x_test, _, _ = split_test_train(lin_reg_df, 'Median_Sale_Price_Bin')\n",
    "reg = model(x_train, linear_model.Lasso(alpha=0.5), 'Median Sale Price')\n",
    "\n",
    "np.set_printoptions(precision=3, suppress=True)\n",
    "cols = x_train.loc[:, x_train.columns.difference(COLS_EXCLUDE)].columns[:19]\n",
    "coeff = np.array(reg.coef_)[:19]\n",
    "\n",
    "for (col, coeff) in zip(cols, coeff):\n",
    "    print (col,coeff)"
   ]
  },
  {
   "cell_type": "code",
   "execution_count": 131,
   "metadata": {
    "collapsed": false
   },
   "outputs": [
    {
     "data": {
      "text/html": [
       "<div>\n",
       "<table border=\"1\" class=\"dataframe\">\n",
       "  <thead>\n",
       "    <tr style=\"text-align: right;\">\n",
       "      <th></th>\n",
       "      <th>Region</th>\n",
       "      <th>Month of Period End</th>\n",
       "      <th>Median Sale Price</th>\n",
       "      <th>Median Sale Price MoM</th>\n",
       "      <th>Median Sale Price YoY</th>\n",
       "      <th>Homes Sold</th>\n",
       "      <th>Homes Sold MoM</th>\n",
       "      <th>Homes Sold YoY</th>\n",
       "      <th>New Listings</th>\n",
       "      <th>New Listings MoM</th>\n",
       "      <th>...</th>\n",
       "      <th>ramblewood</th>\n",
       "      <th>rancho</th>\n",
       "      <th>riverview</th>\n",
       "      <th>rose-sartorette</th>\n",
       "      <th>rymar</th>\n",
       "      <th>san</th>\n",
       "      <th>santee</th>\n",
       "      <th>serenede</th>\n",
       "      <th>seven</th>\n",
       "      <th>shadow</th>\n",
       "    </tr>\n",
       "  </thead>\n",
       "  <tbody>\n",
       "    <tr>\n",
       "      <th>41</th>\n",
       "      <td>San Jose, CA - Alexander</td>\n",
       "      <td>15-Jun</td>\n",
       "      <td>352000</td>\n",
       "      <td>6.3</td>\n",
       "      <td>30.6</td>\n",
       "      <td>3.0</td>\n",
       "      <td>-25.0</td>\n",
       "      <td>-25.0</td>\n",
       "      <td>9.0</td>\n",
       "      <td>-10.0</td>\n",
       "      <td>...</td>\n",
       "      <td>0</td>\n",
       "      <td>0</td>\n",
       "      <td>0</td>\n",
       "      <td>0</td>\n",
       "      <td>0</td>\n",
       "      <td>0</td>\n",
       "      <td>0</td>\n",
       "      <td>0</td>\n",
       "      <td>0</td>\n",
       "      <td>0</td>\n",
       "    </tr>\n",
       "    <tr>\n",
       "      <th>49</th>\n",
       "      <td>San Jose, CA - Alexander</td>\n",
       "      <td>16-Feb</td>\n",
       "      <td>365000</td>\n",
       "      <td>8.1</td>\n",
       "      <td>29.2</td>\n",
       "      <td>13.0</td>\n",
       "      <td>-7.1</td>\n",
       "      <td>116.7</td>\n",
       "      <td>6.0</td>\n",
       "      <td>-33.3</td>\n",
       "      <td>...</td>\n",
       "      <td>0</td>\n",
       "      <td>0</td>\n",
       "      <td>0</td>\n",
       "      <td>0</td>\n",
       "      <td>0</td>\n",
       "      <td>0</td>\n",
       "      <td>0</td>\n",
       "      <td>0</td>\n",
       "      <td>0</td>\n",
       "      <td>0</td>\n",
       "    </tr>\n",
       "    <tr>\n",
       "      <th>50</th>\n",
       "      <td>San Jose, CA - Alexander</td>\n",
       "      <td>16-Mar</td>\n",
       "      <td>355000</td>\n",
       "      <td>-2.7</td>\n",
       "      <td>20.4</td>\n",
       "      <td>6.0</td>\n",
       "      <td>-53.8</td>\n",
       "      <td>100.0</td>\n",
       "      <td>7.0</td>\n",
       "      <td>16.7</td>\n",
       "      <td>...</td>\n",
       "      <td>0</td>\n",
       "      <td>0</td>\n",
       "      <td>0</td>\n",
       "      <td>0</td>\n",
       "      <td>0</td>\n",
       "      <td>0</td>\n",
       "      <td>0</td>\n",
       "      <td>0</td>\n",
       "      <td>0</td>\n",
       "      <td>0</td>\n",
       "    </tr>\n",
       "    <tr>\n",
       "      <th>51</th>\n",
       "      <td>San Jose, CA - Alexander</td>\n",
       "      <td>16-Apr</td>\n",
       "      <td>365000</td>\n",
       "      <td>2.7</td>\n",
       "      <td>17.7</td>\n",
       "      <td>3.0</td>\n",
       "      <td>-50.0</td>\n",
       "      <td>-40.0</td>\n",
       "      <td>6.0</td>\n",
       "      <td>-14.3</td>\n",
       "      <td>...</td>\n",
       "      <td>0</td>\n",
       "      <td>0</td>\n",
       "      <td>0</td>\n",
       "      <td>0</td>\n",
       "      <td>0</td>\n",
       "      <td>0</td>\n",
       "      <td>0</td>\n",
       "      <td>0</td>\n",
       "      <td>0</td>\n",
       "      <td>0</td>\n",
       "    </tr>\n",
       "    <tr>\n",
       "      <th>52</th>\n",
       "      <td>San Jose, CA - Alexander</td>\n",
       "      <td>16-May</td>\n",
       "      <td>346000</td>\n",
       "      <td>-5.3</td>\n",
       "      <td>4.4</td>\n",
       "      <td>5.0</td>\n",
       "      <td>66.7</td>\n",
       "      <td>25.0</td>\n",
       "      <td>8.0</td>\n",
       "      <td>33.3</td>\n",
       "      <td>...</td>\n",
       "      <td>0</td>\n",
       "      <td>0</td>\n",
       "      <td>0</td>\n",
       "      <td>0</td>\n",
       "      <td>0</td>\n",
       "      <td>0</td>\n",
       "      <td>0</td>\n",
       "      <td>0</td>\n",
       "      <td>0</td>\n",
       "      <td>0</td>\n",
       "    </tr>\n",
       "  </tbody>\n",
       "</table>\n",
       "<p>5 rows × 120 columns</p>\n",
       "</div>"
      ],
      "text/plain": [
       "                      Region Month of Period End  Median Sale Price  \\\n",
       "41  San Jose, CA - Alexander              15-Jun             352000   \n",
       "49  San Jose, CA - Alexander              16-Feb             365000   \n",
       "50  San Jose, CA - Alexander              16-Mar             355000   \n",
       "51  San Jose, CA - Alexander              16-Apr             365000   \n",
       "52  San Jose, CA - Alexander              16-May             346000   \n",
       "\n",
       "    Median Sale Price MoM  Median Sale Price YoY  Homes Sold  Homes Sold MoM  \\\n",
       "41                    6.3                   30.6         3.0           -25.0   \n",
       "49                    8.1                   29.2        13.0            -7.1   \n",
       "50                   -2.7                   20.4         6.0           -53.8   \n",
       "51                    2.7                   17.7         3.0           -50.0   \n",
       "52                   -5.3                    4.4         5.0            66.7   \n",
       "\n",
       "    Homes Sold YoY  New Listings  New Listings MoM   ...    ramblewood  \\\n",
       "41           -25.0           9.0             -10.0   ...             0   \n",
       "49           116.7           6.0             -33.3   ...             0   \n",
       "50           100.0           7.0              16.7   ...             0   \n",
       "51           -40.0           6.0             -14.3   ...             0   \n",
       "52            25.0           8.0              33.3   ...             0   \n",
       "\n",
       "    rancho  riverview  rose-sartorette  rymar  san  santee  serenede  seven  \\\n",
       "41       0          0                0      0    0       0         0      0   \n",
       "49       0          0                0      0    0       0         0      0   \n",
       "50       0          0                0      0    0       0         0      0   \n",
       "51       0          0                0      0    0       0         0      0   \n",
       "52       0          0                0      0    0       0         0      0   \n",
       "\n",
       "    shadow  \n",
       "41       0  \n",
       "49       0  \n",
       "50       0  \n",
       "51       0  \n",
       "52       0  \n",
       "\n",
       "[5 rows x 120 columns]"
      ]
     },
     "execution_count": 131,
     "metadata": {},
     "output_type": "execute_result"
    }
   ],
   "source": [
    "lin_reg_df.head()"
   ]
  },
  {
   "cell_type": "code",
   "execution_count": 132,
   "metadata": {
    "collapsed": false
   },
   "outputs": [],
   "source": [
    "Y_pred, Y_test = predict(x_test, reg, 'Median Sale Price')"
   ]
  },
  {
   "cell_type": "code",
   "execution_count": 133,
   "metadata": {
    "collapsed": false
   },
   "outputs": [
    {
     "name": "stdout",
     "output_type": "stream",
     "text": [
      "0.207843137255\n",
      "0.397504456328\n",
      "0.568270944742\n",
      "0.823172905526\n"
     ]
    }
   ],
   "source": [
    "for t in [0.05, 0.10, 0.15, 0.25]:\n",
    "    print (evaluate(Y_pred, Y_test, t))"
   ]
  },
  {
   "cell_type": "markdown",
   "metadata": {},
   "source": [
    "### Look at price distribution in training and test sets"
   ]
  },
  {
   "cell_type": "code",
   "execution_count": 134,
   "metadata": {
    "collapsed": false
   },
   "outputs": [
    {
     "data": {
      "image/png": "[encoded data removed]",
      "text/plain": [
       "<matplotlib.figure.Figure at 0x122e95cd0>"
      ]
     },
     "metadata": {},
     "output_type": "display_data"
    }
   ],
   "source": [
    "make_histogram(x_train['Median Sale Price'], 50)"
   ]
  },
  {
   "cell_type": "code",
   "execution_count": 135,
   "metadata": {
    "collapsed": false
   },
   "outputs": [
    {
     "data": {
      "image/png": "[encoded data removed]",
      "text/plain": [
       "<matplotlib.figure.Figure at 0x11ac02290>"
      ]
     },
     "metadata": {},
     "output_type": "display_data"
    }
   ],
   "source": [
    "make_histogram(x_test['Median Sale Price'], 50)"
   ]
  },
  {
   "cell_type": "markdown",
   "metadata": {
    "collapsed": true
   },
   "source": [
    "### Decision tree classifier"
   ]
  },
  {
   "cell_type": "code",
   "execution_count": 136,
   "metadata": {
    "collapsed": false
   },
   "outputs": [],
   "source": [
    "x_train, x_test, _, _ = split_test_train(lin_reg_df, 'Median_Sale_Price_Bin')\n",
    "r_forest = model(x_train, ensemble.RandomForestClassifier(n_estimators=1000), \n",
    "                 'Median_Sale_Price_Bin')"
   ]
  },
  {
   "cell_type": "code",
   "execution_count": 137,
   "metadata": {
    "collapsed": false
   },
   "outputs": [],
   "source": [
    "Y_pred, Y_test = predict(x_test, r_forest, 'Median_Sale_Price_Bin')"
   ]
  },
  {
   "cell_type": "code",
   "execution_count": 138,
   "metadata": {
    "collapsed": false
   },
   "outputs": [
    {
     "name": "stdout",
     "output_type": "stream",
     "text": [
      "Normalized confusion matrix\n",
      "[[ 0.536  0.389  0.074  0.   ]\n",
      " [ 0.033  0.828  0.135  0.004]\n",
      " [ 0.006  0.181  0.789  0.023]\n",
      " [ 0.006  0.142  0.5    0.352]]\n"
     ]
    },
    {
     "data": {
      "image/png": "[encoded data removed]",
      "text/plain": [
       "<matplotlib.figure.Figure at 0x118edf2d0>"
      ]
     },
     "metadata": {},
     "output_type": "display_data"
    }
   ],
   "source": [
    "cm = confusion_matrix(Y_test, Y_pred)\n",
    "plot_confusion_matrix(cm, np.unique(Y_pred), normalize=True)\n",
    "plt.show()"
   ]
  },
  {
   "cell_type": "markdown",
   "metadata": {
    "collapsed": true
   },
   "source": [
    "The diagonal elements represent the number of points for which the predicted label is equal to the true label, while off-diagonal elements are those that are mislabeled by the classifier. The higher the diagonal values of the confusion matrix the better, indicating many correct predictions."
   ]
  },
  {
   "cell_type": "code",
   "execution_count": 139,
   "metadata": {
    "collapsed": false
   },
   "outputs": [
    {
     "name": "stdout",
     "output_type": "stream",
     "text": [
      "[ 284000.  453750.  623500.  793250.  963000.]\n"
     ]
    }
   ],
   "source": [
    "print (bins)"
   ]
  },
  {
   "cell_type": "markdown",
   "metadata": {
    "collapsed": true
   },
   "source": [
    "sums to 100 across the rows\n",
    "ex: for properties within 600-800 thousand dollars, 75% were predicted correctly. But, 21% were predicted to be in the next lower price bracket."
   ]
  },
  {
   "cell_type": "code",
   "execution_count": 140,
   "metadata": {
    "collapsed": false
   },
   "outputs": [],
   "source": [
    "x_train, x_test, _, _ = split_test_train(lin_reg_df, 'Median Sale Price')\n",
    "r_forest = model(x_train, ensemble.RandomForestClassifier(max_depth=1000), \n",
    "                 'Median Sale Price')"
   ]
  },
  {
   "cell_type": "code",
   "execution_count": 141,
   "metadata": {
    "collapsed": true
   },
   "outputs": [],
   "source": [
    "Y_pred, Y_test = predict(x_test, r_forest, 'Median Sale Price')"
   ]
  },
  {
   "cell_type": "code",
   "execution_count": 142,
   "metadata": {
    "collapsed": false
   },
   "outputs": [
    {
     "name": "stdout",
     "output_type": "stream",
     "text": [
      "0.759714795009\n",
      "0.759714795009\n",
      "0.759714795009\n",
      "0.759714795009\n",
      "0.759714795009\n",
      "0.759714795009\n"
     ]
    }
   ],
   "source": [
    "for t in [0, 0.01, 0.05, 0.10, 0.15, 0.25]:\n",
    "    print (evaluate(Y_pred, Y_test, t))"
   ]
  },
  {
   "cell_type": "code",
   "execution_count": null,
   "metadata": {
    "collapsed": true
   },
   "outputs": [],
   "source": []
  }
 ],
 "metadata": {
  "anaconda-cloud": {},
  "kernelspec": {
   "display_name": "Python [conda root]",
   "language": "python",
   "name": "conda-root-py"
  },
  "language_info": {
   "codemirror_mode": {
    "name": "ipython",
    "version": 2
   },
   "file_extension": ".py",
   "mimetype": "text/x-python",
   "name": "python",
   "nbconvert_exporter": "python",
   "pygments_lexer": "ipython2",
   "version": "2.7.12"
  }
 },
 "nbformat": 4,
 "nbformat_minor": 1
}

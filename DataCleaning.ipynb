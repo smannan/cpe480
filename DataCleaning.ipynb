{
 "cells": [
  {
   "cell_type": "markdown",
   "metadata": {},
   "source": [
    "## Summary of data\n",
    "## Properties from San Jose, CA\n",
    "## 6099 condos\n",
    "## 92 different neighborhoods"
   ]
  },
  {
   "cell_type": "code",
   "execution_count": 1,
   "metadata": {
    "collapsed": true
   },
   "outputs": [],
   "source": [
    "PROPERTY_TYPES = ['condo', 'townhouse', 'multiunit', 'singlefamily']\n",
    "TRESH = 0.15\n",
    "NUM_BINS = 5\n",
    "BINS = []\n",
    "\n",
    "MONTHS = ['Jan', 'Feb', 'Mar', 'Apr', 'May', \n",
    "          'Jun', 'Jul', 'Aug', 'Sep', 'Oct',\n",
    "         'Nov', 'Dec']\n",
    "\n",
    "COLS_EXCLUDE = ['Median Sale Price','Region','neighborhood',\n",
    "                'location','city','property_type','state',\n",
    "                'Month of Period End', 'Median_Sale_Price_Bin', 'neighborhood_num',\n",
    "                'Month of Period End']"
   ]
  },
  {
   "cell_type": "code",
   "execution_count": 24,
   "metadata": {
    "collapsed": false
   },
   "outputs": [],
   "source": [
    "import csv\n",
    "import itertools\n",
    "import pandas as pd\n",
    "import numpy as np\n",
    "import math\n",
    "import matplotlib.pyplot as plt\n",
    "import matplotlib.patches as patches\n",
    "import matplotlib.path as path"
   ]
  },
  {
   "cell_type": "code",
   "execution_count": 5,
   "metadata": {
    "collapsed": true
   },
   "outputs": [],
   "source": [
    "# convert string percentages to numerical\n",
    "def convert_percentage(df):\n",
    "    for col in df.columns:\n",
    "        c = col.split(\" \")\n",
    "        if c[-1] == \"MoM\" or c[-1] == \"YoY\": \n",
    "            df[col] = [float(str(x).strip(\"%\")) for x in df[col]]\n",
    "    \n",
    "    df['Average Sale To List'] = [float(str(x).strip(\"%\")) for x in df['Average Sale To List']]"
   ]
  },
  {
   "cell_type": "code",
   "execution_count": 6,
   "metadata": {
    "collapsed": false
   },
   "outputs": [],
   "source": [
    "### read in data\n",
    "def read_data(filename, property_type):\n",
    "    df = pd.read_csv(filename)\n",
    "    df.columns = [x.strip(\" \") for x in df.columns]\n",
    "    df['property_type'] = property_type\n",
    "    df['property_type_num'] = PROPERTY_TYPES.index(property_type)\n",
    "    df.head()\n",
    "    return (df)"
   ]
  },
  {
   "cell_type": "code",
   "execution_count": 7,
   "metadata": {
    "collapsed": false
   },
   "outputs": [],
   "source": [
    "### add columns for city, state, and neighborhood\n",
    "def parse_region(df):\n",
    "    df['location'] = [x.split(\",\") for x in df.Region]\n",
    "    df['city'] = [x[0].strip(\",\").lower() for x in df.location]\n",
    "    df['state'] = [x[1].split(\" \")[1].lower().strip() for x in df.location]\n",
    "    df['neighborhood'] = [x[1].split(\" \")[3].strip().lower() for x in df.location]\n",
    "    df = df[df.city == 'san jose']\n",
    "    df.head()"
   ]
  },
  {
   "cell_type": "code",
   "execution_count": 8,
   "metadata": {
    "collapsed": false
   },
   "outputs": [],
   "source": [
    "### convert Median Sale Price to a float\n",
    "def convert_med_sale_pr(df):\n",
    "    df[u'Median Sale Price'] = [x.strip(\"$\").replace(\",\", \"\") for x in df[\"Median Sale Price\"]]\n",
    "    df[u'Median Sale Price'] = [int(x) if x[len(x)-1] != \"K\" else int(x.strip(\"K\"))*1000 \n",
    "                                for x in df[\"Median Sale Price\"]]"
   ]
  },
  {
   "cell_type": "code",
   "execution_count": 9,
   "metadata": {
    "collapsed": false
   },
   "outputs": [],
   "source": [
    "### convert neighborhood to a numerical value\n",
    "def convert_neighborhood(df):\n",
    "    neighborhoods = df.neighborhood.unique()\n",
    "    df['neighborhood_num'] = [np.where(neighborhoods == x)[0][0] for x in df.neighborhood]"
   ]
  },
  {
   "cell_type": "code",
   "execution_count": 10,
   "metadata": {
    "collapsed": true
   },
   "outputs": [],
   "source": [
    "# encode catgorial variable so that it can be used\n",
    "# in regression\n",
    "def encode_categorial(df):\n",
    "    neighborhoods = df.neighborhood.unique()\n",
    "    for n in neighborhoods:\n",
    "        df[n] = [1 if x == n else 0 for x in df.neighborhood]\n",
    "    return (df)"
   ]
  },
  {
   "cell_type": "code",
   "execution_count": 11,
   "metadata": {
    "collapsed": true
   },
   "outputs": [],
   "source": [
    "# take median sale prices, bin, and add a column \n",
    "# that represents price ranges\n",
    "def bin_med_sale_pr(df, bins):\n",
    "    med_sale_pr = df['Median Sale Price']\n",
    "    bins = np.linspace(med_sale_pr.min(), med_sale_pr.max(), bins)\n",
    "    digitized = np.digitize(med_sale_pr, bins)\n",
    "    df['Median_Sale_Price_Bin'] = digitized\n",
    "    return (df, bins)"
   ]
  },
  {
   "cell_type": "code",
   "execution_count": 12,
   "metadata": {
    "collapsed": false
   },
   "outputs": [],
   "source": [
    "# Take date and turn it into month and year\n",
    "def parse_date(df):\n",
    "    df['Month of Period End'] = [x.replace('-', ' ') for x in df['Month of Period End']]\n",
    "    df['Month'] = [MONTHS.index(x.split(' ')[0][:3]) for x in df['Month of Period End']]\n",
    "    # df['Month'] = [MONTHS.index(x.split(' ')[1][:3]) for x in df['Month of Period End']]\n",
    "    df['Year'] = [int(x.split(' ')[1]) for x in df['Month of Period End']]\n",
    "    # df['Year'] = [int(x.split(' ')[0]) for x in df['Month of Period End']]\n",
    "    return (df)"
   ]
  },
  {
   "cell_type": "code",
   "execution_count": 13,
   "metadata": {
    "collapsed": true
   },
   "outputs": [],
   "source": [
    "def filter_prices(df, high, low):\n",
    "    t_cutoff = np.percentile(sorted(df['Median Sale Price']), high)\n",
    "    b_cutoff = np.percentile(sorted(df['Median Sale Price']), low)\n",
    "    df = df[df['Median Sale Price'] <= t_cutoff]\n",
    "    df = df[df['Median Sale Price'] >= b_cutoff]\n",
    "    return (df)"
   ]
  },
  {
   "cell_type": "code",
   "execution_count": 14,
   "metadata": {
    "collapsed": false
   },
   "outputs": [],
   "source": [
    "### given the filename and property type return\n",
    "### a dataframe with string fields converted to\n",
    "### numerical and regions parsed out\n",
    "def clean_data(filename, property_type):\n",
    "    df = read_data(filename, property_type)\n",
    "    df = df[df['Median Sale Price'].isnull() == False]\n",
    "    convert_med_sale_pr(df)\n",
    "    parse_region(df)\n",
    "    convert_percentage(df)\n",
    "    convert_neighborhood(df)\n",
    "    df = parse_date(df)\n",
    "    df = filter_prices(df, 75, 10)\n",
    "    return (df)"
   ]
  },
  {
   "cell_type": "code",
   "execution_count": 15,
   "metadata": {
    "collapsed": true
   },
   "outputs": [],
   "source": [
    "# merge several dataframes together\n",
    "# files = list of tuples, \n",
    "# each tuple should contain filename first then property type\n",
    "\n",
    "# How to deal with NA's? fill with 0 for now ...\n",
    "def merge_data(files):\n",
    "    frames = []\n",
    "    for f in files:\n",
    "        frames.append(clean_data(f[0], f[1]))\n",
    "    \n",
    "    df = pd.concat(frames).fillna(method='ffill')\n",
    "    return (df)"
   ]
  },
  {
   "cell_type": "code",
   "execution_count": 20,
   "metadata": {
    "collapsed": false
   },
   "outputs": [],
   "source": [
    "files = [('sanjose_condos.csv', PROPERTY_TYPES[0]), ('sanjose_townhouse2.csv', PROPERTY_TYPES[1]), \n",
    " ('sanjose_multiunit.csv', PROPERTY_TYPES[2]), (\"sanjose_singlefamily.csv\", PROPERTY_TYPES[3])]\n",
    "\n",
    "total = merge_data(files)\n",
    "total, bins = bin_med_sale_pr(total, NUM_BINS)\n",
    "total.to_csv('san_jose_property.csv')"
   ]
  },
  {
   "cell_type": "code",
   "execution_count": 23,
   "metadata": {
    "collapsed": false
   },
   "outputs": [
    {
     "data": {
      "text/html": [
       "<div>\n",
       "<table border=\"1\" class=\"dataframe\">\n",
       "  <thead>\n",
       "    <tr style=\"text-align: right;\">\n",
       "      <th></th>\n",
       "      <th>Region</th>\n",
       "      <th>Month of Period End</th>\n",
       "      <th>Median Sale Price</th>\n",
       "      <th>Median Sale Price MoM</th>\n",
       "      <th>Median Sale Price YoY</th>\n",
       "      <th>Homes Sold</th>\n",
       "      <th>Homes Sold MoM</th>\n",
       "      <th>Homes Sold YoY</th>\n",
       "      <th>New Listings</th>\n",
       "      <th>New Listings MoM</th>\n",
       "      <th>...</th>\n",
       "      <th>property_type</th>\n",
       "      <th>property_type_num</th>\n",
       "      <th>location</th>\n",
       "      <th>city</th>\n",
       "      <th>state</th>\n",
       "      <th>neighborhood</th>\n",
       "      <th>neighborhood_num</th>\n",
       "      <th>Month</th>\n",
       "      <th>Year</th>\n",
       "      <th>Median_Sale_Price_Bin</th>\n",
       "    </tr>\n",
       "  </thead>\n",
       "  <tbody>\n",
       "    <tr>\n",
       "      <th>41</th>\n",
       "      <td>San Jose, CA - Alexander</td>\n",
       "      <td>June 2015</td>\n",
       "      <td>352000</td>\n",
       "      <td>6.3</td>\n",
       "      <td>30.6</td>\n",
       "      <td>3</td>\n",
       "      <td>-25.0</td>\n",
       "      <td>-25.0</td>\n",
       "      <td>9.0</td>\n",
       "      <td>-10.0</td>\n",
       "      <td>...</td>\n",
       "      <td>condo</td>\n",
       "      <td>0</td>\n",
       "      <td>[San Jose,  CA - Alexander]</td>\n",
       "      <td>san jose</td>\n",
       "      <td>ca</td>\n",
       "      <td>alexander</td>\n",
       "      <td>0</td>\n",
       "      <td>5</td>\n",
       "      <td>2015</td>\n",
       "      <td>1</td>\n",
       "    </tr>\n",
       "    <tr>\n",
       "      <th>45</th>\n",
       "      <td>San Jose, CA - Alexander</td>\n",
       "      <td>October 2015</td>\n",
       "      <td>335000</td>\n",
       "      <td>7.0</td>\n",
       "      <td>35.6</td>\n",
       "      <td>8</td>\n",
       "      <td>-27.3</td>\n",
       "      <td>33.3</td>\n",
       "      <td>10.0</td>\n",
       "      <td>11.1</td>\n",
       "      <td>...</td>\n",
       "      <td>condo</td>\n",
       "      <td>0</td>\n",
       "      <td>[San Jose,  CA - Alexander]</td>\n",
       "      <td>san jose</td>\n",
       "      <td>ca</td>\n",
       "      <td>alexander</td>\n",
       "      <td>0</td>\n",
       "      <td>9</td>\n",
       "      <td>2015</td>\n",
       "      <td>1</td>\n",
       "    </tr>\n",
       "    <tr>\n",
       "      <th>47</th>\n",
       "      <td>San Jose, CA - Alexander</td>\n",
       "      <td>December 2015</td>\n",
       "      <td>345000</td>\n",
       "      <td>16.7</td>\n",
       "      <td>20.0</td>\n",
       "      <td>12</td>\n",
       "      <td>100.0</td>\n",
       "      <td>100.0</td>\n",
       "      <td>12.0</td>\n",
       "      <td>0.0</td>\n",
       "      <td>...</td>\n",
       "      <td>condo</td>\n",
       "      <td>0</td>\n",
       "      <td>[San Jose,  CA - Alexander]</td>\n",
       "      <td>san jose</td>\n",
       "      <td>ca</td>\n",
       "      <td>alexander</td>\n",
       "      <td>0</td>\n",
       "      <td>11</td>\n",
       "      <td>2015</td>\n",
       "      <td>1</td>\n",
       "    </tr>\n",
       "    <tr>\n",
       "      <th>48</th>\n",
       "      <td>San Jose, CA - Alexander</td>\n",
       "      <td>January 2016</td>\n",
       "      <td>338000</td>\n",
       "      <td>-2.2</td>\n",
       "      <td>25.0</td>\n",
       "      <td>14</td>\n",
       "      <td>16.7</td>\n",
       "      <td>180.0</td>\n",
       "      <td>9.0</td>\n",
       "      <td>-25.0</td>\n",
       "      <td>...</td>\n",
       "      <td>condo</td>\n",
       "      <td>0</td>\n",
       "      <td>[San Jose,  CA - Alexander]</td>\n",
       "      <td>san jose</td>\n",
       "      <td>ca</td>\n",
       "      <td>alexander</td>\n",
       "      <td>0</td>\n",
       "      <td>0</td>\n",
       "      <td>2016</td>\n",
       "      <td>1</td>\n",
       "    </tr>\n",
       "    <tr>\n",
       "      <th>49</th>\n",
       "      <td>San Jose, CA - Alexander</td>\n",
       "      <td>February 2016</td>\n",
       "      <td>365000</td>\n",
       "      <td>8.1</td>\n",
       "      <td>29.2</td>\n",
       "      <td>13</td>\n",
       "      <td>-7.1</td>\n",
       "      <td>116.7</td>\n",
       "      <td>6.0</td>\n",
       "      <td>-33.3</td>\n",
       "      <td>...</td>\n",
       "      <td>condo</td>\n",
       "      <td>0</td>\n",
       "      <td>[San Jose,  CA - Alexander]</td>\n",
       "      <td>san jose</td>\n",
       "      <td>ca</td>\n",
       "      <td>alexander</td>\n",
       "      <td>0</td>\n",
       "      <td>1</td>\n",
       "      <td>2016</td>\n",
       "      <td>1</td>\n",
       "    </tr>\n",
       "  </tbody>\n",
       "</table>\n",
       "<p>5 rows × 30 columns</p>\n",
       "</div>"
      ],
      "text/plain": [
       "                      Region Month of Period End  Median Sale Price  \\\n",
       "41  San Jose, CA - Alexander           June 2015             352000   \n",
       "45  San Jose, CA - Alexander        October 2015             335000   \n",
       "47  San Jose, CA - Alexander       December 2015             345000   \n",
       "48  San Jose, CA - Alexander        January 2016             338000   \n",
       "49  San Jose, CA - Alexander       February 2016             365000   \n",
       "\n",
       "    Median Sale Price MoM  Median Sale Price YoY  Homes Sold  Homes Sold MoM  \\\n",
       "41                    6.3                   30.6           3           -25.0   \n",
       "45                    7.0                   35.6           8           -27.3   \n",
       "47                   16.7                   20.0          12           100.0   \n",
       "48                   -2.2                   25.0          14            16.7   \n",
       "49                    8.1                   29.2          13            -7.1   \n",
       "\n",
       "    Homes Sold YoY  New Listings  New Listings MoM          ...            \\\n",
       "41           -25.0           9.0             -10.0          ...             \n",
       "45            33.3          10.0              11.1          ...             \n",
       "47           100.0          12.0               0.0          ...             \n",
       "48           180.0           9.0             -25.0          ...             \n",
       "49           116.7           6.0             -33.3          ...             \n",
       "\n",
       "    property_type  property_type_num                     location      city  \\\n",
       "41          condo                  0  [San Jose,  CA - Alexander]  san jose   \n",
       "45          condo                  0  [San Jose,  CA - Alexander]  san jose   \n",
       "47          condo                  0  [San Jose,  CA - Alexander]  san jose   \n",
       "48          condo                  0  [San Jose,  CA - Alexander]  san jose   \n",
       "49          condo                  0  [San Jose,  CA - Alexander]  san jose   \n",
       "\n",
       "    state  neighborhood  neighborhood_num  Month  Year  Median_Sale_Price_Bin  \n",
       "41     ca     alexander                 0      5  2015                      1  \n",
       "45     ca     alexander                 0      9  2015                      1  \n",
       "47     ca     alexander                 0     11  2015                      1  \n",
       "48     ca     alexander                 0      0  2016                      1  \n",
       "49     ca     alexander                 0      1  2016                      1  \n",
       "\n",
       "[5 rows x 30 columns]"
      ]
     },
     "execution_count": 23,
     "metadata": {},
     "output_type": "execute_result"
    }
   ],
   "source": [
    "total.head()"
   ]
  },
  {
   "cell_type": "code",
   "execution_count": null,
   "metadata": {
    "collapsed": true
   },
   "outputs": [],
   "source": []
  }
 ],
 "metadata": {
  "anaconda-cloud": {},
  "kernelspec": {
   "display_name": "Python [conda root]",
   "language": "python",
   "name": "conda-root-py"
  },
  "language_info": {
   "codemirror_mode": {
    "name": "ipython",
    "version": 2
   },
   "file_extension": ".py",
   "mimetype": "text/x-python",
   "name": "python",
   "nbconvert_exporter": "python",
   "pygments_lexer": "ipython2",
   "version": "2.7.12"
  }
 },
 "nbformat": 4,
 "nbformat_minor": 1
}

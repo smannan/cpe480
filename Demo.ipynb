{
 "cells": [
  {
   "cell_type": "markdown",
   "metadata": {},
   "source": [
    "### Installation Instructions\n",
    "#### 1. Download Anaconda for Windows or Mac: https://docs.continuum.io/anaconda/install\n",
    "#### 2. Clone cpe480 project from github: https://github.com/smannan/cpe480\n",
    "#### 3. Go to Anaconda Navigator and select 'Launch Jupyter Notebook'\n",
    "#### 4. Once in Jupyter, go to cloned repository\n",
    "#### 5. Open Demo notebook"
   ]
  },
  {
   "cell_type": "code",
   "execution_count": 1,
   "metadata": {
    "collapsed": false
   },
   "outputs": [],
   "source": [
    "import pandas as pd\n",
    "import numpy as np\n",
    "\n",
    "from sklearn.cross_validation import train_test_split, cross_val_score\n",
    "from sklearn import ensemble"
   ]
  },
  {
   "cell_type": "code",
   "execution_count": 2,
   "metadata": {
    "collapsed": true
   },
   "outputs": [],
   "source": [
    "COLS_EXCLUDE = ['Median Sale Price','Region','neighborhood',\n",
    "                'location','city','property_type','state',\n",
    "                'Month of Period End', 'Median_Sale_Price_Bin', 'neighborhood_num',\n",
    "                'Month of Period End', 'Unamed: 0', 'Median Sale Price MoM', 'Median Sale Price YoY']\n",
    "\n",
    "TRAIN_DATA = 'san_jose_property.csv'\n",
    "TEST_DATA = 'san_jose_properties_2017.csv'"
   ]
  },
  {
   "cell_type": "markdown",
   "metadata": {},
   "source": [
    "### Load data"
   ]
  },
  {
   "cell_type": "code",
   "execution_count": 3,
   "metadata": {
    "collapsed": true
   },
   "outputs": [],
   "source": [
    "# %load Plot_Functions\n",
    "import matplotlib.pyplot as plt\n",
    "\n",
    "def plot_two_scatterplot(x, y, title='', xlabel='', ylabel=''):\n",
    "    plt.title(title)\n",
    "    plt.xlabel(xlabel)\n",
    "    plt.ylabel(ylabel)\n",
    "    plt.scatter(x, y[0], c='r')\n",
    "    plt.scatter(x, y[1], c='b')\n",
    "    plt.xlim(0, len(y[1]))\n",
    "    plt.show();"
   ]
  },
  {
   "cell_type": "code",
   "execution_count": 4,
   "metadata": {
    "collapsed": false
   },
   "outputs": [],
   "source": [
    "total = pd.read_csv(TRAIN_DATA)\n",
    "forest_df_2017 = pd.read_csv(TEST_DATA)"
   ]
  },
  {
   "cell_type": "markdown",
   "metadata": {},
   "source": [
    "### Jan 2017 Predicted Price"
   ]
  },
  {
   "cell_type": "code",
   "execution_count": 5,
   "metadata": {
    "collapsed": true
   },
   "outputs": [],
   "source": [
    "X = total.loc[:, total.columns.difference(COLS_EXCLUDE)]\n",
    "Y = total.loc[:, 'Median Sale Price']\n",
    "\n",
    "r_forest = ensemble.RandomForestRegressor(n_estimators=80, max_depth=344, oob_score=True)\n",
    "X_test = forest_df_2017.loc[:, forest_df_2017.columns.difference(COLS_EXCLUDE)]\n",
    "Y_test = forest_df_2017.loc[:, 'Median Sale Price']\n",
    "\n",
    "r_forest.fit(X, Y)\n",
    "Y_pred, Y_test = (r_forest.predict(X_test), Y_test)"
   ]
  },
  {
   "cell_type": "code",
   "execution_count": 6,
   "metadata": {
    "collapsed": false
   },
   "outputs": [
    {
     "data": {
      "image/png": "[encoded data removed]",
      "text/plain": [
       "<matplotlib.figure.Figure at 0x1173e3790>"
      ]
     },
     "metadata": {},
     "output_type": "display_data"
    }
   ],
   "source": [
    "plot_two_scatterplot(range(len(Y_test)), [Y_test, Y_pred], title='Jan 2017 Predictions (blue) vs Actual (red)',\n",
    "                ylabel='Property Price', xlabel='Property ID')"
   ]
  },
  {
   "cell_type": "markdown",
   "metadata": {},
   "source": [
    "### Top 5 most expensive neighborhoods to buy a condo in Jan 2017"
   ]
  },
  {
   "cell_type": "code",
   "execution_count": 79,
   "metadata": {
    "collapsed": false
   },
   "outputs": [],
   "source": [
    "X_2017 = forest_df_2017.copy().drop(['Unnamed: 0'], 1)\n",
    "X_2017['Median Sale Price Predicted'] = Y_pred\n",
    "X_2017 = X_2017[X_2017.property_type == 'townhouse']\n",
    "\n",
    "df1 = X_2017.sort_values(by=['Median Sale Price Predicted'], ascending=False) \\\n",
    "   .loc[:,['neighborhood', 'Median Sale Price Predicted']].head(5).neighborhood\n",
    "\n",
    "pred = X_2017[X_2017.neighborhood.isin(df1)] \\\n",
    "    .loc[:,['Median Sale Price', 'Median Sale Price Predicted', 'neighborhood']]\n",
    "\n",
    "pred['% Difference'] = 100*(pred['Median Sale Price'] - pred['Median Sale Price Predicted'])/(pred['Median Sale Price'])"
   ]
  },
  {
   "cell_type": "code",
   "execution_count": 81,
   "metadata": {
    "collapsed": false
   },
   "outputs": [
    {
     "data": {
      "text/html": [
       "<div>\n",
       "<table border=\"1\" class=\"dataframe\">\n",
       "  <thead>\n",
       "    <tr style=\"text-align: right;\">\n",
       "      <th></th>\n",
       "      <th>Median Sale Price</th>\n",
       "      <th>Median Sale Price Predicted</th>\n",
       "      <th>neighborhood</th>\n",
       "      <th>% Difference</th>\n",
       "    </tr>\n",
       "  </thead>\n",
       "  <tbody>\n",
       "    <tr>\n",
       "      <th>28</th>\n",
       "      <td>685000</td>\n",
       "      <td>361500.0</td>\n",
       "      <td>branham-kirk</td>\n",
       "      <td>47.226277</td>\n",
       "    </tr>\n",
       "    <tr>\n",
       "      <th>29</th>\n",
       "      <td>546000</td>\n",
       "      <td>365587.5</td>\n",
       "      <td>brigadoon</td>\n",
       "      <td>33.042582</td>\n",
       "    </tr>\n",
       "    <tr>\n",
       "      <th>33</th>\n",
       "      <td>563000</td>\n",
       "      <td>361125.0</td>\n",
       "      <td>cherrywood</td>\n",
       "      <td>35.857016</td>\n",
       "    </tr>\n",
       "    <tr>\n",
       "      <th>38</th>\n",
       "      <td>572000</td>\n",
       "      <td>364887.5</td>\n",
       "      <td>east</td>\n",
       "      <td>36.208479</td>\n",
       "    </tr>\n",
       "    <tr>\n",
       "      <th>43</th>\n",
       "      <td>520000</td>\n",
       "      <td>366887.5</td>\n",
       "      <td>oak</td>\n",
       "      <td>29.444712</td>\n",
       "    </tr>\n",
       "  </tbody>\n",
       "</table>\n",
       "</div>"
      ],
      "text/plain": [
       "    Median Sale Price  Median Sale Price Predicted  neighborhood  % Difference\n",
       "28             685000                     361500.0  branham-kirk     47.226277\n",
       "29             546000                     365587.5     brigadoon     33.042582\n",
       "33             563000                     361125.0    cherrywood     35.857016\n",
       "38             572000                     364887.5          east     36.208479\n",
       "43             520000                     366887.5           oak     29.444712"
      ]
     },
     "execution_count": 81,
     "metadata": {},
     "output_type": "execute_result"
    }
   ],
   "source": [
    "pred "
   ]
  },
  {
   "cell_type": "markdown",
   "metadata": {
    "collapsed": false
   },
   "source": [
    "### Top 5 most affordable places to buy a condo in Jan 2017"
   ]
  },
  {
   "cell_type": "code",
   "execution_count": 84,
   "metadata": {
    "collapsed": false
   },
   "outputs": [],
   "source": [
    "X_2017 = forest_df_2017.copy().drop(['Unnamed: 0'], 1)\n",
    "X_2017['Median Sale Price Predicted'] = Y_pred\n",
    "X_2017 = X_2017[X_2017.property_type == 'condo']\n",
    "\n",
    "df1 = X_2017.sort_values(by=['Median Sale Price Predicted'], ascending=True) \\\n",
    "    .loc[:,['neighborhood', 'Median Sale Price Predicted']].head(5).neighborhood\n",
    "    \n",
    "pred = X_2017[X_2017.neighborhood.isin(df1)] \\\n",
    "    .loc[:,['Median Sale Price', 'Median Sale Price Predicted', 'neighborhood']]\n",
    "\n",
    "pred['% Difference'] = 100*(pred['Median Sale Price'] - pred['Median Sale Price Predicted'])/(pred['Median Sale Price'])"
   ]
  },
  {
   "cell_type": "code",
   "execution_count": 85,
   "metadata": {
    "collapsed": false
   },
   "outputs": [
    {
     "data": {
      "text/html": [
       "<div>\n",
       "<table border=\"1\" class=\"dataframe\">\n",
       "  <thead>\n",
       "    <tr style=\"text-align: right;\">\n",
       "      <th></th>\n",
       "      <th>Median Sale Price</th>\n",
       "      <th>Median Sale Price Predicted</th>\n",
       "      <th>neighborhood</th>\n",
       "      <th>% Difference</th>\n",
       "    </tr>\n",
       "  </thead>\n",
       "  <tbody>\n",
       "    <tr>\n",
       "      <th>6</th>\n",
       "      <td>471000</td>\n",
       "      <td>343212.5</td>\n",
       "      <td>cambrian-pioneer</td>\n",
       "      <td>27.131104</td>\n",
       "    </tr>\n",
       "    <tr>\n",
       "      <th>9</th>\n",
       "      <td>446000</td>\n",
       "      <td>347762.5</td>\n",
       "      <td>cherrywood</td>\n",
       "      <td>22.026345</td>\n",
       "    </tr>\n",
       "    <tr>\n",
       "      <th>11</th>\n",
       "      <td>487000</td>\n",
       "      <td>347275.0</td>\n",
       "      <td>flickinger</td>\n",
       "      <td>28.690965</td>\n",
       "    </tr>\n",
       "    <tr>\n",
       "      <th>14</th>\n",
       "      <td>407000</td>\n",
       "      <td>347875.0</td>\n",
       "      <td>hammer</td>\n",
       "      <td>14.527027</td>\n",
       "    </tr>\n",
       "    <tr>\n",
       "      <th>16</th>\n",
       "      <td>422000</td>\n",
       "      <td>349737.5</td>\n",
       "      <td>kenwood</td>\n",
       "      <td>17.123815</td>\n",
       "    </tr>\n",
       "  </tbody>\n",
       "</table>\n",
       "</div>"
      ],
      "text/plain": [
       "    Median Sale Price  Median Sale Price Predicted      neighborhood  \\\n",
       "6              471000                     343212.5  cambrian-pioneer   \n",
       "9              446000                     347762.5        cherrywood   \n",
       "11             487000                     347275.0        flickinger   \n",
       "14             407000                     347875.0            hammer   \n",
       "16             422000                     349737.5           kenwood   \n",
       "\n",
       "    % Difference  \n",
       "6      27.131104  \n",
       "9      22.026345  \n",
       "11     28.690965  \n",
       "14     14.527027  \n",
       "16     17.123815  "
      ]
     },
     "execution_count": 85,
     "metadata": {},
     "output_type": "execute_result"
    }
   ],
   "source": [
    "pred"
   ]
  },
  {
   "cell_type": "code",
   "execution_count": null,
   "metadata": {
    "collapsed": true
   },
   "outputs": [],
   "source": []
  }
 ],
 "metadata": {
  "anaconda-cloud": {},
  "kernelspec": {
   "display_name": "Python [conda root]",
   "language": "python",
   "name": "conda-root-py"
  },
  "language_info": {
   "codemirror_mode": {
    "name": "ipython",
    "version": 2
   },
   "file_extension": ".py",
   "mimetype": "text/x-python",
   "name": "python",
   "nbconvert_exporter": "python",
   "pygments_lexer": "ipython2",
   "version": "2.7.12"
  }
 },
 "nbformat": 4,
 "nbformat_minor": 1
}

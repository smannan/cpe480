{
 "cells": [
  {
   "cell_type": "code",
   "execution_count": 1,
   "metadata": {
    "collapsed": true
   },
   "outputs": [],
   "source": [
    "COLS_EXCLUDE = ['Median Sale Price','Region','neighborhood',\n",
    "                'location','city','property_type','state',\n",
    "                'Month of Period End', 'Median_Sale_Price_Bin', 'neighborhood_num',\n",
    "                'Month of Period End', 'Unamed: 0', 'Median Sale Price MoM', 'Median Sale Price YoY']\n",
    "\n",
    "DATA = 'san_jose_property.csv'"
   ]
  },
  {
   "cell_type": "code",
   "execution_count": 2,
   "metadata": {
    "collapsed": true
   },
   "outputs": [],
   "source": [
    "import csv\n",
    "import itertools\n",
    "import pandas as pd\n",
    "import numpy as np\n",
    "import math\n",
    "import matplotlib.pyplot as plt\n",
    "import matplotlib.patches as patches\n",
    "import matplotlib.path as path\n",
    "\n",
    "from sklearn.cross_validation import train_test_split\n",
    "from sklearn import linear_model\n",
    "from sklearn import ensemble \n",
    "from sklearn.metrics import confusion_matrix\n",
    "from string import punctuation"
   ]
  },
  {
   "cell_type": "code",
   "execution_count": 3,
   "metadata": {
    "collapsed": true
   },
   "outputs": [],
   "source": [
    "def plot_confusion_matrix(cm, classes,\n",
    "                          normalize=False,\n",
    "                          title='Confusion matrix',\n",
    "                          cmap=plt.cm.Blues):\n",
    "    \"\"\"\n",
    "    This function prints and plots the confusion matrix.\n",
    "    Normalization can be applied by setting `normalize=True`.\n",
    "    \"\"\"\n",
    "    plt.imshow(cm, interpolation='nearest', cmap=cmap)\n",
    "    plt.title(title)\n",
    "    plt.colorbar()\n",
    "    tick_marks = np.arange(len(classes))\n",
    "    plt.xticks(tick_marks, classes, rotation=45)\n",
    "    plt.yticks(tick_marks, classes)\n",
    "\n",
    "    if normalize:\n",
    "        cm = cm.astype('float') / cm.sum(axis=1)[:, np.newaxis]\n",
    "        print(\"Normalized confusion matrix\")\n",
    "    else:\n",
    "        print('Confusion matrix, without normalization')\n",
    "\n",
    "    print(cm)\n",
    "\n",
    "    thresh = cm.max() / 2.\n",
    "    for i, j in itertools.product(range(cm.shape[0]), range(cm.shape[1])):\n",
    "        plt.text(j, i, np.around(cm[i, j], 2),\n",
    "                 horizontalalignment=\"center\",\n",
    "                 color=\"white\" if cm[i, j] > thresh else \"black\")\n",
    "\n",
    "    plt.tight_layout()\n",
    "    plt.ylabel('True label')\n",
    "    plt.xlabel('Predicted label')"
   ]
  },
  {
   "cell_type": "code",
   "execution_count": 4,
   "metadata": {
    "collapsed": true
   },
   "outputs": [],
   "source": [
    "def make_histogram(data, bins):\n",
    "    fig, ax = plt.subplots()\n",
    "\n",
    "    # histogram our data with numpy\n",
    "    n, bins = np.histogram(data, bins)\n",
    "\n",
    "    # get the corners of the rectangles for the histogram\n",
    "    left = np.array(bins[:-1])\n",
    "    right = np.array(bins[1:])\n",
    "    bottom = np.zeros(len(left))\n",
    "    top = bottom + n\n",
    "\n",
    "\n",
    "    # we need a (numrects x numsides x 2) numpy array for the path helper\n",
    "    # function to build a compound path\n",
    "    XY = np.array([[left, left, right, right], [bottom, top, top, bottom]]).T\n",
    "\n",
    "    # get the Path object\n",
    "    barpath = path.Path.make_compound_path_from_polys(XY)\n",
    "\n",
    "    # make a patch out of it\n",
    "    patch = patches.PathPatch(barpath)\n",
    "    ax.add_patch(patch)\n",
    "\n",
    "    # update the view limits\n",
    "    ax.set_xlim(left[0], right[-1])\n",
    "    ax.set_ylim(bottom.min(), top.max())\n",
    "\n",
    "    plt.show()"
   ]
  },
  {
   "cell_type": "code",
   "execution_count": 32,
   "metadata": {
    "collapsed": true
   },
   "outputs": [],
   "source": [
    "def plot_accuracy(performance, estimators, title='', xlabel='', ylabel=''):\n",
    "    plt.title(title)\n",
    "    plt.xlabel(xlabel)\n",
    "    plt.ylabel(ylabel)\n",
    "    plt.plot(estimators, performance)\n",
    "    plt.show();"
   ]
  },
  {
   "cell_type": "code",
   "execution_count": 5,
   "metadata": {
    "collapsed": true
   },
   "outputs": [],
   "source": [
    "# x_train has 70% of the dataset\n",
    "# x_test has 30% of the dataset\n",
    "# ignore y_train and y_test\n",
    "# Regression: Train on x_train, remove non-numerical columns first!\n",
    "# Test on x_test\n",
    "\n",
    "# splits dataset up into training (70%) and testing (30%) sets\n",
    "# evenly based on neighborhood\n",
    "\n",
    "def split_test_train(total, stratify_col):\n",
    "    total2 = total.copy(deep=True)\n",
    "    y = total2[stratify_col]\n",
    "    x = total2\n",
    "    x_train, x_test, y_train, y_test = train_test_split(x, y, test_size = 0.3, random_state = 42)\n",
    "    return (x_train, x_test, y_train, y_test)"
   ]
  },
  {
   "cell_type": "code",
   "execution_count": 6,
   "metadata": {
    "collapsed": true
   },
   "outputs": [],
   "source": [
    "# fits a regression model to a training set\n",
    "def model(x_train, model, label, cols_exclude=COLS_EXCLUDE):\n",
    "    X = x_train.loc[:, x_train.columns.difference(cols_exclude)]\n",
    "    Y = x_train.loc[:, label]\n",
    "    model.fit(X, Y)\n",
    "    return (model)"
   ]
  },
  {
   "cell_type": "code",
   "execution_count": 7,
   "metadata": {
    "collapsed": true
   },
   "outputs": [],
   "source": [
    "def predict(x_test, model, label):\n",
    "    X_test = x_test.loc[:, x_train.columns.difference(COLS_EXCLUDE)]\n",
    "    Y_test = x_test.loc[:, label]\n",
    "    return (model.predict(X_test), Y_test)"
   ]
  },
  {
   "cell_type": "code",
   "execution_count": 8,
   "metadata": {
    "collapsed": true
   },
   "outputs": [],
   "source": [
    "# how many of the predicted prices were within\n",
    "# thresh % of the actual price?\n",
    "# return a ratio\n",
    "\n",
    "def evaluate(y_pred, y_test, thresh):\n",
    "    assert len(y_pred) == len(y_test)\n",
    "    result = []\n",
    "    for (pred, test) in zip(y_pred, y_test):\n",
    "        result.append(math.fabs((test-pred)/test) <= thresh)\n",
    "    \n",
    "    return (float(sum(result))/float(len(result)))"
   ]
  },
  {
   "cell_type": "code",
   "execution_count": 9,
   "metadata": {
    "collapsed": true
   },
   "outputs": [],
   "source": [
    "# encode catgorial variable so that it can be used\n",
    "# in regression\n",
    "def encode_categorial(df):\n",
    "    neighborhoods = df.neighborhood.unique()\n",
    "    for n in neighborhoods:\n",
    "        df[n] = [1 if x == n else 0 for x in df.neighborhood]\n",
    "    return (df)"
   ]
  },
  {
   "cell_type": "code",
   "execution_count": 10,
   "metadata": {
    "collapsed": false
   },
   "outputs": [],
   "source": [
    "total = pd.read_csv(DATA)\n",
    "lin_reg_df = encode_categorial(total.copy())\n",
    "x_train, x_test, _, _ = split_test_train(lin_reg_df, 'Median Sale Price')"
   ]
  },
  {
   "cell_type": "markdown",
   "metadata": {},
   "source": [
    "### Linear Regression Model (least squares method) implementation and slope coefficients"
   ]
  },
  {
   "cell_type": "code",
   "execution_count": 11,
   "metadata": {
    "collapsed": false
   },
   "outputs": [
    {
     "name": "stdout",
     "output_type": "stream",
     "text": [
      "('Average Sale To List', 7988.7533416185779)\n",
      "('Average Sale To List MoM', -2015.0963963103397)\n",
      "('Average Sale To List YoY', -4028.6151490451875)\n",
      "('Days on Market', 4.6945733122680622)\n",
      "('Days on Market MoM', -90.70941822544728)\n",
      "('Days on Market YoY', 217.14372464818996)\n",
      "('Homes Sold', 12.24425698748064)\n",
      "('Homes Sold MoM', -12.121592915115343)\n",
      "('Homes Sold YoY', 15.343942931973061)\n",
      "('Inventory', -3.4997397983104293)\n",
      "('Inventory MoM', -11.206981507612113)\n",
      "('Inventory YoY', 50.478437831250062)\n",
      "('Month', 2997.0680171896597)\n",
      "('New Listings', 3.4386957276435623)\n",
      "('New Listings MoM', -17.422600233224671)\n",
      "('New Listings YoY', 77.030978836904637)\n",
      "('Unnamed: 0', -11.518845147741104)\n",
      "('Year', 74.189348134499824)\n",
      "('alexander', -20097241455309.043)\n"
     ]
    }
   ],
   "source": [
    "reg = model(x_train, linear_model.LinearRegression(), 'Median Sale Price')\n",
    "\n",
    "np.set_printoptions(precision=3, suppress=True)\n",
    "cols = x_train.loc[:, x_train.columns.difference(COLS_EXCLUDE)].columns[:19]\n",
    "coeff = np.array(reg.coef_)[:19]\n",
    "\n",
    "for (col, coeff) in zip(cols, coeff):\n",
    "    print (col,coeff)"
   ]
  },
  {
   "cell_type": "code",
   "execution_count": 12,
   "metadata": {
    "collapsed": false
   },
   "outputs": [
    {
     "data": {
      "text/html": [
       "<div>\n",
       "<table border=\"1\" class=\"dataframe\">\n",
       "  <thead>\n",
       "    <tr style=\"text-align: right;\">\n",
       "      <th></th>\n",
       "      <th>Unnamed: 0</th>\n",
       "      <th>Region</th>\n",
       "      <th>Month of Period End</th>\n",
       "      <th>Median Sale Price</th>\n",
       "      <th>Median Sale Price MoM</th>\n",
       "      <th>Median Sale Price YoY</th>\n",
       "      <th>Homes Sold</th>\n",
       "      <th>Homes Sold MoM</th>\n",
       "      <th>Homes Sold YoY</th>\n",
       "      <th>New Listings</th>\n",
       "      <th>...</th>\n",
       "      <th>summerside</th>\n",
       "      <th>tamien</th>\n",
       "      <th>the</th>\n",
       "      <th>townsend</th>\n",
       "      <th>vinci</th>\n",
       "      <th>west</th>\n",
       "      <th>westmont</th>\n",
       "      <th>whaley</th>\n",
       "      <th>willow</th>\n",
       "      <th>winchester</th>\n",
       "    </tr>\n",
       "  </thead>\n",
       "  <tbody>\n",
       "    <tr>\n",
       "      <th>0</th>\n",
       "      <td>41</td>\n",
       "      <td>San Jose, CA - Alexander</td>\n",
       "      <td>June 2015</td>\n",
       "      <td>352000</td>\n",
       "      <td>6.3</td>\n",
       "      <td>30.6</td>\n",
       "      <td>3</td>\n",
       "      <td>-25.0</td>\n",
       "      <td>-25.0</td>\n",
       "      <td>9.0</td>\n",
       "      <td>...</td>\n",
       "      <td>0</td>\n",
       "      <td>0</td>\n",
       "      <td>0</td>\n",
       "      <td>0</td>\n",
       "      <td>0</td>\n",
       "      <td>0</td>\n",
       "      <td>0</td>\n",
       "      <td>0</td>\n",
       "      <td>0</td>\n",
       "      <td>0</td>\n",
       "    </tr>\n",
       "    <tr>\n",
       "      <th>1</th>\n",
       "      <td>45</td>\n",
       "      <td>San Jose, CA - Alexander</td>\n",
       "      <td>October 2015</td>\n",
       "      <td>335000</td>\n",
       "      <td>7.0</td>\n",
       "      <td>35.6</td>\n",
       "      <td>8</td>\n",
       "      <td>-27.3</td>\n",
       "      <td>33.3</td>\n",
       "      <td>10.0</td>\n",
       "      <td>...</td>\n",
       "      <td>0</td>\n",
       "      <td>0</td>\n",
       "      <td>0</td>\n",
       "      <td>0</td>\n",
       "      <td>0</td>\n",
       "      <td>0</td>\n",
       "      <td>0</td>\n",
       "      <td>0</td>\n",
       "      <td>0</td>\n",
       "      <td>0</td>\n",
       "    </tr>\n",
       "    <tr>\n",
       "      <th>2</th>\n",
       "      <td>47</td>\n",
       "      <td>San Jose, CA - Alexander</td>\n",
       "      <td>December 2015</td>\n",
       "      <td>345000</td>\n",
       "      <td>16.7</td>\n",
       "      <td>20.0</td>\n",
       "      <td>12</td>\n",
       "      <td>100.0</td>\n",
       "      <td>100.0</td>\n",
       "      <td>12.0</td>\n",
       "      <td>...</td>\n",
       "      <td>0</td>\n",
       "      <td>0</td>\n",
       "      <td>0</td>\n",
       "      <td>0</td>\n",
       "      <td>0</td>\n",
       "      <td>0</td>\n",
       "      <td>0</td>\n",
       "      <td>0</td>\n",
       "      <td>0</td>\n",
       "      <td>0</td>\n",
       "    </tr>\n",
       "    <tr>\n",
       "      <th>3</th>\n",
       "      <td>48</td>\n",
       "      <td>San Jose, CA - Alexander</td>\n",
       "      <td>January 2016</td>\n",
       "      <td>338000</td>\n",
       "      <td>-2.2</td>\n",
       "      <td>25.0</td>\n",
       "      <td>14</td>\n",
       "      <td>16.7</td>\n",
       "      <td>180.0</td>\n",
       "      <td>9.0</td>\n",
       "      <td>...</td>\n",
       "      <td>0</td>\n",
       "      <td>0</td>\n",
       "      <td>0</td>\n",
       "      <td>0</td>\n",
       "      <td>0</td>\n",
       "      <td>0</td>\n",
       "      <td>0</td>\n",
       "      <td>0</td>\n",
       "      <td>0</td>\n",
       "      <td>0</td>\n",
       "    </tr>\n",
       "    <tr>\n",
       "      <th>4</th>\n",
       "      <td>49</td>\n",
       "      <td>San Jose, CA - Alexander</td>\n",
       "      <td>February 2016</td>\n",
       "      <td>365000</td>\n",
       "      <td>8.1</td>\n",
       "      <td>29.2</td>\n",
       "      <td>13</td>\n",
       "      <td>-7.1</td>\n",
       "      <td>116.7</td>\n",
       "      <td>6.0</td>\n",
       "      <td>...</td>\n",
       "      <td>0</td>\n",
       "      <td>0</td>\n",
       "      <td>0</td>\n",
       "      <td>0</td>\n",
       "      <td>0</td>\n",
       "      <td>0</td>\n",
       "      <td>0</td>\n",
       "      <td>0</td>\n",
       "      <td>0</td>\n",
       "      <td>0</td>\n",
       "    </tr>\n",
       "  </tbody>\n",
       "</table>\n",
       "<p>5 rows × 134 columns</p>\n",
       "</div>"
      ],
      "text/plain": [
       "   Unnamed: 0                    Region Month of Period End  \\\n",
       "0          41  San Jose, CA - Alexander           June 2015   \n",
       "1          45  San Jose, CA - Alexander        October 2015   \n",
       "2          47  San Jose, CA - Alexander       December 2015   \n",
       "3          48  San Jose, CA - Alexander        January 2016   \n",
       "4          49  San Jose, CA - Alexander       February 2016   \n",
       "\n",
       "   Median Sale Price  Median Sale Price MoM  Median Sale Price YoY  \\\n",
       "0             352000                    6.3                   30.6   \n",
       "1             335000                    7.0                   35.6   \n",
       "2             345000                   16.7                   20.0   \n",
       "3             338000                   -2.2                   25.0   \n",
       "4             365000                    8.1                   29.2   \n",
       "\n",
       "   Homes Sold  Homes Sold MoM  Homes Sold YoY  New Listings     ...      \\\n",
       "0           3           -25.0           -25.0           9.0     ...       \n",
       "1           8           -27.3            33.3          10.0     ...       \n",
       "2          12           100.0           100.0          12.0     ...       \n",
       "3          14            16.7           180.0           9.0     ...       \n",
       "4          13            -7.1           116.7           6.0     ...       \n",
       "\n",
       "   summerside  tamien  the  townsend  vinci  west  westmont  whaley  willow  \\\n",
       "0           0       0    0         0      0     0         0       0       0   \n",
       "1           0       0    0         0      0     0         0       0       0   \n",
       "2           0       0    0         0      0     0         0       0       0   \n",
       "3           0       0    0         0      0     0         0       0       0   \n",
       "4           0       0    0         0      0     0         0       0       0   \n",
       "\n",
       "   winchester  \n",
       "0           0  \n",
       "1           0  \n",
       "2           0  \n",
       "3           0  \n",
       "4           0  \n",
       "\n",
       "[5 rows x 134 columns]"
      ]
     },
     "execution_count": 12,
     "metadata": {},
     "output_type": "execute_result"
    }
   ],
   "source": [
    "lin_reg_df.head()"
   ]
  },
  {
   "cell_type": "code",
   "execution_count": 13,
   "metadata": {
    "collapsed": true
   },
   "outputs": [],
   "source": [
    "Y_pred, Y_test = predict(x_test, reg, 'Median Sale Price')"
   ]
  },
  {
   "cell_type": "code",
   "execution_count": 14,
   "metadata": {
    "collapsed": false
   },
   "outputs": [
    {
     "name": "stdout",
     "output_type": "stream",
     "text": [
      "0.215517241379\n",
      "0.41976127321\n",
      "0.604442970822\n",
      "0.832559681698\n"
     ]
    }
   ],
   "source": [
    "for t in [0.05, 0.10, 0.15, 0.25]:\n",
    "    print (evaluate(Y_pred, Y_test, t))"
   ]
  },
  {
   "cell_type": "code",
   "execution_count": 15,
   "metadata": {
    "collapsed": false
   },
   "outputs": [
    {
     "data": {
      "image/png": "[encoded data removed]",
      "text/plain": [
       "<matplotlib.figure.Figure at 0x116cbeed0>"
      ]
     },
     "metadata": {},
     "output_type": "display_data"
    }
   ],
   "source": [
    "make_histogram(x_train['Median Sale Price'], 50)"
   ]
  },
  {
   "cell_type": "code",
   "execution_count": 16,
   "metadata": {
    "collapsed": false
   },
   "outputs": [
    {
     "data": {
      "image/png": "[encoded data removed]",
      "text/plain": [
       "<matplotlib.figure.Figure at 0x116cbee50>"
      ]
     },
     "metadata": {},
     "output_type": "display_data"
    }
   ],
   "source": [
    "make_histogram(x_test['Median Sale Price'], 50)"
   ]
  },
  {
   "cell_type": "markdown",
   "metadata": {},
   "source": [
    "### Least Squares Regression"
   ]
  },
  {
   "cell_type": "code",
   "execution_count": 39,
   "metadata": {
    "collapsed": false
   },
   "outputs": [
    {
     "name": "stdout",
     "output_type": "stream",
     "text": [
      "41.976127321\n"
     ]
    }
   ],
   "source": [
    "least_squares_reg = model(x_train, linear_model.LinearRegression(), 'Median Sale Price')\n",
    "Y_pred, Y_test = predict(x_test, least_squares_reg, 'Median Sale Price')\n",
    "print (evaluate(Y_pred, Y_test, 0.1)*100)"
   ]
  },
  {
   "cell_type": "markdown",
   "metadata": {},
   "source": [
    "### Ridge Regression - penalizes for size of coefficients"
   ]
  },
  {
   "cell_type": "code",
   "execution_count": 40,
   "metadata": {
    "collapsed": false
   },
   "outputs": [
    {
     "data": {
      "image/png": "[encoded data removed]",
      "text/plain": [
       "<matplotlib.figure.Figure at 0x12457c550>"
      ]
     },
     "metadata": {},
     "output_type": "display_data"
    }
   ],
   "source": [
    "alphas = [0.1, 0.2, 0.3, 0.4, 0.5, 0.6, 0.7, 0.8, 0.9, 1.0, 1.1, 1.2, 1.3, 1.4, 1.5, 1.6, 1.7, 1.8, 1.9, 2.0]\n",
    "perf= []\n",
    "\n",
    "for a in alphas:\n",
    "    ridge_reg = model(x_train, linear_model.Ridge(alpha=a), 'Median Sale Price')\n",
    "    Y_pred, Y_test = predict(x_test, ridge_reg, 'Median Sale Price')\n",
    "    perf.append(evaluate(Y_pred, Y_test, 0.1)*100)\n",
    "    \n",
    "plot_accuracy(perf, alphas, title='% Properties Correctly Predicted Within 10% of Actual Price',\n",
    "             xlabel='Alpha', ylabel='Accuracy')"
   ]
  },
  {
   "cell_type": "code",
   "execution_count": 48,
   "metadata": {
    "collapsed": false
   },
   "outputs": [
    {
     "name": "stdout",
     "output_type": "stream",
     "text": [
      "42.0424403183\n"
     ]
    }
   ],
   "source": [
    "ridge_reg = model(x_train, linear_model.Ridge(alpha=0.1), 'Median Sale Price')\n",
    "Y_pred, Y_test = predict(x_test, ridge_reg, 'Median Sale Price')\n",
    "print(evaluate(Y_pred, Y_test, 0.1)*100)"
   ]
  },
  {
   "cell_type": "markdown",
   "metadata": {},
   "source": [
    "### Bayesian Regression - Similar to ridge, can adapt to data better, and includes a regularization parameter"
   ]
  },
  {
   "cell_type": "code",
   "execution_count": 46,
   "metadata": {
    "collapsed": false
   },
   "outputs": [
    {
     "data": {
      "image/png": "[encoded data removed]",
      "text/plain": [
       "<matplotlib.figure.Figure at 0x12451ff10>"
      ]
     },
     "metadata": {},
     "output_type": "display_data"
    }
   ],
   "source": [
    "alphas = [0.1, 0.2, 0.3, 0.4, 0.5, 0.6, 0.7, 0.8, 0.9, 1.0, 1.1, 1.2, 1.3, 1.4, 1.5, 1.6, 1.7, 1.8, 1.9, 2.0]\n",
    "perf= []\n",
    "\n",
    "for a in alphas:\n",
    "    bay_reg = model(x_train, linear_model.BayesianRidge(lambda_1=a), 'Median Sale Price')\n",
    "    Y_pred, Y_test = predict(x_test, bay_reg, 'Median Sale Price')\n",
    "    perf.append(evaluate(Y_pred, Y_test, 0.1)*100)\n",
    "    \n",
    "plot_accuracy(perf, alphas, title='% Properties Correctly Predicted Within 10% of Actual Price',\n",
    "             xlabel='Lambda 1', ylabel='Accuracy')"
   ]
  },
  {
   "cell_type": "code",
   "execution_count": 47,
   "metadata": {
    "collapsed": false
   },
   "outputs": [
    {
     "name": "stdout",
     "output_type": "stream",
     "text": [
      "41.976127321\n"
     ]
    }
   ],
   "source": [
    "bay_reg = model(x_train, linear_model.BayesianRidge(lambda_1=1.5), 'Median Sale Price')\n",
    "Y_pred, Y_test = predict(x_test, bay_reg, 'Median Sale Price')\n",
    "print(evaluate(Y_pred, Y_test, 0.1)*100)"
   ]
  },
  {
   "cell_type": "code",
   "execution_count": 49,
   "metadata": {
    "collapsed": false
   },
   "outputs": [
    {
     "data": {
      "image/png": "[encoded data removed]",
      "text/plain": [
       "<matplotlib.figure.Figure at 0x124421110>"
      ]
     },
     "metadata": {},
     "output_type": "display_data"
    }
   ],
   "source": [
    "alphas = [0.1, 0.2, 0.3, 0.4, 0.5, 0.6, 0.7, 0.8, 0.9, 1.0, 1.1, 1.2, 1.3, 1.4, 1.5, 1.6, 1.7, 1.8, 1.9, 2.0]\n",
    "perf= []\n",
    "\n",
    "for a in alphas:\n",
    "    lasso_reg = model(x_train, linear_model.LassoLars(alpha=a), 'Median Sale Price')\n",
    "    Y_pred, Y_test = predict(x_test, lasso_reg, 'Median Sale Price')\n",
    "    perf.append(evaluate(Y_pred, Y_test, 0.1)*100)\n",
    "    \n",
    "plot_accuracy(perf, alphas, title='% Properties Correctly Predicted Within 10% of Actual Price',\n",
    "             xlabel='Alpha', ylabel='Accuracy')"
   ]
  },
  {
   "cell_type": "code",
   "execution_count": 51,
   "metadata": {
    "collapsed": false
   },
   "outputs": [
    {
     "name": "stdout",
     "output_type": "stream",
     "text": [
      "42.0092838196\n"
     ]
    }
   ],
   "source": [
    "lasso_reg = model(x_train, linear_model.LassoLars(alpha=0.1), 'Median Sale Price')\n",
    "Y_pred, Y_test = predict(x_test, lasso_reg, 'Median Sale Price')\n",
    "print(evaluate(Y_pred, Y_test, 0.1)*100)"
   ]
  },
  {
   "cell_type": "code",
   "execution_count": null,
   "metadata": {
    "collapsed": true
   },
   "outputs": [],
   "source": []
  }
 ],
 "metadata": {
  "anaconda-cloud": {},
  "kernelspec": {
   "display_name": "Python [conda root]",
   "language": "python",
   "name": "conda-root-py"
  },
  "language_info": {
   "codemirror_mode": {
    "name": "ipython",
    "version": 2
   },
   "file_extension": ".py",
   "mimetype": "text/x-python",
   "name": "python",
   "nbconvert_exporter": "python",
   "pygments_lexer": "ipython2",
   "version": "2.7.12"
  }
 },
 "nbformat": 4,
 "nbformat_minor": 1
}

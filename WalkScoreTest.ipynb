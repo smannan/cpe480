{
 "cells": [
  {
   "cell_type": "code",
   "execution_count": 33,
   "metadata": {
    "collapsed": true
   },
   "outputs": [],
   "source": [
    "import numpy as np\n",
    "import pandas as pd\n",
    "import requests\n",
    "import urllib2"
   ]
  },
  {
   "cell_type": "code",
   "execution_count": 28,
   "metadata": {
    "collapsed": true
   },
   "outputs": [],
   "source": [
    "DATA = 'san_jose_property.csv'\n",
    "URL = 'http://api.walkscore.com/score?format=json&'\n",
    "KEY = '91dd9870dc6409263bf4ffacbbe56041'"
   ]
  },
  {
   "cell_type": "code",
   "execution_count": 38,
   "metadata": {
    "collapsed": true
   },
   "outputs": [],
   "source": [
    "def walk_score_call(lat, lon, key, url=URL):\n",
    "    URL = 'http://api.walkscore.com/score?format=json&'\n",
    "    URL += '&address=' + '1%Grand%Avenue%San Luis Obispo, CA 93407'\n",
    "    URL += '&lat=' + str(lat)\n",
    "    URL += '&lon=' + str(lon)\n",
    "    URL += '&wsapikey=' + str(key)\n",
    "    \n",
    "    r = requests.get(URL)\n",
    "    print (r.text)"
   ]
  },
  {
   "cell_type": "code",
   "execution_count": 9,
   "metadata": {
    "collapsed": true
   },
   "outputs": [],
   "source": [
    "def remove_cols(df):\n",
    "    for col in df.columns:\n",
    "        c = col.split(\" \")\n",
    "        if c[-1] == \"MoM\" or c[-1] == \"YoY\": \n",
    "            df = df.drop(col, axis=1)\n",
    "    return (df)"
   ]
  },
  {
   "cell_type": "code",
   "execution_count": 21,
   "metadata": {
    "collapsed": false
   },
   "outputs": [],
   "source": [
    "total = remove_cols(pd.read_csv(DATA))\n",
    "total.drop('location', axis=1, inplace=True)"
   ]
  },
  {
   "cell_type": "code",
   "execution_count": 39,
   "metadata": {
    "collapsed": false
   },
   "outputs": [
    {
     "name": "stdout",
     "output_type": "stream",
     "text": [
      "{\n",
      "\"status\": 2  \n",
      ", \"logo_url\": \"https://cdn.walk.sc/images/api-logo.png\"\n",
      ", \"more_info_icon\": \"https://cdn.walk.sc/images/api-more-info.gif\"\n",
      ", \"more_info_link\": \"https://www.redfin.com/how-walk-score-works\"\n",
      ", \"ws_link\": \"https://www.walkscore.com/score/San-Luis-Obispo-CA-93407/lat=35.305/lng=120.6625/?utm_source=jupyter notebook &utm_medium=ws_api&utm_campaign=ws_api\"\n",
      ", \"help_link\": \"https://www.redfin.com/how-walk-score-works\"\n",
      ", \"snapped_lat\": 35.3055\n",
      ", \"snapped_lon\": 120.6630 \n",
      "\n",
      "\n",
      "\n",
      "\n",
      "\n",
      "}\n"
     ]
    }
   ],
   "source": [
    "walk_score_call(35.3050, 120.6625, KEY)"
   ]
  },
  {
   "cell_type": "code",
   "execution_count": null,
   "metadata": {
    "collapsed": true
   },
   "outputs": [],
   "source": []
  }
 ],
 "metadata": {
  "kernelspec": {
   "display_name": "Python [conda root]",
   "language": "python",
   "name": "conda-root-py"
  },
  "language_info": {
   "codemirror_mode": {
    "name": "ipython",
    "version": 2
   },
   "file_extension": ".py",
   "mimetype": "text/x-python",
   "name": "python",
   "nbconvert_exporter": "python",
   "pygments_lexer": "ipython2",
   "version": "2.7.12"
  }
 },
 "nbformat": 4,
 "nbformat_minor": 1
}
